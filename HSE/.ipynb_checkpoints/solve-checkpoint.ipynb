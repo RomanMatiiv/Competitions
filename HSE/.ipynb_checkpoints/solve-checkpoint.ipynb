{
 "cells": [
  {
   "cell_type": "markdown",
   "metadata": {},
   "source": [
    "Одной из самых простых метрик успешности бизнеса для владельцев кафе и ресторанов является посещаемость их заведения. Это интуитивно понятно - в целом, чем больше клиентов, тем больше прибыль. Соответственно, нужно уметь оценивать этот показатель и понимать, как на него влияют различные параметры, поэтому вам предлагается для решения задача предсказания процента заполненности кафе. В течении дня эта величина может заметно меняться, поэтому приведена информация для обеденного времени в будний день.\n",
    "\n",
    "В данных представлены как характеристики самих заведений, так и описание окружающих их обьектов.\n",
    "\n",
    "Предсказать\n",
    "- **процент заполняемости кафе**\n",
    "\n",
    "Метрика\n",
    "- **MAE**"
   ]
  },
  {
   "cell_type": "markdown",
   "metadata": {},
   "source": [
    "**Описание данных**\n",
    "\n",
    "- Во всех данных -1 - пропуск\n",
    "- price - средний чек\n",
    "- lunch - цена ланча\n",
    "- n_seats - количество посадочных мест\n",
    "- is_net - индикатор сетевого заведения (1 - сетевое, 0 - уникальное)\n",
    "- type - тип заведения - кафе, ресторан и так далее\n",
    "- obj_rayon - район расположения\n",
    "- sumareaLive, meanareaLive - суммарная и средняя площади (в м2) по жилым обьектам в радиусе 500 метров\n",
    "- maxareaLive - площадь самого большого жилого обьекта (в м2) в радиусе 500 метров\n",
    "- sumareaComm, meanareaComm, maxareaComm - параметры для коммерческих обьектов, аналогичные жилым\n",
    "- places_near_300m - количество ресторанов в радиусе 300 метров\n",
    "- metro_near_500m - количество станций метро в радиусе 500 метров\n",
    "- dist_to_metro - расстояние до ближайшей станции метро (в метрах)\n",
    "- something_300m - количество объектов типа 'something' в радиусе 300 метров (всего 250 признаков)"
   ]
  },
  {
   "cell_type": "code",
   "execution_count": 24,
   "metadata": {
    "collapsed": true
   },
   "outputs": [],
   "source": [
    "PATH_TO_DATA=\"/Users/roman/HSE/\"\n",
    "import pandas as pd\n",
    "import numpy as np"
   ]
  },
  {
   "cell_type": "code",
   "execution_count": 25,
   "metadata": {},
   "outputs": [],
   "source": [
    "from sklearn.model_selection import train_test_split\n",
    "from sklearn.metrics import mean_absolute_error\n",
    "import seaborn as sns\n",
    "import matplotlib.pyplot as plt\n",
    "%matplotlib inline\n",
    "\n",
    "from sklearn.linear_model import LinearRegression\n",
    "from xgboost import XGBRegressor\n",
    "from sklearn.ensemble import RandomForestRegressor\n",
    "from sklearn.neighbors import KNeighborsRegressor\n",
    "\n",
    "from sklearn.model_selection import GridSearchCV,KFold"
   ]
  },
  {
   "cell_type": "code",
   "execution_count": 26,
   "metadata": {
    "collapsed": true
   },
   "outputs": [],
   "source": [
    "train=pd.read_csv(PATH_TO_DATA+\"train.csv\",na_values=-1)\n",
    "test=pd.read_csv(PATH_TO_DATA+\"test.csv\",na_values=-1)\n",
    "\n",
    "train_ans=pd.read_csv(PATH_TO_DATA+\"answers_train.csv\",header=None,index_col=0)"
   ]
  },
  {
   "cell_type": "code",
   "execution_count": 27,
   "metadata": {},
   "outputs": [
    {
     "data": {
      "text/plain": [
       "((313, 265), (105, 265))"
      ]
     },
     "execution_count": 27,
     "metadata": {},
     "output_type": "execute_result"
    }
   ],
   "source": [
    "train.shape,test.shape"
   ]
  },
  {
   "cell_type": "code",
   "execution_count": 28,
   "metadata": {},
   "outputs": [
    {
     "data": {
      "text/plain": [
       "lunch    True\n",
       "dtype: bool"
      ]
     },
     "execution_count": 28,
     "metadata": {},
     "output_type": "execute_result"
    }
   ],
   "source": [
    "#Пропуски только в столбце lunch \n",
    "train.isnull().any()[train.isnull().any()]"
   ]
  },
  {
   "cell_type": "code",
   "execution_count": 29,
   "metadata": {
    "collapsed": true
   },
   "outputs": [],
   "source": [
    "#Добавлние целевого столбца в train\n",
    "train=pd.concat([train,train_ans],axis=1)\n",
    "\n",
    "collumns=list(train.columns.values)\n",
    "collumns.remove(1)\n",
    "collumns.append(\"answer\")\n",
    "\n",
    "train.columns=collumns"
   ]
  },
  {
   "cell_type": "code",
   "execution_count": 30,
   "metadata": {},
   "outputs": [
    {
     "data": {
      "text/html": [
       "<div>\n",
       "<style>\n",
       "    .dataframe thead tr:only-child th {\n",
       "        text-align: right;\n",
       "    }\n",
       "\n",
       "    .dataframe thead th {\n",
       "        text-align: left;\n",
       "    }\n",
       "\n",
       "    .dataframe tbody tr th {\n",
       "        vertical-align: top;\n",
       "    }\n",
       "</style>\n",
       "<table border=\"1\" class=\"dataframe\">\n",
       "  <thead>\n",
       "    <tr style=\"text-align: right;\">\n",
       "      <th></th>\n",
       "      <th>price</th>\n",
       "      <th>lunch</th>\n",
       "      <th>obj_rayon</th>\n",
       "      <th>n_seats</th>\n",
       "      <th>is_net</th>\n",
       "      <th>type</th>\n",
       "      <th>sumareaLive</th>\n",
       "      <th>sumareaComm</th>\n",
       "      <th>meanareaLive</th>\n",
       "      <th>meanareaComm</th>\n",
       "      <th>...</th>\n",
       "      <th>Школа искусств_300m</th>\n",
       "      <th>Школа танцев_300m</th>\n",
       "      <th>Экспертиза_300m</th>\n",
       "      <th>Электромонтажные работы_300m</th>\n",
       "      <th>Электротехническая продукция_300m</th>\n",
       "      <th>Ювелирная мастерская_300m</th>\n",
       "      <th>Ювелирный магазин_300m</th>\n",
       "      <th>Юридические услуги_300m</th>\n",
       "      <th>прочее_300m</th>\n",
       "      <th>answer</th>\n",
       "    </tr>\n",
       "    <tr>\n",
       "      <th>0</th>\n",
       "      <th></th>\n",
       "      <th></th>\n",
       "      <th></th>\n",
       "      <th></th>\n",
       "      <th></th>\n",
       "      <th></th>\n",
       "      <th></th>\n",
       "      <th></th>\n",
       "      <th></th>\n",
       "      <th></th>\n",
       "      <th></th>\n",
       "      <th></th>\n",
       "      <th></th>\n",
       "      <th></th>\n",
       "      <th></th>\n",
       "      <th></th>\n",
       "      <th></th>\n",
       "      <th></th>\n",
       "      <th></th>\n",
       "      <th></th>\n",
       "      <th></th>\n",
       "    </tr>\n",
       "  </thead>\n",
       "  <tbody>\n",
       "    <tr>\n",
       "      <th>0</th>\n",
       "      <td>250</td>\n",
       "      <td>NaN</td>\n",
       "      <td>7</td>\n",
       "      <td>210</td>\n",
       "      <td>1</td>\n",
       "      <td>4</td>\n",
       "      <td>122006</td>\n",
       "      <td>466864</td>\n",
       "      <td>334</td>\n",
       "      <td>1279</td>\n",
       "      <td>...</td>\n",
       "      <td>0</td>\n",
       "      <td>2</td>\n",
       "      <td>0</td>\n",
       "      <td>1</td>\n",
       "      <td>0</td>\n",
       "      <td>0</td>\n",
       "      <td>1</td>\n",
       "      <td>9</td>\n",
       "      <td>0</td>\n",
       "      <td>100</td>\n",
       "    </tr>\n",
       "    <tr>\n",
       "      <th>1</th>\n",
       "      <td>1500</td>\n",
       "      <td>250.0</td>\n",
       "      <td>5</td>\n",
       "      <td>60</td>\n",
       "      <td>0</td>\n",
       "      <td>5</td>\n",
       "      <td>361055</td>\n",
       "      <td>753622</td>\n",
       "      <td>898</td>\n",
       "      <td>1875</td>\n",
       "      <td>...</td>\n",
       "      <td>1</td>\n",
       "      <td>1</td>\n",
       "      <td>0</td>\n",
       "      <td>1</td>\n",
       "      <td>0</td>\n",
       "      <td>3</td>\n",
       "      <td>0</td>\n",
       "      <td>8</td>\n",
       "      <td>1</td>\n",
       "      <td>52</td>\n",
       "    </tr>\n",
       "  </tbody>\n",
       "</table>\n",
       "<p>2 rows × 266 columns</p>\n",
       "</div>"
      ],
      "text/plain": [
       "   price  lunch  obj_rayon  n_seats  is_net  type  sumareaLive  sumareaComm  \\\n",
       "0                                                                             \n",
       "0    250    NaN          7      210       1     4       122006       466864   \n",
       "1   1500  250.0          5       60       0     5       361055       753622   \n",
       "\n",
       "   meanareaLive  meanareaComm   ...    Школа искусств_300m  Школа танцев_300m  \\\n",
       "0                               ...                                             \n",
       "0           334          1279   ...                      0                  2   \n",
       "1           898          1875   ...                      1                  1   \n",
       "\n",
       "   Экспертиза_300m  Электромонтажные работы_300m  \\\n",
       "0                                                  \n",
       "0                0                             1   \n",
       "1                0                             1   \n",
       "\n",
       "   Электротехническая продукция_300m  Ювелирная мастерская_300m  \\\n",
       "0                                                                 \n",
       "0                                  0                          0   \n",
       "1                                  0                          3   \n",
       "\n",
       "   Ювелирный магазин_300m  Юридические услуги_300m  прочее_300m  answer  \n",
       "0                                                                        \n",
       "0                       1                        9            0     100  \n",
       "1                       0                        8            1      52  \n",
       "\n",
       "[2 rows x 266 columns]"
      ]
     },
     "execution_count": 30,
     "metadata": {},
     "output_type": "execute_result"
    }
   ],
   "source": [
    "train.head(2)"
   ]
  },
  {
   "cell_type": "markdown",
   "metadata": {},
   "source": [
    "### 1 try"
   ]
  },
  {
   "cell_type": "code",
   "execution_count": 31,
   "metadata": {},
   "outputs": [
    {
     "data": {
      "text/plain": [
       "((219, 264), (94, 264))"
      ]
     },
     "execution_count": 31,
     "metadata": {},
     "output_type": "execute_result"
    }
   ],
   "source": [
    "X_train,X_valid,y_train,y_valid=train_test_split(train.drop([\"answer\",\"lunch\"],axis=1),train[\"answer\"],test_size=0.3,random_state=17)\n",
    "X_train.shape,X_valid.shape"
   ]
  },
  {
   "cell_type": "code",
   "execution_count": 32,
   "metadata": {
    "collapsed": true
   },
   "outputs": [],
   "source": [
    "lr=LinearRegression(n_jobs=-1)\n",
    "xgb=XGBRegressor(seed=17,nthread=-1)\n",
    "rf=RandomForestRegressor(random_state=17,n_jobs=-1,criterion=\"mae\")"
   ]
  },
  {
   "cell_type": "code",
   "execution_count": 33,
   "metadata": {
    "collapsed": true
   },
   "outputs": [],
   "source": [
    "lr.fit(X_train,y_train)\n",
    "xgb.fit(X_train,y_train)\n",
    "rf.fit(X_train,y_train);"
   ]
  },
  {
   "cell_type": "code",
   "execution_count": 34,
   "metadata": {},
   "outputs": [
    {
     "data": {
      "text/plain": [
       "406010389.76059753"
      ]
     },
     "execution_count": 34,
     "metadata": {},
     "output_type": "execute_result"
    }
   ],
   "source": [
    "#lr\n",
    "predict=lr.predict(X_valid)\n",
    "mean_absolute_error(y_valid,predict)"
   ]
  },
  {
   "cell_type": "code",
   "execution_count": 35,
   "metadata": {},
   "outputs": [
    {
     "data": {
      "text/plain": [
       "18.657306082705233"
      ]
     },
     "execution_count": 35,
     "metadata": {},
     "output_type": "execute_result"
    }
   ],
   "source": [
    "#xgb\n",
    "predict=xgb.predict(X_valid)\n",
    "mean_absolute_error(y_valid,predict)"
   ]
  },
  {
   "cell_type": "code",
   "execution_count": 36,
   "metadata": {},
   "outputs": [
    {
     "data": {
      "text/plain": [
       "18.508510638297874"
      ]
     },
     "execution_count": 36,
     "metadata": {},
     "output_type": "execute_result"
    }
   ],
   "source": [
    "#rf\n",
    "predict=rf.predict(X_valid)\n",
    "mean_absolute_error(y_valid,predict)"
   ]
  },
  {
   "cell_type": "markdown",
   "metadata": {},
   "source": [
    "Без предобработки randomForest показал себя лучше всех"
   ]
  },
  {
   "cell_type": "markdown",
   "metadata": {},
   "source": [
    "### EDA"
   ]
  },
  {
   "cell_type": "code",
   "execution_count": 37,
   "metadata": {
    "scrolled": true
   },
   "outputs": [
    {
     "data": {
      "text/html": [
       "<div>\n",
       "<style>\n",
       "    .dataframe thead tr:only-child th {\n",
       "        text-align: right;\n",
       "    }\n",
       "\n",
       "    .dataframe thead th {\n",
       "        text-align: left;\n",
       "    }\n",
       "\n",
       "    .dataframe tbody tr th {\n",
       "        vertical-align: top;\n",
       "    }\n",
       "</style>\n",
       "<table border=\"1\" class=\"dataframe\">\n",
       "  <thead>\n",
       "    <tr style=\"text-align: right;\">\n",
       "      <th></th>\n",
       "      <th>count</th>\n",
       "      <th>mean</th>\n",
       "      <th>std</th>\n",
       "      <th>min</th>\n",
       "      <th>25%</th>\n",
       "      <th>50%</th>\n",
       "      <th>75%</th>\n",
       "      <th>max</th>\n",
       "    </tr>\n",
       "  </thead>\n",
       "  <tbody>\n",
       "    <tr>\n",
       "      <th>price</th>\n",
       "      <td>313.0</td>\n",
       "      <td>1182.428115</td>\n",
       "      <td>768.003478</td>\n",
       "      <td>150.000000</td>\n",
       "      <td>600.000000</td>\n",
       "      <td>1000.000000</td>\n",
       "      <td>1500.000000</td>\n",
       "      <td>5.000000e+03</td>\n",
       "    </tr>\n",
       "    <tr>\n",
       "      <th>lunch</th>\n",
       "      <td>150.0</td>\n",
       "      <td>336.080000</td>\n",
       "      <td>169.710789</td>\n",
       "      <td>99.000000</td>\n",
       "      <td>250.000000</td>\n",
       "      <td>300.000000</td>\n",
       "      <td>350.000000</td>\n",
       "      <td>1.400000e+03</td>\n",
       "    </tr>\n",
       "    <tr>\n",
       "      <th>obj_rayon</th>\n",
       "      <td>313.0</td>\n",
       "      <td>3.201278</td>\n",
       "      <td>2.361768</td>\n",
       "      <td>0.000000</td>\n",
       "      <td>1.000000</td>\n",
       "      <td>3.000000</td>\n",
       "      <td>5.000000</td>\n",
       "      <td>8.000000e+00</td>\n",
       "    </tr>\n",
       "    <tr>\n",
       "      <th>n_seats</th>\n",
       "      <td>313.0</td>\n",
       "      <td>78.035144</td>\n",
       "      <td>69.996443</td>\n",
       "      <td>0.000000</td>\n",
       "      <td>40.000000</td>\n",
       "      <td>60.000000</td>\n",
       "      <td>90.000000</td>\n",
       "      <td>5.800000e+02</td>\n",
       "    </tr>\n",
       "    <tr>\n",
       "      <th>is_net</th>\n",
       "      <td>313.0</td>\n",
       "      <td>0.261981</td>\n",
       "      <td>0.440416</td>\n",
       "      <td>0.000000</td>\n",
       "      <td>0.000000</td>\n",
       "      <td>0.000000</td>\n",
       "      <td>1.000000</td>\n",
       "      <td>1.000000e+00</td>\n",
       "    </tr>\n",
       "    <tr>\n",
       "      <th>type</th>\n",
       "      <td>313.0</td>\n",
       "      <td>2.453674</td>\n",
       "      <td>1.965714</td>\n",
       "      <td>0.000000</td>\n",
       "      <td>1.000000</td>\n",
       "      <td>1.000000</td>\n",
       "      <td>5.000000</td>\n",
       "      <td>6.000000e+00</td>\n",
       "    </tr>\n",
       "    <tr>\n",
       "      <th>sumareaLive</th>\n",
       "      <td>313.0</td>\n",
       "      <td>243815.709265</td>\n",
       "      <td>102605.004261</td>\n",
       "      <td>52717.000000</td>\n",
       "      <td>157953.000000</td>\n",
       "      <td>246581.000000</td>\n",
       "      <td>316726.000000</td>\n",
       "      <td>4.465000e+05</td>\n",
       "    </tr>\n",
       "    <tr>\n",
       "      <th>sumareaComm</th>\n",
       "      <td>313.0</td>\n",
       "      <td>716715.418530</td>\n",
       "      <td>195276.418134</td>\n",
       "      <td>324091.000000</td>\n",
       "      <td>558339.000000</td>\n",
       "      <td>730220.000000</td>\n",
       "      <td>873388.000000</td>\n",
       "      <td>1.247684e+06</td>\n",
       "    </tr>\n",
       "    <tr>\n",
       "      <th>meanareaLive</th>\n",
       "      <td>313.0</td>\n",
       "      <td>643.584665</td>\n",
       "      <td>314.531010</td>\n",
       "      <td>169.000000</td>\n",
       "      <td>364.000000</td>\n",
       "      <td>613.000000</td>\n",
       "      <td>801.000000</td>\n",
       "      <td>1.690000e+03</td>\n",
       "    </tr>\n",
       "    <tr>\n",
       "      <th>meanareaComm</th>\n",
       "      <td>313.0</td>\n",
       "      <td>1897.431310</td>\n",
       "      <td>612.701779</td>\n",
       "      <td>1033.000000</td>\n",
       "      <td>1390.000000</td>\n",
       "      <td>1893.000000</td>\n",
       "      <td>2260.000000</td>\n",
       "      <td>4.503000e+03</td>\n",
       "    </tr>\n",
       "    <tr>\n",
       "      <th>maxareaLive</th>\n",
       "      <td>313.0</td>\n",
       "      <td>15445.092652</td>\n",
       "      <td>6180.901123</td>\n",
       "      <td>5414.000000</td>\n",
       "      <td>12682.000000</td>\n",
       "      <td>14005.000000</td>\n",
       "      <td>16113.000000</td>\n",
       "      <td>3.400900e+04</td>\n",
       "    </tr>\n",
       "    <tr>\n",
       "      <th>maxareaComm</th>\n",
       "      <td>313.0</td>\n",
       "      <td>45396.201278</td>\n",
       "      <td>21569.490162</td>\n",
       "      <td>13869.000000</td>\n",
       "      <td>32343.000000</td>\n",
       "      <td>39562.000000</td>\n",
       "      <td>51076.000000</td>\n",
       "      <td>1.290700e+05</td>\n",
       "    </tr>\n",
       "    <tr>\n",
       "      <th>metro_near_500m</th>\n",
       "      <td>313.0</td>\n",
       "      <td>1.702875</td>\n",
       "      <td>1.153822</td>\n",
       "      <td>0.000000</td>\n",
       "      <td>1.000000</td>\n",
       "      <td>2.000000</td>\n",
       "      <td>3.000000</td>\n",
       "      <td>4.000000e+00</td>\n",
       "    </tr>\n",
       "    <tr>\n",
       "      <th>places_near_300m</th>\n",
       "      <td>313.0</td>\n",
       "      <td>22.054313</td>\n",
       "      <td>8.271064</td>\n",
       "      <td>5.000000</td>\n",
       "      <td>16.000000</td>\n",
       "      <td>21.000000</td>\n",
       "      <td>28.000000</td>\n",
       "      <td>4.600000e+01</td>\n",
       "    </tr>\n",
       "    <tr>\n",
       "      <th>dist_to_metro</th>\n",
       "      <td>313.0</td>\n",
       "      <td>281.008230</td>\n",
       "      <td>210.259562</td>\n",
       "      <td>6.859081</td>\n",
       "      <td>113.516221</td>\n",
       "      <td>201.684732</td>\n",
       "      <td>386.774466</td>\n",
       "      <td>7.947375e+02</td>\n",
       "    </tr>\n",
       "    <tr>\n",
       "      <th>IT-компания_300m</th>\n",
       "      <td>313.0</td>\n",
       "      <td>2.651757</td>\n",
       "      <td>2.364970</td>\n",
       "      <td>0.000000</td>\n",
       "      <td>1.000000</td>\n",
       "      <td>2.000000</td>\n",
       "      <td>4.000000</td>\n",
       "      <td>9.000000e+00</td>\n",
       "    </tr>\n",
       "    <tr>\n",
       "      <th>PR-агентство_300m</th>\n",
       "      <td>313.0</td>\n",
       "      <td>0.600639</td>\n",
       "      <td>0.907730</td>\n",
       "      <td>0.000000</td>\n",
       "      <td>0.000000</td>\n",
       "      <td>0.000000</td>\n",
       "      <td>1.000000</td>\n",
       "      <td>5.000000e+00</td>\n",
       "    </tr>\n",
       "    <tr>\n",
       "      <th>Wi-Fi хот-спот_300m</th>\n",
       "      <td>313.0</td>\n",
       "      <td>2.984026</td>\n",
       "      <td>1.984653</td>\n",
       "      <td>0.000000</td>\n",
       "      <td>1.000000</td>\n",
       "      <td>3.000000</td>\n",
       "      <td>4.000000</td>\n",
       "      <td>1.000000e+01</td>\n",
       "    </tr>\n",
       "    <tr>\n",
       "      <th>Автоматизация производств_300m</th>\n",
       "      <td>313.0</td>\n",
       "      <td>0.495208</td>\n",
       "      <td>0.916800</td>\n",
       "      <td>0.000000</td>\n",
       "      <td>0.000000</td>\n",
       "      <td>0.000000</td>\n",
       "      <td>1.000000</td>\n",
       "      <td>4.000000e+00</td>\n",
       "    </tr>\n",
       "    <tr>\n",
       "      <th>Автомобильная парковка_300m</th>\n",
       "      <td>313.0</td>\n",
       "      <td>13.987220</td>\n",
       "      <td>6.724894</td>\n",
       "      <td>2.000000</td>\n",
       "      <td>10.000000</td>\n",
       "      <td>13.000000</td>\n",
       "      <td>17.000000</td>\n",
       "      <td>4.300000e+01</td>\n",
       "    </tr>\n",
       "    <tr>\n",
       "      <th>Автомобильные грузоперевозки_300m</th>\n",
       "      <td>313.0</td>\n",
       "      <td>1.124601</td>\n",
       "      <td>1.342286</td>\n",
       "      <td>0.000000</td>\n",
       "      <td>0.000000</td>\n",
       "      <td>1.000000</td>\n",
       "      <td>2.000000</td>\n",
       "      <td>5.000000e+00</td>\n",
       "    </tr>\n",
       "    <tr>\n",
       "      <th>Автошкола_300m</th>\n",
       "      <td>313.0</td>\n",
       "      <td>0.447284</td>\n",
       "      <td>0.976290</td>\n",
       "      <td>0.000000</td>\n",
       "      <td>0.000000</td>\n",
       "      <td>0.000000</td>\n",
       "      <td>0.000000</td>\n",
       "      <td>6.000000e+00</td>\n",
       "    </tr>\n",
       "    <tr>\n",
       "      <th>Агентство недвижимости_300m</th>\n",
       "      <td>313.0</td>\n",
       "      <td>9.434505</td>\n",
       "      <td>6.197318</td>\n",
       "      <td>0.000000</td>\n",
       "      <td>5.000000</td>\n",
       "      <td>8.000000</td>\n",
       "      <td>12.000000</td>\n",
       "      <td>3.400000e+01</td>\n",
       "    </tr>\n",
       "    <tr>\n",
       "      <th>Адвокаты_300m</th>\n",
       "      <td>313.0</td>\n",
       "      <td>5.434505</td>\n",
       "      <td>4.314149</td>\n",
       "      <td>0.000000</td>\n",
       "      <td>3.000000</td>\n",
       "      <td>4.000000</td>\n",
       "      <td>7.000000</td>\n",
       "      <td>2.800000e+01</td>\n",
       "    </tr>\n",
       "    <tr>\n",
       "      <th>Администрация_300m</th>\n",
       "      <td>313.0</td>\n",
       "      <td>1.028754</td>\n",
       "      <td>1.651283</td>\n",
       "      <td>0.000000</td>\n",
       "      <td>0.000000</td>\n",
       "      <td>1.000000</td>\n",
       "      <td>2.000000</td>\n",
       "      <td>1.100000e+01</td>\n",
       "    </tr>\n",
       "    <tr>\n",
       "      <th>Антикварный магазин_300m</th>\n",
       "      <td>313.0</td>\n",
       "      <td>0.702875</td>\n",
       "      <td>0.982813</td>\n",
       "      <td>0.000000</td>\n",
       "      <td>0.000000</td>\n",
       "      <td>0.000000</td>\n",
       "      <td>1.000000</td>\n",
       "      <td>4.000000e+00</td>\n",
       "    </tr>\n",
       "    <tr>\n",
       "      <th>Аптека_300m</th>\n",
       "      <td>313.0</td>\n",
       "      <td>2.504792</td>\n",
       "      <td>1.770704</td>\n",
       "      <td>0.000000</td>\n",
       "      <td>1.000000</td>\n",
       "      <td>2.000000</td>\n",
       "      <td>3.000000</td>\n",
       "      <td>8.000000e+00</td>\n",
       "    </tr>\n",
       "    <tr>\n",
       "      <th>Архитектурное бюро_300m</th>\n",
       "      <td>313.0</td>\n",
       "      <td>2.277955</td>\n",
       "      <td>1.791019</td>\n",
       "      <td>0.000000</td>\n",
       "      <td>1.000000</td>\n",
       "      <td>2.000000</td>\n",
       "      <td>3.000000</td>\n",
       "      <td>1.100000e+01</td>\n",
       "    </tr>\n",
       "    <tr>\n",
       "      <th>Ассоциации и промышленные союзы_300m</th>\n",
       "      <td>313.0</td>\n",
       "      <td>0.945687</td>\n",
       "      <td>1.187646</td>\n",
       "      <td>0.000000</td>\n",
       "      <td>0.000000</td>\n",
       "      <td>1.000000</td>\n",
       "      <td>1.000000</td>\n",
       "      <td>5.000000e+00</td>\n",
       "    </tr>\n",
       "    <tr>\n",
       "      <th>Ателье по пошиву и ремонту одежды_300m</th>\n",
       "      <td>313.0</td>\n",
       "      <td>2.284345</td>\n",
       "      <td>1.991724</td>\n",
       "      <td>0.000000</td>\n",
       "      <td>1.000000</td>\n",
       "      <td>2.000000</td>\n",
       "      <td>3.000000</td>\n",
       "      <td>9.000000e+00</td>\n",
       "    </tr>\n",
       "    <tr>\n",
       "      <th>...</th>\n",
       "      <td>...</td>\n",
       "      <td>...</td>\n",
       "      <td>...</td>\n",
       "      <td>...</td>\n",
       "      <td>...</td>\n",
       "      <td>...</td>\n",
       "      <td>...</td>\n",
       "      <td>...</td>\n",
       "    </tr>\n",
       "    <tr>\n",
       "      <th>Точка продажи прессы_300m</th>\n",
       "      <td>313.0</td>\n",
       "      <td>0.523962</td>\n",
       "      <td>0.854982</td>\n",
       "      <td>0.000000</td>\n",
       "      <td>0.000000</td>\n",
       "      <td>0.000000</td>\n",
       "      <td>1.000000</td>\n",
       "      <td>3.000000e+00</td>\n",
       "    </tr>\n",
       "    <tr>\n",
       "      <th>Тренинги_300m</th>\n",
       "      <td>313.0</td>\n",
       "      <td>1.571885</td>\n",
       "      <td>1.629685</td>\n",
       "      <td>0.000000</td>\n",
       "      <td>0.000000</td>\n",
       "      <td>1.000000</td>\n",
       "      <td>2.000000</td>\n",
       "      <td>7.000000e+00</td>\n",
       "    </tr>\n",
       "    <tr>\n",
       "      <th>Туалет_300m</th>\n",
       "      <td>313.0</td>\n",
       "      <td>0.648562</td>\n",
       "      <td>1.105554</td>\n",
       "      <td>0.000000</td>\n",
       "      <td>0.000000</td>\n",
       "      <td>0.000000</td>\n",
       "      <td>1.000000</td>\n",
       "      <td>5.000000e+00</td>\n",
       "    </tr>\n",
       "    <tr>\n",
       "      <th>Турагентство_300m</th>\n",
       "      <td>313.0</td>\n",
       "      <td>16.399361</td>\n",
       "      <td>14.506086</td>\n",
       "      <td>1.000000</td>\n",
       "      <td>6.000000</td>\n",
       "      <td>12.000000</td>\n",
       "      <td>20.000000</td>\n",
       "      <td>6.800000e+01</td>\n",
       "    </tr>\n",
       "    <tr>\n",
       "      <th>Туроператор_300m</th>\n",
       "      <td>313.0</td>\n",
       "      <td>3.370607</td>\n",
       "      <td>2.917130</td>\n",
       "      <td>0.000000</td>\n",
       "      <td>1.000000</td>\n",
       "      <td>2.000000</td>\n",
       "      <td>5.000000</td>\n",
       "      <td>1.300000e+01</td>\n",
       "    </tr>\n",
       "    <tr>\n",
       "      <th>Управляющая компания_300m</th>\n",
       "      <td>313.0</td>\n",
       "      <td>1.642173</td>\n",
       "      <td>1.134996</td>\n",
       "      <td>0.000000</td>\n",
       "      <td>1.000000</td>\n",
       "      <td>2.000000</td>\n",
       "      <td>2.000000</td>\n",
       "      <td>6.000000e+00</td>\n",
       "    </tr>\n",
       "    <tr>\n",
       "      <th>Услуги репетиторов_300m</th>\n",
       "      <td>313.0</td>\n",
       "      <td>0.795527</td>\n",
       "      <td>1.045310</td>\n",
       "      <td>0.000000</td>\n",
       "      <td>0.000000</td>\n",
       "      <td>0.000000</td>\n",
       "      <td>1.000000</td>\n",
       "      <td>5.000000e+00</td>\n",
       "    </tr>\n",
       "    <tr>\n",
       "      <th>Услуги частных специалистов_300m</th>\n",
       "      <td>313.0</td>\n",
       "      <td>0.811502</td>\n",
       "      <td>0.835661</td>\n",
       "      <td>0.000000</td>\n",
       "      <td>0.000000</td>\n",
       "      <td>1.000000</td>\n",
       "      <td>1.000000</td>\n",
       "      <td>4.000000e+00</td>\n",
       "    </tr>\n",
       "    <tr>\n",
       "      <th>Установка, ремонт и вскрытие замков_300m</th>\n",
       "      <td>313.0</td>\n",
       "      <td>0.511182</td>\n",
       "      <td>0.716587</td>\n",
       "      <td>0.000000</td>\n",
       "      <td>0.000000</td>\n",
       "      <td>0.000000</td>\n",
       "      <td>1.000000</td>\n",
       "      <td>2.000000e+00</td>\n",
       "    </tr>\n",
       "    <tr>\n",
       "      <th>Учебный центр_300m</th>\n",
       "      <td>313.0</td>\n",
       "      <td>1.613419</td>\n",
       "      <td>1.694849</td>\n",
       "      <td>0.000000</td>\n",
       "      <td>0.000000</td>\n",
       "      <td>1.000000</td>\n",
       "      <td>2.000000</td>\n",
       "      <td>1.000000e+01</td>\n",
       "    </tr>\n",
       "    <tr>\n",
       "      <th>Фармацевтическая компания_300m</th>\n",
       "      <td>313.0</td>\n",
       "      <td>0.654952</td>\n",
       "      <td>1.010735</td>\n",
       "      <td>0.000000</td>\n",
       "      <td>0.000000</td>\n",
       "      <td>0.000000</td>\n",
       "      <td>1.000000</td>\n",
       "      <td>4.000000e+00</td>\n",
       "    </tr>\n",
       "    <tr>\n",
       "      <th>Финансовый консалтинг_300m</th>\n",
       "      <td>313.0</td>\n",
       "      <td>0.888179</td>\n",
       "      <td>1.183604</td>\n",
       "      <td>0.000000</td>\n",
       "      <td>0.000000</td>\n",
       "      <td>0.000000</td>\n",
       "      <td>1.000000</td>\n",
       "      <td>5.000000e+00</td>\n",
       "    </tr>\n",
       "    <tr>\n",
       "      <th>Фитнес-клуб_300m</th>\n",
       "      <td>313.0</td>\n",
       "      <td>0.731629</td>\n",
       "      <td>0.890579</td>\n",
       "      <td>0.000000</td>\n",
       "      <td>0.000000</td>\n",
       "      <td>0.000000</td>\n",
       "      <td>1.000000</td>\n",
       "      <td>4.000000e+00</td>\n",
       "    </tr>\n",
       "    <tr>\n",
       "      <th>Фитопродукция, БАДы_300m</th>\n",
       "      <td>313.0</td>\n",
       "      <td>1.070288</td>\n",
       "      <td>0.971474</td>\n",
       "      <td>0.000000</td>\n",
       "      <td>0.000000</td>\n",
       "      <td>1.000000</td>\n",
       "      <td>2.000000</td>\n",
       "      <td>4.000000e+00</td>\n",
       "    </tr>\n",
       "    <tr>\n",
       "      <th>Фотоуслуги_300m</th>\n",
       "      <td>313.0</td>\n",
       "      <td>2.108626</td>\n",
       "      <td>1.795924</td>\n",
       "      <td>0.000000</td>\n",
       "      <td>1.000000</td>\n",
       "      <td>2.000000</td>\n",
       "      <td>3.000000</td>\n",
       "      <td>7.000000e+00</td>\n",
       "    </tr>\n",
       "    <tr>\n",
       "      <th>Химчистка_300m</th>\n",
       "      <td>313.0</td>\n",
       "      <td>1.134185</td>\n",
       "      <td>0.981176</td>\n",
       "      <td>0.000000</td>\n",
       "      <td>0.000000</td>\n",
       "      <td>1.000000</td>\n",
       "      <td>2.000000</td>\n",
       "      <td>4.000000e+00</td>\n",
       "    </tr>\n",
       "    <tr>\n",
       "      <th>Хостел_300m</th>\n",
       "      <td>313.0</td>\n",
       "      <td>2.444089</td>\n",
       "      <td>2.278151</td>\n",
       "      <td>0.000000</td>\n",
       "      <td>1.000000</td>\n",
       "      <td>2.000000</td>\n",
       "      <td>4.000000</td>\n",
       "      <td>1.000000e+01</td>\n",
       "    </tr>\n",
       "    <tr>\n",
       "      <th>Художественная мастерская_300m</th>\n",
       "      <td>313.0</td>\n",
       "      <td>1.137380</td>\n",
       "      <td>1.397219</td>\n",
       "      <td>0.000000</td>\n",
       "      <td>0.000000</td>\n",
       "      <td>1.000000</td>\n",
       "      <td>2.000000</td>\n",
       "      <td>7.000000e+00</td>\n",
       "    </tr>\n",
       "    <tr>\n",
       "      <th>Центр йоги_300m</th>\n",
       "      <td>313.0</td>\n",
       "      <td>0.853035</td>\n",
       "      <td>1.309775</td>\n",
       "      <td>0.000000</td>\n",
       "      <td>0.000000</td>\n",
       "      <td>0.000000</td>\n",
       "      <td>1.000000</td>\n",
       "      <td>4.000000e+00</td>\n",
       "    </tr>\n",
       "    <tr>\n",
       "      <th>Центр повышения квалификации_300m</th>\n",
       "      <td>313.0</td>\n",
       "      <td>0.383387</td>\n",
       "      <td>0.625304</td>\n",
       "      <td>0.000000</td>\n",
       "      <td>0.000000</td>\n",
       "      <td>0.000000</td>\n",
       "      <td>1.000000</td>\n",
       "      <td>3.000000e+00</td>\n",
       "    </tr>\n",
       "    <tr>\n",
       "      <th>Школа искусств_300m</th>\n",
       "      <td>313.0</td>\n",
       "      <td>0.936102</td>\n",
       "      <td>1.001156</td>\n",
       "      <td>0.000000</td>\n",
       "      <td>0.000000</td>\n",
       "      <td>1.000000</td>\n",
       "      <td>1.000000</td>\n",
       "      <td>4.000000e+00</td>\n",
       "    </tr>\n",
       "    <tr>\n",
       "      <th>Школа танцев_300m</th>\n",
       "      <td>313.0</td>\n",
       "      <td>2.025559</td>\n",
       "      <td>3.324248</td>\n",
       "      <td>0.000000</td>\n",
       "      <td>0.000000</td>\n",
       "      <td>1.000000</td>\n",
       "      <td>2.000000</td>\n",
       "      <td>1.600000e+01</td>\n",
       "    </tr>\n",
       "    <tr>\n",
       "      <th>Экспертиза_300m</th>\n",
       "      <td>313.0</td>\n",
       "      <td>0.939297</td>\n",
       "      <td>1.402661</td>\n",
       "      <td>0.000000</td>\n",
       "      <td>0.000000</td>\n",
       "      <td>1.000000</td>\n",
       "      <td>1.000000</td>\n",
       "      <td>9.000000e+00</td>\n",
       "    </tr>\n",
       "    <tr>\n",
       "      <th>Электромонтажные работы_300m</th>\n",
       "      <td>313.0</td>\n",
       "      <td>0.658147</td>\n",
       "      <td>0.721514</td>\n",
       "      <td>0.000000</td>\n",
       "      <td>0.000000</td>\n",
       "      <td>1.000000</td>\n",
       "      <td>1.000000</td>\n",
       "      <td>3.000000e+00</td>\n",
       "    </tr>\n",
       "    <tr>\n",
       "      <th>Электротехническая продукция_300m</th>\n",
       "      <td>313.0</td>\n",
       "      <td>0.482428</td>\n",
       "      <td>0.792904</td>\n",
       "      <td>0.000000</td>\n",
       "      <td>0.000000</td>\n",
       "      <td>0.000000</td>\n",
       "      <td>1.000000</td>\n",
       "      <td>4.000000e+00</td>\n",
       "    </tr>\n",
       "    <tr>\n",
       "      <th>Ювелирная мастерская_300m</th>\n",
       "      <td>313.0</td>\n",
       "      <td>0.782748</td>\n",
       "      <td>1.042720</td>\n",
       "      <td>0.000000</td>\n",
       "      <td>0.000000</td>\n",
       "      <td>0.000000</td>\n",
       "      <td>1.000000</td>\n",
       "      <td>4.000000e+00</td>\n",
       "    </tr>\n",
       "    <tr>\n",
       "      <th>Ювелирный магазин_300m</th>\n",
       "      <td>313.0</td>\n",
       "      <td>2.102236</td>\n",
       "      <td>2.114304</td>\n",
       "      <td>0.000000</td>\n",
       "      <td>0.000000</td>\n",
       "      <td>2.000000</td>\n",
       "      <td>3.000000</td>\n",
       "      <td>1.500000e+01</td>\n",
       "    </tr>\n",
       "    <tr>\n",
       "      <th>Юридические услуги_300m</th>\n",
       "      <td>313.0</td>\n",
       "      <td>13.616613</td>\n",
       "      <td>8.170851</td>\n",
       "      <td>2.000000</td>\n",
       "      <td>7.000000</td>\n",
       "      <td>11.000000</td>\n",
       "      <td>19.000000</td>\n",
       "      <td>3.800000e+01</td>\n",
       "    </tr>\n",
       "    <tr>\n",
       "      <th>прочее_300m</th>\n",
       "      <td>313.0</td>\n",
       "      <td>1.450479</td>\n",
       "      <td>1.427166</td>\n",
       "      <td>0.000000</td>\n",
       "      <td>0.000000</td>\n",
       "      <td>1.000000</td>\n",
       "      <td>2.000000</td>\n",
       "      <td>6.000000e+00</td>\n",
       "    </tr>\n",
       "    <tr>\n",
       "      <th>answer</th>\n",
       "      <td>313.0</td>\n",
       "      <td>30.319489</td>\n",
       "      <td>24.251094</td>\n",
       "      <td>6.000000</td>\n",
       "      <td>11.000000</td>\n",
       "      <td>22.000000</td>\n",
       "      <td>43.000000</td>\n",
       "      <td>1.000000e+02</td>\n",
       "    </tr>\n",
       "  </tbody>\n",
       "</table>\n",
       "<p>266 rows × 8 columns</p>\n",
       "</div>"
      ],
      "text/plain": [
       "                                          count           mean            std  \\\n",
       "price                                     313.0    1182.428115     768.003478   \n",
       "lunch                                     150.0     336.080000     169.710789   \n",
       "obj_rayon                                 313.0       3.201278       2.361768   \n",
       "n_seats                                   313.0      78.035144      69.996443   \n",
       "is_net                                    313.0       0.261981       0.440416   \n",
       "type                                      313.0       2.453674       1.965714   \n",
       "sumareaLive                               313.0  243815.709265  102605.004261   \n",
       "sumareaComm                               313.0  716715.418530  195276.418134   \n",
       "meanareaLive                              313.0     643.584665     314.531010   \n",
       "meanareaComm                              313.0    1897.431310     612.701779   \n",
       "maxareaLive                               313.0   15445.092652    6180.901123   \n",
       "maxareaComm                               313.0   45396.201278   21569.490162   \n",
       "metro_near_500m                           313.0       1.702875       1.153822   \n",
       "places_near_300m                          313.0      22.054313       8.271064   \n",
       "dist_to_metro                             313.0     281.008230     210.259562   \n",
       "IT-компания_300m                          313.0       2.651757       2.364970   \n",
       "PR-агентство_300m                         313.0       0.600639       0.907730   \n",
       "Wi-Fi хот-спот_300m                       313.0       2.984026       1.984653   \n",
       "Автоматизация производств_300m            313.0       0.495208       0.916800   \n",
       "Автомобильная парковка_300m               313.0      13.987220       6.724894   \n",
       "Автомобильные грузоперевозки_300m         313.0       1.124601       1.342286   \n",
       "Автошкола_300m                            313.0       0.447284       0.976290   \n",
       "Агентство недвижимости_300m               313.0       9.434505       6.197318   \n",
       "Адвокаты_300m                             313.0       5.434505       4.314149   \n",
       "Администрация_300m                        313.0       1.028754       1.651283   \n",
       "Антикварный магазин_300m                  313.0       0.702875       0.982813   \n",
       "Аптека_300m                               313.0       2.504792       1.770704   \n",
       "Архитектурное бюро_300m                   313.0       2.277955       1.791019   \n",
       "Ассоциации и промышленные союзы_300m      313.0       0.945687       1.187646   \n",
       "Ателье по пошиву и ремонту одежды_300m    313.0       2.284345       1.991724   \n",
       "...                                         ...            ...            ...   \n",
       "Точка продажи прессы_300m                 313.0       0.523962       0.854982   \n",
       "Тренинги_300m                             313.0       1.571885       1.629685   \n",
       "Туалет_300m                               313.0       0.648562       1.105554   \n",
       "Турагентство_300m                         313.0      16.399361      14.506086   \n",
       "Туроператор_300m                          313.0       3.370607       2.917130   \n",
       "Управляющая компания_300m                 313.0       1.642173       1.134996   \n",
       "Услуги репетиторов_300m                   313.0       0.795527       1.045310   \n",
       "Услуги частных специалистов_300m          313.0       0.811502       0.835661   \n",
       "Установка, ремонт и вскрытие замков_300m  313.0       0.511182       0.716587   \n",
       "Учебный центр_300m                        313.0       1.613419       1.694849   \n",
       "Фармацевтическая компания_300m            313.0       0.654952       1.010735   \n",
       "Финансовый консалтинг_300m                313.0       0.888179       1.183604   \n",
       "Фитнес-клуб_300m                          313.0       0.731629       0.890579   \n",
       "Фитопродукция, БАДы_300m                  313.0       1.070288       0.971474   \n",
       "Фотоуслуги_300m                           313.0       2.108626       1.795924   \n",
       "Химчистка_300m                            313.0       1.134185       0.981176   \n",
       "Хостел_300m                               313.0       2.444089       2.278151   \n",
       "Художественная мастерская_300m            313.0       1.137380       1.397219   \n",
       "Центр йоги_300m                           313.0       0.853035       1.309775   \n",
       "Центр повышения квалификации_300m         313.0       0.383387       0.625304   \n",
       "Школа искусств_300m                       313.0       0.936102       1.001156   \n",
       "Школа танцев_300m                         313.0       2.025559       3.324248   \n",
       "Экспертиза_300m                           313.0       0.939297       1.402661   \n",
       "Электромонтажные работы_300m              313.0       0.658147       0.721514   \n",
       "Электротехническая продукция_300m         313.0       0.482428       0.792904   \n",
       "Ювелирная мастерская_300m                 313.0       0.782748       1.042720   \n",
       "Ювелирный магазин_300m                    313.0       2.102236       2.114304   \n",
       "Юридические услуги_300m                   313.0      13.616613       8.170851   \n",
       "прочее_300m                               313.0       1.450479       1.427166   \n",
       "answer                                    313.0      30.319489      24.251094   \n",
       "\n",
       "                                                    min            25%  \\\n",
       "price                                        150.000000     600.000000   \n",
       "lunch                                         99.000000     250.000000   \n",
       "obj_rayon                                      0.000000       1.000000   \n",
       "n_seats                                        0.000000      40.000000   \n",
       "is_net                                         0.000000       0.000000   \n",
       "type                                           0.000000       1.000000   \n",
       "sumareaLive                                52717.000000  157953.000000   \n",
       "sumareaComm                               324091.000000  558339.000000   \n",
       "meanareaLive                                 169.000000     364.000000   \n",
       "meanareaComm                                1033.000000    1390.000000   \n",
       "maxareaLive                                 5414.000000   12682.000000   \n",
       "maxareaComm                                13869.000000   32343.000000   \n",
       "metro_near_500m                                0.000000       1.000000   \n",
       "places_near_300m                               5.000000      16.000000   \n",
       "dist_to_metro                                  6.859081     113.516221   \n",
       "IT-компания_300m                               0.000000       1.000000   \n",
       "PR-агентство_300m                              0.000000       0.000000   \n",
       "Wi-Fi хот-спот_300m                            0.000000       1.000000   \n",
       "Автоматизация производств_300m                 0.000000       0.000000   \n",
       "Автомобильная парковка_300m                    2.000000      10.000000   \n",
       "Автомобильные грузоперевозки_300m              0.000000       0.000000   \n",
       "Автошкола_300m                                 0.000000       0.000000   \n",
       "Агентство недвижимости_300m                    0.000000       5.000000   \n",
       "Адвокаты_300m                                  0.000000       3.000000   \n",
       "Администрация_300m                             0.000000       0.000000   \n",
       "Антикварный магазин_300m                       0.000000       0.000000   \n",
       "Аптека_300m                                    0.000000       1.000000   \n",
       "Архитектурное бюро_300m                        0.000000       1.000000   \n",
       "Ассоциации и промышленные союзы_300m           0.000000       0.000000   \n",
       "Ателье по пошиву и ремонту одежды_300m         0.000000       1.000000   \n",
       "...                                                 ...            ...   \n",
       "Точка продажи прессы_300m                      0.000000       0.000000   \n",
       "Тренинги_300m                                  0.000000       0.000000   \n",
       "Туалет_300m                                    0.000000       0.000000   \n",
       "Турагентство_300m                              1.000000       6.000000   \n",
       "Туроператор_300m                               0.000000       1.000000   \n",
       "Управляющая компания_300m                      0.000000       1.000000   \n",
       "Услуги репетиторов_300m                        0.000000       0.000000   \n",
       "Услуги частных специалистов_300m               0.000000       0.000000   \n",
       "Установка, ремонт и вскрытие замков_300m       0.000000       0.000000   \n",
       "Учебный центр_300m                             0.000000       0.000000   \n",
       "Фармацевтическая компания_300m                 0.000000       0.000000   \n",
       "Финансовый консалтинг_300m                     0.000000       0.000000   \n",
       "Фитнес-клуб_300m                               0.000000       0.000000   \n",
       "Фитопродукция, БАДы_300m                       0.000000       0.000000   \n",
       "Фотоуслуги_300m                                0.000000       1.000000   \n",
       "Химчистка_300m                                 0.000000       0.000000   \n",
       "Хостел_300m                                    0.000000       1.000000   \n",
       "Художественная мастерская_300m                 0.000000       0.000000   \n",
       "Центр йоги_300m                                0.000000       0.000000   \n",
       "Центр повышения квалификации_300m              0.000000       0.000000   \n",
       "Школа искусств_300m                            0.000000       0.000000   \n",
       "Школа танцев_300m                              0.000000       0.000000   \n",
       "Экспертиза_300m                                0.000000       0.000000   \n",
       "Электромонтажные работы_300m                   0.000000       0.000000   \n",
       "Электротехническая продукция_300m              0.000000       0.000000   \n",
       "Ювелирная мастерская_300m                      0.000000       0.000000   \n",
       "Ювелирный магазин_300m                         0.000000       0.000000   \n",
       "Юридические услуги_300m                        2.000000       7.000000   \n",
       "прочее_300m                                    0.000000       0.000000   \n",
       "answer                                         6.000000      11.000000   \n",
       "\n",
       "                                                    50%            75%  \\\n",
       "price                                       1000.000000    1500.000000   \n",
       "lunch                                        300.000000     350.000000   \n",
       "obj_rayon                                      3.000000       5.000000   \n",
       "n_seats                                       60.000000      90.000000   \n",
       "is_net                                         0.000000       1.000000   \n",
       "type                                           1.000000       5.000000   \n",
       "sumareaLive                               246581.000000  316726.000000   \n",
       "sumareaComm                               730220.000000  873388.000000   \n",
       "meanareaLive                                 613.000000     801.000000   \n",
       "meanareaComm                                1893.000000    2260.000000   \n",
       "maxareaLive                                14005.000000   16113.000000   \n",
       "maxareaComm                                39562.000000   51076.000000   \n",
       "metro_near_500m                                2.000000       3.000000   \n",
       "places_near_300m                              21.000000      28.000000   \n",
       "dist_to_metro                                201.684732     386.774466   \n",
       "IT-компания_300m                               2.000000       4.000000   \n",
       "PR-агентство_300m                              0.000000       1.000000   \n",
       "Wi-Fi хот-спот_300m                            3.000000       4.000000   \n",
       "Автоматизация производств_300m                 0.000000       1.000000   \n",
       "Автомобильная парковка_300m                   13.000000      17.000000   \n",
       "Автомобильные грузоперевозки_300m              1.000000       2.000000   \n",
       "Автошкола_300m                                 0.000000       0.000000   \n",
       "Агентство недвижимости_300m                    8.000000      12.000000   \n",
       "Адвокаты_300m                                  4.000000       7.000000   \n",
       "Администрация_300m                             1.000000       2.000000   \n",
       "Антикварный магазин_300m                       0.000000       1.000000   \n",
       "Аптека_300m                                    2.000000       3.000000   \n",
       "Архитектурное бюро_300m                        2.000000       3.000000   \n",
       "Ассоциации и промышленные союзы_300m           1.000000       1.000000   \n",
       "Ателье по пошиву и ремонту одежды_300m         2.000000       3.000000   \n",
       "...                                                 ...            ...   \n",
       "Точка продажи прессы_300m                      0.000000       1.000000   \n",
       "Тренинги_300m                                  1.000000       2.000000   \n",
       "Туалет_300m                                    0.000000       1.000000   \n",
       "Турагентство_300m                             12.000000      20.000000   \n",
       "Туроператор_300m                               2.000000       5.000000   \n",
       "Управляющая компания_300m                      2.000000       2.000000   \n",
       "Услуги репетиторов_300m                        0.000000       1.000000   \n",
       "Услуги частных специалистов_300m               1.000000       1.000000   \n",
       "Установка, ремонт и вскрытие замков_300m       0.000000       1.000000   \n",
       "Учебный центр_300m                             1.000000       2.000000   \n",
       "Фармацевтическая компания_300m                 0.000000       1.000000   \n",
       "Финансовый консалтинг_300m                     0.000000       1.000000   \n",
       "Фитнес-клуб_300m                               0.000000       1.000000   \n",
       "Фитопродукция, БАДы_300m                       1.000000       2.000000   \n",
       "Фотоуслуги_300m                                2.000000       3.000000   \n",
       "Химчистка_300m                                 1.000000       2.000000   \n",
       "Хостел_300m                                    2.000000       4.000000   \n",
       "Художественная мастерская_300m                 1.000000       2.000000   \n",
       "Центр йоги_300m                                0.000000       1.000000   \n",
       "Центр повышения квалификации_300m              0.000000       1.000000   \n",
       "Школа искусств_300m                            1.000000       1.000000   \n",
       "Школа танцев_300m                              1.000000       2.000000   \n",
       "Экспертиза_300m                                1.000000       1.000000   \n",
       "Электромонтажные работы_300m                   1.000000       1.000000   \n",
       "Электротехническая продукция_300m              0.000000       1.000000   \n",
       "Ювелирная мастерская_300m                      0.000000       1.000000   \n",
       "Ювелирный магазин_300m                         2.000000       3.000000   \n",
       "Юридические услуги_300m                       11.000000      19.000000   \n",
       "прочее_300m                                    1.000000       2.000000   \n",
       "answer                                        22.000000      43.000000   \n",
       "\n",
       "                                                   max  \n",
       "price                                     5.000000e+03  \n",
       "lunch                                     1.400000e+03  \n",
       "obj_rayon                                 8.000000e+00  \n",
       "n_seats                                   5.800000e+02  \n",
       "is_net                                    1.000000e+00  \n",
       "type                                      6.000000e+00  \n",
       "sumareaLive                               4.465000e+05  \n",
       "sumareaComm                               1.247684e+06  \n",
       "meanareaLive                              1.690000e+03  \n",
       "meanareaComm                              4.503000e+03  \n",
       "maxareaLive                               3.400900e+04  \n",
       "maxareaComm                               1.290700e+05  \n",
       "metro_near_500m                           4.000000e+00  \n",
       "places_near_300m                          4.600000e+01  \n",
       "dist_to_metro                             7.947375e+02  \n",
       "IT-компания_300m                          9.000000e+00  \n",
       "PR-агентство_300m                         5.000000e+00  \n",
       "Wi-Fi хот-спот_300m                       1.000000e+01  \n",
       "Автоматизация производств_300m            4.000000e+00  \n",
       "Автомобильная парковка_300m               4.300000e+01  \n",
       "Автомобильные грузоперевозки_300m         5.000000e+00  \n",
       "Автошкола_300m                            6.000000e+00  \n",
       "Агентство недвижимости_300m               3.400000e+01  \n",
       "Адвокаты_300m                             2.800000e+01  \n",
       "Администрация_300m                        1.100000e+01  \n",
       "Антикварный магазин_300m                  4.000000e+00  \n",
       "Аптека_300m                               8.000000e+00  \n",
       "Архитектурное бюро_300m                   1.100000e+01  \n",
       "Ассоциации и промышленные союзы_300m      5.000000e+00  \n",
       "Ателье по пошиву и ремонту одежды_300m    9.000000e+00  \n",
       "...                                                ...  \n",
       "Точка продажи прессы_300m                 3.000000e+00  \n",
       "Тренинги_300m                             7.000000e+00  \n",
       "Туалет_300m                               5.000000e+00  \n",
       "Турагентство_300m                         6.800000e+01  \n",
       "Туроператор_300m                          1.300000e+01  \n",
       "Управляющая компания_300m                 6.000000e+00  \n",
       "Услуги репетиторов_300m                   5.000000e+00  \n",
       "Услуги частных специалистов_300m          4.000000e+00  \n",
       "Установка, ремонт и вскрытие замков_300m  2.000000e+00  \n",
       "Учебный центр_300m                        1.000000e+01  \n",
       "Фармацевтическая компания_300m            4.000000e+00  \n",
       "Финансовый консалтинг_300m                5.000000e+00  \n",
       "Фитнес-клуб_300m                          4.000000e+00  \n",
       "Фитопродукция, БАДы_300m                  4.000000e+00  \n",
       "Фотоуслуги_300m                           7.000000e+00  \n",
       "Химчистка_300m                            4.000000e+00  \n",
       "Хостел_300m                               1.000000e+01  \n",
       "Художественная мастерская_300m            7.000000e+00  \n",
       "Центр йоги_300m                           4.000000e+00  \n",
       "Центр повышения квалификации_300m         3.000000e+00  \n",
       "Школа искусств_300m                       4.000000e+00  \n",
       "Школа танцев_300m                         1.600000e+01  \n",
       "Экспертиза_300m                           9.000000e+00  \n",
       "Электромонтажные работы_300m              3.000000e+00  \n",
       "Электротехническая продукция_300m         4.000000e+00  \n",
       "Ювелирная мастерская_300m                 4.000000e+00  \n",
       "Ювелирный магазин_300m                    1.500000e+01  \n",
       "Юридические услуги_300m                   3.800000e+01  \n",
       "прочее_300m                               6.000000e+00  \n",
       "answer                                    1.000000e+02  \n",
       "\n",
       "[266 rows x 8 columns]"
      ]
     },
     "execution_count": 37,
     "metadata": {},
     "output_type": "execute_result"
    }
   ],
   "source": [
    "train.describe().T"
   ]
  },
  {
   "cell_type": "code",
   "execution_count": 38,
   "metadata": {},
   "outputs": [
    {
     "name": "stdout",
     "output_type": "stream",
     "text": [
      "<class 'pandas.core.frame.DataFrame'>\n",
      "Int64Index: 313 entries, 0 to 312\n",
      "Columns: 266 entries, price to answer\n",
      "dtypes: float64(2), int64(264)\n",
      "memory usage: 662.9 KB\n"
     ]
    }
   ],
   "source": [
    "train.info()"
   ]
  },
  {
   "cell_type": "code",
   "execution_count": 39,
   "metadata": {},
   "outputs": [
    {
     "name": "stdout",
     "output_type": "stream",
     "text": [
      "obj_rayon [7 5 2 4 0 3 1 8 6]\n",
      "is_net [1 0]\n",
      "type [4 5 1 0 3 2 6]\n",
      "metro_near_500m [3 1 2 0 4]\n",
      "IT-компания_300m [0 1 4 3 6 2 8 5 7 9]\n",
      "PR-агентство_300m [0 2 1 5 4 3]\n",
      "Wi-Fi хот-спот_300m [ 3  2  6  1  4  0  8  7  5 10]\n",
      "Автоматизация производств_300m [0 1 2 3 4]\n",
      "Автомобильные грузоперевозки_300m [1 3 0 5 4 2]\n",
      "Автошкола_300m [0 1 3 2 4 6 5]\n",
      "Администрация_300m [ 0  1  2  4  7  6 11  3  5]\n",
      "Антикварный магазин_300m [0 1 4 2 3]\n",
      "Аптека_300m [2 0 3 5 4 8 1 6 7]\n",
      "Архитектурное бюро_300m [ 0  1  3  2  9  4  5  6 11  8]\n",
      "Ассоциации и промышленные союзы_300m [0 1 3 2 5 4]\n",
      "Ателье по пошиву и ремонту одежды_300m [1 6 2 3 4 7 0 5 9 8]\n",
      "Аудиторская компания_300m [2 1 0 6 4 5 3]\n",
      "Аутсорсинг_300m [0 2 1 3 4]\n",
      "Банк_300m [ 1  2  6  3  4  5  0 19  7  8  9 14 12 11 10 15]\n",
      "Банкетный зал_300m [0 1 2]\n",
      "Банкомат_300m [ 2  1  5  4 13  7  9  6  3 11  8 12 10 16 15 14  0]\n",
      "Бар, паб_300m [ 2  1  3 10  5  7  9  8  6 11  4  0 13 15 12]\n",
      "Библиотека_300m [0 2 1 3 4]\n",
      "Бизнес-консалтинг_300m [ 0  3  8  4  5 16  1  6  2  9 12  7 14 13 11 10 15]\n",
      "Бизнес-центр_300m [0 2 4 1 6 5 3 8 7 9]\n",
      "Благотворительный фонд_300m [2 5 3 1 4 0 6]\n",
      "Брокерская компания_300m [1 0 3 4 2]\n",
      "Булочная, пекарня_300m [1 0 3 2 4 5]\n",
      "Бухгалтерские услуги_300m [ 2  0  4  8  3  6  1  7  5 12 13]\n",
      "Быстрое питание_300m [ 2  0  7  6  4  1  3  5 12  9  8 11 10]\n",
      "Бытовые услуги_300m [2 0 1 3 4]\n",
      "Бюро переводов_300m [ 4  0  6  1  2  8 10  5  3  7 18 12 16  9 11 14 17 15 13]\n",
      "ВУЗ_300m [ 2  0  5  1  4  3 18  6  9 14  7 10 15 20 13]\n",
      "Вейп шоп_300m [3 0 2 1 4]\n",
      "Велопарковка_300m [1 0 2 3]\n",
      "Видеосъемка_300m [0 1 4 3 2]\n",
      "Визажисты, стилисты_300m [0 2 1 3]\n",
      "Выставочный центр_300m [2 0 1 4 3 5 6]\n",
      "Гостиница для животных_300m [1 0 2 3 4 5]\n",
      "Двери_300m [0 2 1 3 4]\n",
      "Дезинфекция, дезинсекция, дератизация_300m [1 0 2 3]\n",
      "Денежные переводы_300m [ 2  1  5  7  3  6  4  0  8 11 10  9 13 12]\n",
      "Детские игровые залы и площадки_300m [1 0 2 3]\n",
      "Детские игрушки и игры_300m [0 1 2 6 5 3 4]\n",
      "Детский магазин_300m [1 0 2 4 3]\n",
      "Диагностический центр_300m [0 1 2]\n",
      "Дизайн интерьеров_300m [1 0 3 2 5 4 6]\n",
      "Дополнительное образование_300m [0 4 2 1 3 5]\n",
      "Доставка еды и обедов_300m [0 1 2 3 4]\n",
      "Доставка цветов и букетов_300m [1 0 2]\n",
      "Железнодорожные и авиабилеты_300m [0 1 2 4 3 5]\n",
      "Жилой комплекс_300m [3 2 0 1 4]\n",
      "Жильё посуточно_300m [ 0  3 11  4  1  2  5  8 13 12  6 14  9]\n",
      "Заказ автомобилей_300m [0 3 1 2 4]\n",
      "Изготовление и оптовая продажа сувениров_300m [0 1 2 5 3 4 6]\n",
      "Изготовление печатей и штампов_300m [3 1 0 2 5 4 6]\n",
      "Издательские услуги_300m [3 0 1 2 8 5 4 6 7]\n",
      "Изделия из камня_300m [0 2 1 3]\n",
      "Инвестиционная компания_300m [ 1  5  2  9  3  0 10  7  4  6 11  8]\n",
      "Инжиниринг_300m [0 1 4 8 2 3 5]\n",
      "Интернет-магазин_300m [ 4  1  6  8 11  5  9  7 10  2  3 13  0 15 12 16 14]\n",
      "Интернет-маркетинг_300m [ 1  3  2  0  4  5  6  8  7 10 11]\n",
      "Интернет-провайдер_300m [0 1 3 2 6 5 4]\n",
      "Информационное агентство_300m [1 0 3 2]\n",
      "Информационный интернет-сайт_300m [ 1  2  0  6  3  4  5  8  7  9 11]\n",
      "Кадровое агентство_300m [ 1  2  0 10  3  4  5  7  6  8  9]\n",
      "Кальян-бар_300m [0 1 2 3 4 8 6 5]\n",
      "Квесты_300m [0 1 2 4 3]\n",
      "Кейтеринг_300m [0 1 5 2 3 4]\n",
      "Киностудия_300m [0 1 2 3]\n",
      "Клининговые услуги_300m [1 0 2 4 3 5]\n",
      "Клуб досуга_300m [0 1 3 4 6 2 5]\n",
      "Книжный магазин_300m [2 1 0 6 4 3 8 5]\n",
      "Комиссионный магазин_300m [0 1 2]\n",
      "Коммунальная служба_300m [1 0 2 4 3 5]\n",
      "Компьютерный ремонт и услуги_300m [5 1 6 4 0 2 8 7 3 9]\n",
      "Кондитерская_300m [0 1 2 3 4]\n",
      "Концертные и театральные агентства_300m [0 4 2 1 3 5 6]\n",
      "Копировальный центр_300m [1 0 2 4 3]\n",
      "Косметология_300m [ 1  0  3  2  5 21 12  7  4 13  6 20 19  8 10 11 16]\n",
      "Кофейня_300m [ 2  3  5  4  1  8  0  6  9 10]\n",
      "Кредитный брокер_300m [1 0 3 2 5]\n",
      "Культурный центр_300m [0 1 2 3]\n",
      "Курсы и мастер-классы_300m [0 1 2 3 5 4 6]\n",
      "Курсы иностранных языков_300m [ 3  2  1  0  7  4  5  6  9  8 10]\n",
      "Курьерские услуги_300m [1 0 2 3 4 5 8 7 6]\n",
      "Логистическая компания_300m [0 2 3 1 4]\n",
      "Ломбард_300m [0 2 1 3 5 4]\n",
      "Магазин алкогольных напитков_300m [0 2 1 3 5 4]\n",
      "Магазин белья и купальников_300m [0 1 2 3 5 4 8]\n",
      "Магазин бижутерии_300m [0 1 2 3 4 8]\n",
      "Магазин галантереи и аксессуаров_300m [1 0 4 3 2]\n",
      "Магазин кулинарии_300m [0 1 2 3]\n",
      "Магазин мебели_300m [0 1 2 3 4]\n",
      "Магазин обуви_300m [ 0  7  2  6  4  1  5  3 18  8]\n",
      "Магазин парфюмерии и косметики_300m [ 2  1  3  7  5  4  0 11  9  8  6 10 19 17]\n",
      "Магазин подарков и сувениров_300m [1 2 0 4 8 7 3 6 9 5]\n",
      "Магазин посуды_300m [0 1 2 3 5 4]\n",
      "Магазин продуктов_300m [ 0  3  2  4  1  5  7 11  9  6 17]\n",
      "Магазин сумок и чемоданов_300m [1 0 2 3]\n",
      "Магазин табака и курительных принадлежностей_300m [0 2 1 3 4]\n",
      "Магазин хозтоваров и бытовой химии_300m [0 1 2 3]\n",
      "Магазин цветов_300m [2 1 6 3 4 0 7 5 9 8]\n",
      "Магазин часов_300m [0 4 2 1 3 5]\n",
      "Магазин чая и кофе_300m [0 2 1 4 3 5 7 6]\n",
      "Магазин электроники_300m [0 1 2 4 3 6]\n",
      "Магия и эзотерика_300m [2 0 3 5 1 4 7 6]\n",
      "Маркетинговые услуги_300m [0 1 5 2 3 4]\n",
      "Массажный салон_300m [1 0 2 3 4]\n",
      "Мебель на заказ_300m [0 1 2 4 3]\n",
      "Медицинское оборудование, медтехника_300m [1 0 4 2 3 7 5]\n",
      "Медцентр, клиника_300m [ 3  2  9  0  1  4  6  5  7  8 11 12 10]\n",
      "Металлопрокат_300m [0 4 1 2 3]\n",
      "Металлоремонт_300m [2 0 1]\n",
      "Министерства, ведомства, государственные службы_300m [ 0  2  4  5  3  1  6 12 34 11  7 16  8 13  9 10 14]\n",
      "Музей_300m [2 1 0 3 6 4]\n",
      "Музыкальное образование_300m [ 2  0  1 17  3 16 18  4 10]\n",
      "Музыкальный магазин_300m [0 1 2]\n",
      "НИИ_300m [2 1 0 3 5 7 6 4 8]\n",
      "Научно-производственная организация_300m [0 1 3 2 4]\n",
      "Нефтегазовая компания_300m [0 1 2 3 4]\n",
      "Нефтепродукты_300m [0 2 1 4 3]\n",
      "Ногтевая студия_300m [ 0  1  3  2  6  4 12 11  8  5  7  9 13]\n",
      "Нотариусы_300m [1 0 4 2 3 5 6]\n",
      "Оборудование и материалы для салонов красоты_300m [1 0 3 2 4]\n",
      "Обучение мастеров для салонов красоты_300m [0 1 2 3]\n",
      "Общественный фонд_300m [0 1 2 4 6 3]\n",
      "Оздоровительный центр_300m [0 1 2 4]\n",
      "Оператор сотовой связи_300m [1 0 2 3 4]\n",
      "Организация и обслуживание выставок_300m [0 2 1 3]\n",
      "Организация и проведение детских праздников_300m [1 0 3 2 4]\n",
      "Организация конференций и семинаров_300m [0 2 1 3 5 4]\n",
      "Органы государственного надзора_300m [1 0 3 4 2 5]\n",
      "Ортопедический салон_300m [0 1 2 3]\n",
      "Остановка общественного транспорта_300m [1 0 3 2 4 5 8 7]\n",
      "Отделение полиции_300m [0 1 2 3 4]\n",
      "Охранное предприятие_300m [0 2 1 5 3 4 6]\n",
      "Оценочная компания_300m [0 3 1 2 4 7]\n",
      "Памятник, скульптура_300m [1 0 2 5 4 3 6 7]\n",
      "Парикмахерская_300m [2 0 3 1 5 4 6 7]\n",
      "Пиццерия_300m [1 0 2 3 4]\n",
      "Полиграфические услуги_300m [3 1 2 4 5 0 6]\n",
      "Политическая партия_300m [1 0 2 3 4]\n",
      "Православный храм_300m [3 0 1 2 4 6 7 5 8 9]\n",
      "Праздничное агентство_300m [ 2  5  4  3  8 10  1  6  0  7  9]\n",
      "Программное обеспечение_300m [0 8 2 4 1 3 9 7 5 6]\n",
      "Продажа и аренда коммерческой недвижимости_300m [ 2  3  8  4  1  6  0  7  5 11  9 10]\n",
      "Продукты питания оптом_300m [2 0 1 3 4]\n",
      "Продюсерский центр_300m [0 2 1 4 3]\n",
      "Проектная организация_300m [ 0  3  1  2  4  6  5 11  7  8]\n",
      "Прокат велосипедов_300m [1 0 2 3 4]\n",
      "Промышленная химия_300m [0 2 1 3]\n",
      "Промышленное оборудование_300m [0 1 2 4 3 5 6]\n",
      "Промышленное строительство_300m [1 2 0 4 5 6 3]\n",
      "Психотерапевтическая помощь_300m [ 5  0  4  1  2  6 10  3  7  8]\n",
      "Пункт выдачи_300m [ 1  0  3  4  8  5  2  6 12  9]\n",
      "Пункт техосмотра_300m [0 2 3 1]\n",
      "Распространители косметики и бытовой химии_300m [0 1 2 4 3]\n",
      "Расходные материалы для оргтехники_300m [1 0 3 2 6 4 8]\n",
      "Регистрация и ликвидация предприятий_300m [1 0 5 2 3 4]\n",
      "Редакция СМИ_300m [ 1  0  7  3  2  8  9  4  6  5 13 10 11 12]\n",
      "Рекламное агентство_300m [ 2  5  0  1  3  9  7  6 10 11  4 12  8 13]\n",
      "Религиозные товары_300m [1 0 2 6 3 4]\n",
      "Ремонт бытовой техники_300m [3 0 1 2 5 4 6 8 7]\n",
      "Ремонт обуви_300m [0 1 2 3]\n",
      "Ремонт оргтехники_300m [1 0 2 4 3 5]\n",
      "Ремонт планшетов и ноутбуков_300m [1 0 3 2]\n",
      "Ремонт сотовых телефонов_300m [ 3  0  6  5  2  4  1  8  9  7 11 12]\n",
      "Ремонт часов_300m [0 2 1 3]\n",
      "СПА-салон_300m [0 2 1 3]\n",
      "Салон красоты_300m [ 6  5  4 16  9 12  7 11 10  1  8 18  3  2 13 14 15]\n",
      "Салон оптики_300m [2 1 3 0 4 5 6]\n",
      "Салон связи_300m [1 0 3 7 2 6 5 4 9]\n",
      "Саморегулируемая организация_300m [1 2 0 4 3 5 6 7]\n",
      "Свадебный салон_300m [0 1 2 3]\n",
      "Секс-шоп_300m [0 1 6 7 2 5]\n",
      "Сертификация продукции и услуг_300m [0 1 3 2 4]\n",
      "Системы безопасности и охраны_300m [0 2 1 3 4]\n",
      "Спортивная одежда и обувь_300m [0 7 1 2 3 6 4 5]\n",
      "Спортивное объединение_300m [0 1 4 2 8 3 7 5]\n",
      "Спортивный инвентарь и оборудование_300m [0 1 2 3]\n",
      "Спортивный клуб, секция_300m [0 1 2 4 3 6 8]\n",
      "Спортплощадка, воркаут_300m [0 1 2 4]\n",
      "Столовая_300m [0 1 2 3]\n",
      "Стоматологическая клиника_300m [2 3 6 4 1 8 5 7 0]\n",
      "Страховая компания_300m [0 1 5 3 2 4 7 6]\n",
      "Страховой брокер_300m [0 2 1 3 4]\n",
      "Строительная компания_300m [ 0  4 15  5  1  2  6 12  3 10  8  9 11  7 13 16 14]\n",
      "Строительные и отделочные работы_300m [ 1  7  3  6 10  2  4  0  5  8 11  9 12]\n",
      "Строительство дачных домов и коттеджей_300m [0 1 3 2 5 4]\n",
      "Строительство и обслуживание инженерных сетей_300m [0 1 4 2 6]\n",
      "Стройматериалы оптом_300m [0 1 2 4 3 5]\n",
      "Студия веб-дизайна_300m [1 4 3 0 2 7 9 6 8 5]\n",
      "Студия графического дизайна_300m [0 1 2 3]\n",
      "Студия дизайна_300m [1 4 3 0 2]\n",
      "Студия звукозаписи_300m [0 1 4 2 3]\n",
      "Студия ландшафтного дизайна_300m [0 2 1 5 4]\n",
      "Супермаркет_300m [0 1 2]\n",
      "Суши-бар_300m [1 0 3 2]\n",
      "ТСЖ_300m [2 0 4 1 3 5]\n",
      "Такси_300m [0 1 2 3 4 5]\n",
      "Тара и упаковочные материалы_300m [0 1 3 2 4]\n",
      "Тату-салон_300m [0 1 2 3]\n",
      "Творческий коллектив_300m [0 1 2 5 4 3 6]\n",
      "Театр_300m [0 1 3 5 2 4 8 6]\n",
      "Театрально-концертная касса_300m [0 1 3 2 4 7 6 5 8 9]\n",
      "Телекоммуникационная компания_300m [1 3 0 2 4 7]\n",
      "Телекомпания_300m [0 1 4 2 3]\n",
      "Техническое обслуживание зданий_300m [1 0 3 2 4 6]\n",
      "Типография_300m [0 2 1 4 3]\n",
      "Товары для здоровья_300m [1 0 2 3 4]\n",
      "Товары для мобильных телефонов_300m [1 0 2 5 3]\n",
      "Товары для творчества и рукоделия_300m [1 0 4 2 3]\n",
      "Точка продажи прессы_300m [1 3 0 2]\n",
      "Тренинги_300m [3 0 4 1 5 2 6 7]\n",
      "Туалет_300m [2 0 5 1 3 4]\n",
      "Туроператор_300m [ 2  3  1  5  0  4  7  6 13  9 11 10  8 12]\n",
      "Управляющая компания_300m [1 2 0 3 4 5 6]\n",
      "Услуги репетиторов_300m [0 1 2 3 5 4]\n",
      "Услуги частных специалистов_300m [2 0 1 3 4]\n",
      "Установка, ремонт и вскрытие замков_300m [1 0 2]\n",
      "Учебный центр_300m [ 0  1  2  5  3  4 10  6  7  8]\n",
      "Фармацевтическая компания_300m [0 3 2 1 4]\n",
      "Финансовый консалтинг_300m [0 1 4 2 3 5]\n",
      "Фитнес-клуб_300m [1 0 2 3 4]\n",
      "Фитопродукция, БАДы_300m [1 0 3 2 4]\n",
      "Фотоуслуги_300m [4 0 3 2 1 5 6 7]\n",
      "Химчистка_300m [1 0 3 4 2]\n",
      "Хостел_300m [ 4  0  1  2  5  3 10  6  8  7  9]\n",
      "Художественная мастерская_300m [0 1 6 2 4 3 5 7]\n",
      "Центр йоги_300m [0 2 1 3 4]\n",
      "Центр повышения квалификации_300m [0 1 3 2]\n",
      "Школа искусств_300m [0 1 2 3 4]\n",
      "Школа танцев_300m [ 2  1  0  5  3  7  4 14  9 12  6  8 11 16 15]\n",
      "Экспертиза_300m [0 1 4 3 5 2 8 7 9]\n",
      "Электромонтажные работы_300m [1 0 2 3]\n",
      "Электротехническая продукция_300m [0 1 4 2 3]\n",
      "Ювелирная мастерская_300m [0 3 2 1 4]\n",
      "Ювелирный магазин_300m [ 1  0  2  6  3  4  5 15  7 14  8]\n",
      "прочее_300m [0 1 4 5 2 3 6]\n"
     ]
    }
   ],
   "source": [
    "for i in  train.columns:\n",
    "    tmp=train[i].unique()\n",
    "    if len(tmp)<20:\n",
    "        print(i,tmp)"
   ]
  },
  {
   "cell_type": "markdown",
   "metadata": {},
   "source": [
    "Признаки **obj_rayon** и **type** лучше закодировать one hot encoding "
   ]
  },
  {
   "cell_type": "markdown",
   "metadata": {},
   "source": [
    "### Объедтнение train  и test"
   ]
  },
  {
   "cell_type": "code",
   "execution_count": 40,
   "metadata": {},
   "outputs": [
    {
     "data": {
      "text/plain": [
       "(418, 265)"
      ]
     },
     "execution_count": 40,
     "metadata": {},
     "output_type": "execute_result"
    }
   ],
   "source": [
    "data=pd.concat([train.drop(\"answer\",axis=1),test])\n",
    "answer=train[\"answer\"]\n",
    "separate=train.shape[0]\n",
    "data.shape"
   ]
  },
  {
   "cell_type": "markdown",
   "metadata": {},
   "source": [
    "### One-Hot-Encoding"
   ]
  },
  {
   "cell_type": "code",
   "execution_count": 41,
   "metadata": {
    "collapsed": true
   },
   "outputs": [],
   "source": [
    "data=pd.get_dummies(data,columns=[\"obj_rayon\"])"
   ]
  },
  {
   "cell_type": "code",
   "execution_count": 42,
   "metadata": {
    "collapsed": true
   },
   "outputs": [],
   "source": [
    "data=pd.get_dummies(data,columns=[\"type\"])"
   ]
  },
  {
   "cell_type": "markdown",
   "metadata": {},
   "source": [
    "### 2 try"
   ]
  },
  {
   "cell_type": "code",
   "execution_count": 43,
   "metadata": {
    "collapsed": true
   },
   "outputs": [],
   "source": [
    "train=data[:separate]\n",
    "test=data[separate:]"
   ]
  },
  {
   "cell_type": "code",
   "execution_count": 44,
   "metadata": {},
   "outputs": [
    {
     "data": {
      "text/plain": [
       "((219, 278), (94, 278))"
      ]
     },
     "execution_count": 44,
     "metadata": {},
     "output_type": "execute_result"
    }
   ],
   "source": [
    "X_train,X_valid,y_train,y_valid=train_test_split(train.drop([\"lunch\"],axis=1),answer,test_size=0.3,random_state=17)\n",
    "X_train.shape,X_valid.shape"
   ]
  },
  {
   "cell_type": "code",
   "execution_count": 45,
   "metadata": {
    "collapsed": true
   },
   "outputs": [],
   "source": [
    "lr.fit(X_train,y_train)\n",
    "xgb.fit(X_train,y_train)\n",
    "rf.fit(X_train,y_train);"
   ]
  },
  {
   "cell_type": "code",
   "execution_count": 46,
   "metadata": {},
   "outputs": [
    {
     "data": {
      "text/plain": [
       "341.23649177618989"
      ]
     },
     "execution_count": 46,
     "metadata": {},
     "output_type": "execute_result"
    }
   ],
   "source": [
    "#lr\n",
    "predict=lr.predict(X_valid)\n",
    "mean_absolute_error(y_valid,predict)"
   ]
  },
  {
   "cell_type": "code",
   "execution_count": 47,
   "metadata": {},
   "outputs": [
    {
     "data": {
      "text/plain": [
       "18.734418681327334"
      ]
     },
     "execution_count": 47,
     "metadata": {},
     "output_type": "execute_result"
    }
   ],
   "source": [
    "#xgb\n",
    "predict=xgb.predict(X_valid)\n",
    "mean_absolute_error(y_valid,predict)"
   ]
  },
  {
   "cell_type": "code",
   "execution_count": 48,
   "metadata": {},
   "outputs": [
    {
     "data": {
      "text/plain": [
       "18.567021276595742"
      ]
     },
     "execution_count": 48,
     "metadata": {},
     "output_type": "execute_result"
    }
   ],
   "source": [
    "#rf\n",
    "predict=rf.predict(X_valid)\n",
    "mean_absolute_error(y_valid,predict)"
   ]
  },
  {
   "cell_type": "markdown",
   "metadata": {},
   "source": [
    "Ошибка на **линейной регресии** значительно сократилась а вот остальные модели это не улучшило"
   ]
  },
  {
   "cell_type": "markdown",
   "metadata": {},
   "source": [
    "### Посылка на Kaggle"
   ]
  },
  {
   "cell_type": "code",
   "execution_count": 49,
   "metadata": {
    "collapsed": true
   },
   "outputs": [],
   "source": [
    "def kaggle(model,test_data,drop=True):\n",
    "    if drop:\n",
    "        test_data=test_data.drop(\"lunch\",axis=1)\n",
    "    predict=model.predict(test_data)\n",
    "    ans={\"id\":range(313,418),\"answer\":predict}\n",
    "    df=pd.DataFrame(ans,columns=[\"id\",\"answer\"])\n",
    "    df.to_csv(\"ans.csv\",index=False)"
   ]
  },
  {
   "cell_type": "code",
   "execution_count": 50,
   "metadata": {
    "collapsed": true
   },
   "outputs": [],
   "source": [
    "rf.fit(data[:separate].drop(\"lunch\",axis=1),answer);"
   ]
  },
  {
   "cell_type": "code",
   "execution_count": 51,
   "metadata": {
    "collapsed": true
   },
   "outputs": [],
   "source": [
    "kaggle(rf,data[separate:])"
   ]
  },
  {
   "cell_type": "markdown",
   "metadata": {},
   "source": [
    "### 3 try"
   ]
  },
  {
   "cell_type": "code",
   "execution_count": 52,
   "metadata": {},
   "outputs": [
    {
     "data": {
      "text/plain": [
       "(99.0, 1400.0)"
      ]
     },
     "execution_count": 52,
     "metadata": {},
     "output_type": "execute_result"
    }
   ],
   "source": [
    "data['lunch'].min(),data['lunch'].max()"
   ]
  },
  {
   "cell_type": "code",
   "execution_count": 53,
   "metadata": {},
   "outputs": [
    {
     "data": {
      "image/png": "[encoded data removed]",
      "text/plain": [
       "<matplotlib.figure.Figure at 0x1a08c572e8>"
      ]
     },
     "metadata": {},
     "output_type": "display_data"
    }
   ],
   "source": [
    "plt.boxplot(data['lunch'].dropna());"
   ]
  },
  {
   "cell_type": "markdown",
   "metadata": {},
   "source": [
    "Так как на заполняемость сильно влияет цена,то вполне логично сделать признак высокой стоимости ланча"
   ]
  },
  {
   "cell_type": "code",
   "execution_count": 54,
   "metadata": {
    "collapsed": true
   },
   "outputs": [],
   "source": [
    "data2=data.fillna(method=\"backfill\")"
   ]
  },
  {
   "cell_type": "code",
   "execution_count": 55,
   "metadata": {
    "collapsed": true
   },
   "outputs": [],
   "source": [
    "data2['lunch_big']=data2['lunch']>data2['lunch'].quantile(0.95)"
   ]
  },
  {
   "cell_type": "code",
   "execution_count": 56,
   "metadata": {
    "collapsed": true
   },
   "outputs": [],
   "source": [
    "train=data2[:separate]\n",
    "test=data2[separate:]"
   ]
  },
  {
   "cell_type": "code",
   "execution_count": 57,
   "metadata": {},
   "outputs": [
    {
     "data": {
      "text/plain": [
       "((219, 280), (94, 280))"
      ]
     },
     "execution_count": 57,
     "metadata": {},
     "output_type": "execute_result"
    }
   ],
   "source": [
    "X_train,X_valid,y_train,y_valid=train_test_split(train,answer,test_size=0.3,random_state=17)\n",
    "X_train.shape,X_valid.shape"
   ]
  },
  {
   "cell_type": "code",
   "execution_count": 58,
   "metadata": {
    "collapsed": true
   },
   "outputs": [],
   "source": [
    "lr.fit(X_train,y_train)\n",
    "xgb.fit(X_train,y_train)\n",
    "rf.fit(X_train,y_train);"
   ]
  },
  {
   "cell_type": "code",
   "execution_count": 59,
   "metadata": {},
   "outputs": [
    {
     "data": {
      "text/plain": [
       "285.68210379276252"
      ]
     },
     "execution_count": 59,
     "metadata": {},
     "output_type": "execute_result"
    }
   ],
   "source": [
    "#lr\n",
    "predict=lr.predict(X_valid)\n",
    "mean_absolute_error(y_valid,predict)"
   ]
  },
  {
   "cell_type": "code",
   "execution_count": 60,
   "metadata": {},
   "outputs": [
    {
     "data": {
      "text/plain": [
       "18.733334018829019"
      ]
     },
     "execution_count": 60,
     "metadata": {},
     "output_type": "execute_result"
    }
   ],
   "source": [
    "#xgb\n",
    "predict=xgb.predict(X_valid)\n",
    "mean_absolute_error(y_valid,predict)"
   ]
  },
  {
   "cell_type": "code",
   "execution_count": 61,
   "metadata": {},
   "outputs": [
    {
     "data": {
      "text/plain": [
       "18.082978723404256"
      ]
     },
     "execution_count": 61,
     "metadata": {},
     "output_type": "execute_result"
    }
   ],
   "source": [
    "#rf\n",
    "predict=rf.predict(X_valid)\n",
    "mean_absolute_error(y_valid,predict)"
   ]
  },
  {
   "cell_type": "markdown",
   "metadata": {
    "collapsed": true
   },
   "source": [
    "Добавление признака высокой стоимости ланча лучушило **randomForest** и **linearRegression**"
   ]
  },
  {
   "cell_type": "markdown",
   "metadata": {},
   "source": [
    "### 4 try"
   ]
  },
  {
   "cell_type": "markdown",
   "metadata": {},
   "source": [
    "Посмотрм на признаки которые также напрямую влияюь на заполняемость заведения"
   ]
  },
  {
   "cell_type": "code",
   "execution_count": 65,
   "metadata": {},
   "outputs": [
    {
     "data": {
      "image/png": "[encoded data removed]",
      "text/plain": [
       "<matplotlib.figure.Figure at 0x1a08dcc518>"
      ]
     },
     "metadata": {},
     "output_type": "display_data"
    }
   ],
   "source": [
    "plt.boxplot(data2[\"price\"]);"
   ]
  },
  {
   "cell_type": "code",
   "execution_count": 66,
   "metadata": {},
   "outputs": [
    {
     "data": {
      "image/png": "[encoded data removed]",
      "text/plain": [
       "<matplotlib.figure.Figure at 0x1a08c67be0>"
      ]
     },
     "metadata": {},
     "output_type": "display_data"
    }
   ],
   "source": [
    "plt.boxplot(data2[\"n_seats\"]);"
   ]
  },
  {
   "cell_type": "code",
   "execution_count": 196,
   "metadata": {},
   "outputs": [],
   "source": [
    "#По аналогии с ценой на ланч создам признак высокого среднего чека \n",
    "data2[\"price_hight\"]=data2[\"price\"]>data2[\"price\"].quantile(0.95)\n",
    "\n",
    "#Также при слишком большом кол-ве мест сложно обеспечить сильную заполненность(либо это шум в данных)\n",
    "data2[\"n_seats_hight\"]=data2[\"n_seats\"]>data2[\"n_seats\"].quantile(0.95)"
   ]
  },
  {
   "cell_type": "code",
   "execution_count": 184,
   "metadata": {
    "collapsed": true
   },
   "outputs": [],
   "source": [
    "data2.fillna(method=\"pad\",inplace=True)"
   ]
  },
  {
   "cell_type": "code",
   "execution_count": 185,
   "metadata": {
    "collapsed": true
   },
   "outputs": [],
   "source": [
    "train=data2[:separate]\n",
    "test=data2[separate:]"
   ]
  },
  {
   "cell_type": "code",
   "execution_count": 186,
   "metadata": {},
   "outputs": [
    {
     "data": {
      "text/plain": [
       "((219, 282), (94, 282))"
      ]
     },
     "execution_count": 186,
     "metadata": {},
     "output_type": "execute_result"
    }
   ],
   "source": [
    "X_train,X_valid,y_train,y_valid=train_test_split(train,answer,test_size=0.3,random_state=17)\n",
    "X_train.shape,X_valid.shape"
   ]
  },
  {
   "cell_type": "code",
   "execution_count": 187,
   "metadata": {},
   "outputs": [
    {
     "data": {
      "text/plain": [
       "18.187234042553193"
      ]
     },
     "execution_count": 187,
     "metadata": {},
     "output_type": "execute_result"
    }
   ],
   "source": [
    "rf.fit(X_train,y_train);\n",
    "#rf\n",
    "predict=rf.predict(X_valid)\n",
    "mean_absolute_error(y_valid,predict)"
   ]
  },
  {
   "cell_type": "markdown",
   "metadata": {},
   "source": [
    "Добавленные признаки только ухудшили модель так что их удалим(можно подобрать квантиль так что score улучшиться но это может привести к переобучению)"
   ]
  },
  {
   "cell_type": "code",
   "execution_count": 191,
   "metadata": {
    "collapsed": true
   },
   "outputs": [],
   "source": [
    "data2.drop([\"n_seats_hight\",\"price_hight\"],axis=1,inplace=True)"
   ]
  },
  {
   "cell_type": "markdown",
   "metadata": {
    "collapsed": true
   },
   "source": [
    "### Финальная посылка на Kaggle"
   ]
  },
  {
   "cell_type": "code",
   "execution_count": 192,
   "metadata": {
    "collapsed": true
   },
   "outputs": [],
   "source": [
    "train=data2[:separate]\n",
    "test=data2[separate:]"
   ]
  },
  {
   "cell_type": "code",
   "execution_count": 193,
   "metadata": {
    "collapsed": true
   },
   "outputs": [],
   "source": [
    "rf=RandomForestRegressor(random_state=17,n_jobs=-1,criterion=\"mae\");\n",
    "rf.fit(train,answer);"
   ]
  },
  {
   "cell_type": "code",
   "execution_count": 194,
   "metadata": {
    "collapsed": true
   },
   "outputs": [],
   "source": [
    "kaggle(rf,test,drop=False)"
   ]
  }
 ],
 "metadata": {
  "kernelspec": {
   "display_name": "Python 3",
   "language": "python",
   "name": "python3"
  },
  "language_info": {
   "codemirror_mode": {
    "name": "ipython",
    "version": 3
   },
   "file_extension": ".py",
   "mimetype": "text/x-python",
   "name": "python",
   "nbconvert_exporter": "python",
   "pygments_lexer": "ipython3",
   "version": "3.6.1"
  }
 },
 "nbformat": 4,
 "nbformat_minor": 2
}
