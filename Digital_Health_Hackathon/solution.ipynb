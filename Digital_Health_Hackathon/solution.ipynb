{
 "cells": [
  {
   "cell_type": "code",
   "execution_count": 5,
   "metadata": {},
   "outputs": [],
   "source": [
    "PATH_TO_DATA=\"/Users/roman/Digital_Health_Hackathon/\"\n",
    "import pandas as pd\n",
    "import numpy as np\n",
    "import matplotlib.pyplot as plt\n",
    "import seaborn as sns\n",
    "%matplotlib inline\n",
    "\n",
    "from sklearn.preprocessing import LabelEncoder,normalize\n",
    "from sklearn.model_selection import train_test_split\n",
    "from sklearn.metrics import accuracy_score,jaccard_similarity_score\n",
    "\n",
    "\n",
    "from sklearn.linear_model import LogisticRegression\n",
    "from sklearn.ensemble import RandomForestClassifier\n",
    "from xgboost import XGBClassifier\n",
    "from sklearn.svm import LinearSVC\n",
    "from sklearn.feature_extraction.text import TfidfVectorizer\n",
    "\n",
    "\n",
    "from scipy.cluster import hierarchy\n",
    "from scipy.spatial.distance import pdist\n",
    "from scipy.sparse import hstack\n",
    "\n",
    "from tqdm import tqdm"
   ]
  },
  {
   "cell_type": "code",
   "execution_count": 6,
   "metadata": {},
   "outputs": [
    {
     "data": {
      "text/plain": [
       "((61976, 9), (30000, 7))"
      ]
     },
     "execution_count": 6,
     "metadata": {},
     "output_type": "execute_result"
    }
   ],
   "source": [
    "train=pd.read_csv(PATH_TO_DATA+\"train_data.csv\",sep=\";\",index_col=\"Id_Записи\")\n",
    "test=pd.read_csv(PATH_TO_DATA+\"test_data.csv\",sep=\";\",index_col=\"Id_Записи\")\n",
    "\n",
    "sample=pd.read_csv(PATH_TO_DATA+\"sample_submission.csv\",index_col=\"Id_Записи\")\n",
    "\n",
    "train.shape,test.shape"
   ]
  },
  {
   "cell_type": "code",
   "execution_count": 7,
   "metadata": {},
   "outputs": [
    {
     "data": {
      "text/html": [
       "<div>\n",
       "<style>\n",
       "    .dataframe thead tr:only-child th {\n",
       "        text-align: right;\n",
       "    }\n",
       "\n",
       "    .dataframe thead th {\n",
       "        text-align: left;\n",
       "    }\n",
       "\n",
       "    .dataframe tbody tr th {\n",
       "        vertical-align: top;\n",
       "    }\n",
       "</style>\n",
       "<table border=\"1\" class=\"dataframe\">\n",
       "  <thead>\n",
       "    <tr style=\"text-align: right;\">\n",
       "      <th></th>\n",
       "      <th>Id_Пациента</th>\n",
       "      <th>Возраст</th>\n",
       "      <th>Диагноз</th>\n",
       "      <th>Жалобы</th>\n",
       "      <th>Источник_рекламы</th>\n",
       "      <th>Клиника</th>\n",
       "      <th>Код_диагноза</th>\n",
       "      <th>Пол</th>\n",
       "      <th>Услуга</th>\n",
       "    </tr>\n",
       "    <tr>\n",
       "      <th>Id_Записи</th>\n",
       "      <th></th>\n",
       "      <th></th>\n",
       "      <th></th>\n",
       "      <th></th>\n",
       "      <th></th>\n",
       "      <th></th>\n",
       "      <th></th>\n",
       "      <th></th>\n",
       "      <th></th>\n",
       "    </tr>\n",
       "  </thead>\n",
       "  <tbody>\n",
       "    <tr>\n",
       "      <th>0</th>\n",
       "      <td>115819</td>\n",
       "      <td>54</td>\n",
       "      <td>Гипертензивная болезнь сердца [гипертоническая...</td>\n",
       "      <td>на повышение ад утром до 140/90 мм.рт.ст., пер...</td>\n",
       "      <td>Другое</td>\n",
       "      <td>5</td>\n",
       "      <td>I11</td>\n",
       "      <td>2</td>\n",
       "      <td>Прием врача-кардиолога  повторный, амбулаторный</td>\n",
       "    </tr>\n",
       "    <tr>\n",
       "      <th>1</th>\n",
       "      <td>399973</td>\n",
       "      <td>32</td>\n",
       "      <td>Доброкачественное новообразование молочной железы</td>\n",
       "      <td>На наличие опухоли в левой молочной железе</td>\n",
       "      <td>Другое</td>\n",
       "      <td>3</td>\n",
       "      <td>D24</td>\n",
       "      <td>2</td>\n",
       "      <td>Прием врача-онколога (маммолога), повторный, а...</td>\n",
       "    </tr>\n",
       "    <tr>\n",
       "      <th>2</th>\n",
       "      <td>427563</td>\n",
       "      <td>72</td>\n",
       "      <td>Простой хронический бронхит</td>\n",
       "      <td>Активных жалоб нет.</td>\n",
       "      <td>Интернет</td>\n",
       "      <td>6</td>\n",
       "      <td>J41.0</td>\n",
       "      <td>2</td>\n",
       "      <td>Прием первичный врача-пульмонолога</td>\n",
       "    </tr>\n",
       "    <tr>\n",
       "      <th>3</th>\n",
       "      <td>257197</td>\n",
       "      <td>55</td>\n",
       "      <td>Другая дорсалгия</td>\n",
       "      <td>на сохраняющиеся боли в спине и пояснице, сков...</td>\n",
       "      <td>Другое</td>\n",
       "      <td>3</td>\n",
       "      <td>M54.8</td>\n",
       "      <td>1</td>\n",
       "      <td>Прием врача-невролога  повторный, амбулаторный</td>\n",
       "    </tr>\n",
       "    <tr>\n",
       "      <th>4</th>\n",
       "      <td>281066</td>\n",
       "      <td>28</td>\n",
       "      <td>Острый фарингит</td>\n",
       "      <td>на дискомфорт в горле, слабое першение, слабость</td>\n",
       "      <td>Другое</td>\n",
       "      <td>3</td>\n",
       "      <td>J02</td>\n",
       "      <td>2</td>\n",
       "      <td>Прием врача-оториноларинголога повторный, амбу...</td>\n",
       "    </tr>\n",
       "  </tbody>\n",
       "</table>\n",
       "</div>"
      ],
      "text/plain": [
       "           Id_Пациента  Возраст  \\\n",
       "Id_Записи                         \n",
       "0               115819       54   \n",
       "1               399973       32   \n",
       "2               427563       72   \n",
       "3               257197       55   \n",
       "4               281066       28   \n",
       "\n",
       "                                                     Диагноз  \\\n",
       "Id_Записи                                                      \n",
       "0          Гипертензивная болезнь сердца [гипертоническая...   \n",
       "1          Доброкачественное новообразование молочной железы   \n",
       "2                                Простой хронический бронхит   \n",
       "3                                           Другая дорсалгия   \n",
       "4                                            Острый фарингит   \n",
       "\n",
       "                                                      Жалобы Источник_рекламы  \\\n",
       "Id_Записи                                                                       \n",
       "0          на повышение ад утром до 140/90 мм.рт.ст., пер...           Другое   \n",
       "1                 На наличие опухоли в левой молочной железе           Другое   \n",
       "2                                        Активных жалоб нет.         Интернет   \n",
       "3          на сохраняющиеся боли в спине и пояснице, сков...           Другое   \n",
       "4           на дискомфорт в горле, слабое першение, слабость           Другое   \n",
       "\n",
       "           Клиника Код_диагноза  Пол  \\\n",
       "Id_Записи                              \n",
       "0                5          I11    2   \n",
       "1                3          D24    2   \n",
       "2                6        J41.0    2   \n",
       "3                3        M54.8    1   \n",
       "4                3          J02    2   \n",
       "\n",
       "                                                      Услуга  \n",
       "Id_Записи                                                     \n",
       "0            Прием врача-кардиолога  повторный, амбулаторный  \n",
       "1          Прием врача-онколога (маммолога), повторный, а...  \n",
       "2                         Прием первичный врача-пульмонолога  \n",
       "3             Прием врача-невролога  повторный, амбулаторный  \n",
       "4          Прием врача-оториноларинголога повторный, амбу...  "
      ]
     },
     "execution_count": 7,
     "metadata": {},
     "output_type": "execute_result"
    }
   ],
   "source": [
    "train.head()"
   ]
  },
  {
   "cell_type": "markdown",
   "metadata": {},
   "source": [
    "### train\n",
    "- Id_Пациента\n",
    "- Возраст\n",
    "- Диагноз <b>unic</b>\n",
    "- Жалобы\n",
    "- Источник_рекламы\n",
    "- Клиника\n",
    "- Код_диагноза <b>unic целевая</b>\n",
    "- Пол\n",
    "- Услуга\n",
    "\n",
    "### test\n",
    "- Id_Пациента\n",
    "- Возраст\n",
    "- Жалобы\n",
    "- Источник_рекламы\n",
    "- Клиника\n",
    "- Пол\n",
    "- Услуга"
   ]
  },
  {
   "cell_type": "markdown",
   "metadata": {},
   "source": [
    "### Идеи\n",
    "- Почистить по возрасту (кроме 907)\n",
    "- OHE\n",
    "    - Клиника\n",
    "    - Источник рекламы (210 параметров)\n",
    "- Поработать с рекламой (слишком много категорий)\n",
    "    - Попробовать в ручную\n",
    "    - Кластеризовать и сделать столько категорий сколько класетров\n",
    "    - Посмотреть на кореляцию OHE рекламы\n"
   ]
  },
  {
   "cell_type": "code",
   "execution_count": 4,
   "metadata": {
    "collapsed": true
   },
   "outputs": [],
   "source": [
    "def submit(predict,name=\"ans\",change=True):\n",
    "    if change: sample[\"Код_диагноза\"]=le.inverse_transform(predict)\n",
    "    if not change:sample[\"Код_диагноза\"]=predict\n",
    "    sample.to_csv(name+\".csv\")"
   ]
  },
  {
   "cell_type": "markdown",
   "metadata": {},
   "source": [
    "# 1"
   ]
  },
  {
   "cell_type": "code",
   "execution_count": 9,
   "metadata": {},
   "outputs": [
    {
     "data": {
      "text/plain": [
       "<matplotlib.axes._subplots.AxesSubplot at 0x10f4f25f8>"
      ]
     },
     "execution_count": 9,
     "metadata": {},
     "output_type": "execute_result"
    },
    {
     "data": {
      "image/png": "[encoded data removed]",
      "text/plain": [
       "<matplotlib.figure.Figure at 0x10f7486d8>"
      ]
     },
     "metadata": {},
     "output_type": "display_data"
    }
   ],
   "source": [
    "#Видно что есть люди возраст которыех сильно больше 100 лет(e.g 2017)\n",
    "train[\"Возраст\"].hist(bins=1000);"
   ]
  },
  {
   "cell_type": "code",
   "execution_count": 14,
   "metadata": {},
   "outputs": [
    {
     "data": {
      "image/png": "[encoded data removed]",
      "text/plain": [
       "<matplotlib.figure.Figure at 0x111018ba8>"
      ]
     },
     "metadata": {},
     "output_type": "display_data"
    }
   ],
   "source": [
    "train[train[\"Возраст\"]<100][\"Возраст\"].hist();"
   ]
  },
  {
   "cell_type": "code",
   "execution_count": 15,
   "metadata": {
    "collapsed": true
   },
   "outputs": [],
   "source": [
    "#Удаление возраста >100 и добавление признака age_907\n",
    "\n",
    "# Признак  age_907\n",
    "train[\"age_907\"]=(train[\"Возраст\"]==907).apply(lambda x: 1 if x==True else 0 )\n",
    "test[\"age_907\"]=(test[\"Возраст\"]==907).apply(lambda x: 1 if x==True else 0 )\n",
    "\n",
    "\n",
    "test[test[\"Возраст\"]>100]=int(test[\"Возраст\"].mean())\n",
    "train[train[\"Возраст\"]==907]=int(test[\"Возраст\"].mean())\n",
    "\n",
    "\n",
    "#Удаление возрастов >100 (907 заменено)\n",
    "train.drop(train[train[\"Возраст\"]>100].index,inplace=True,axis=0)"
   ]
  },
  {
   "cell_type": "code",
   "execution_count": 16,
   "metadata": {
    "collapsed": true
   },
   "outputs": [],
   "source": [
    "df=pd.concat([train.drop([\"Диагноз\",\"Код_диагноза\"],axis=1)\n",
    "              ,test])\n",
    "\n",
    "sep=train.shape[0]"
   ]
  },
  {
   "cell_type": "code",
   "execution_count": 17,
   "metadata": {
    "collapsed": true
   },
   "outputs": [],
   "source": [
    "#Кодирование целвой переменной на классы\n",
    "train[\"Код_диагноза\"]=train[\"Код_диагноза\"].astype(str) #костыль\n",
    "\n",
    "le=LabelEncoder()\n",
    "train[\"Код_диагноза\"]=train[\"Код_диагноза\"].astype(str)\n",
    "y=le.fit_transform(train[\"Код_диагноза\"])\n",
    "\n",
    "train.drop(\"Код_диагноза\",axis=1,inplace=True)"
   ]
  },
  {
   "cell_type": "code",
   "execution_count": 18,
   "metadata": {
    "collapsed": true
   },
   "outputs": [],
   "source": [
    "#Кодирование клиники OHE\n",
    "collumns=[\"hos_\"+str(i) for i in range(len(df[\"Клиника\"].unique()))]\n",
    "\n",
    "dumm_hosp=pd.get_dummies(df[\"Клиника\"])\n",
    "dumm_hosp.columns=collumns\n",
    "\n",
    "df=pd.concat([df,dumm_hosp],axis=1)\n",
    "\n",
    "df.drop(\"Клиника\",axis=1,inplace=True)"
   ]
  },
  {
   "cell_type": "code",
   "execution_count": 19,
   "metadata": {
    "collapsed": true
   },
   "outputs": [],
   "source": [
    "#Кодирование Источника рекламы OHE\n",
    "collumns=[\"way_\"+str(i) for i in range(len(df[\"Источник_рекламы\"].unique()))]\n",
    "\n",
    "dumm_way=pd.get_dummies(df[\"Источник_рекламы\"])\n",
    "dumm_way.columns=collumns\n",
    "\n",
    "df=pd.concat([df,dumm_way],axis=1)\n",
    "\n",
    "\n",
    "advertising=df[\"Источник_рекламы\"]\n",
    "df.drop(\"Источник_рекламы\",axis=1,inplace=True)"
   ]
  },
  {
   "cell_type": "code",
   "execution_count": 20,
   "metadata": {
    "collapsed": true
   },
   "outputs": [],
   "source": [
    "X=df.drop([\"Жалобы\",\"Услуга\"],axis=1)\n",
    "\n",
    "train=X[:sep]\n",
    "test=X[sep:]\n",
    "\n",
    "X_train,X_valid,y_train,y_valid=train_test_split(train,y,test_size=0.3,random_state=0)"
   ]
  },
  {
   "cell_type": "code",
   "execution_count": 21,
   "metadata": {
    "collapsed": true
   },
   "outputs": [],
   "source": [
    "lr=LogisticRegression(random_state=0)  \n",
    "rf=RandomForestClassifier(random_state=0)\n",
    "svm = LinearSVC(random_state=0)"
   ]
  },
  {
   "cell_type": "code",
   "execution_count": 22,
   "metadata": {},
   "outputs": [
    {
     "data": {
      "text/plain": [
       "0.16442555938037864"
      ]
     },
     "execution_count": 22,
     "metadata": {},
     "output_type": "execute_result"
    }
   ],
   "source": [
    "rf.fit(X_train,y_train)\n",
    "predict=rf.predict(X_valid)\n",
    "\n",
    "#Random Forest\n",
    "accuracy_score(y_valid,predict) #0.16442555938037864"
   ]
  },
  {
   "cell_type": "code",
   "execution_count": 23,
   "metadata": {},
   "outputs": [
    {
     "data": {
      "text/plain": [
       "0.038242254733218586"
      ]
     },
     "execution_count": 23,
     "metadata": {},
     "output_type": "execute_result"
    }
   ],
   "source": [
    "lr.fit(X_train,y_train)\n",
    "predict=lr.predict(X_valid)\n",
    "\n",
    "#logReg\n",
    "accuracy_score(y_valid,predict) #0.038242254733218586"
   ]
  },
  {
   "cell_type": "code",
   "execution_count": 24,
   "metadata": {},
   "outputs": [
    {
     "data": {
      "text/plain": [
       "0.00016135972461273667"
      ]
     },
     "execution_count": 24,
     "metadata": {},
     "output_type": "execute_result"
    }
   ],
   "source": [
    "svm.fit(X_train,y_train)\n",
    "predict=svm.predict(X_valid)\n",
    "\n",
    "#SVM\n",
    "accuracy_score(y_valid,predict) #0.00016135972461273667"
   ]
  },
  {
   "cell_type": "markdown",
   "metadata": {},
   "source": [
    "так как rf показал себя лучше всего его и использую"
   ]
  },
  {
   "cell_type": "markdown",
   "metadata": {},
   "source": [
    "## 2\n",
    "\n",
    "\n",
    "- Отдельные признаки для\n",
    "    - Врачей (начинается с врач) 1 врач 1 признак\n",
    "    - 1 признак на >10\n",
    "    - 1 признак для всего остального\n"
   ]
  },
  {
   "cell_type": "code",
   "execution_count": 25,
   "metadata": {
    "collapsed": true
   },
   "outputs": [],
   "source": [
    "#Удаление OHE рекламы\n",
    "df.drop(collumns,axis=1,inplace=True)"
   ]
  },
  {
   "cell_type": "code",
   "execution_count": 26,
   "metadata": {
    "collapsed": true
   },
   "outputs": [],
   "source": [
    "#Выделение врачей\n",
    "df[\"Источник_рекламы\"]=advertising\n",
    "df[\"Источник_рекламы\"]=df[\"Источник_рекламы\"].astype(str)\n",
    "\n",
    "doctor=[]\n",
    "\n",
    "for i in df[\"Источник_рекламы\"].values:\n",
    "    if i.split(\" \")[0]==\"Врач\":\n",
    "        doctor.append(i)\n",
    "doctor=list(set(doctor))"
   ]
  },
  {
   "cell_type": "code",
   "execution_count": 27,
   "metadata": {
    "collapsed": true
   },
   "outputs": [],
   "source": [
    "#Формирование OHE признаков\n",
    "\n",
    "#Выделение имен (ошибок не много)\n",
    "df[\"Источник_рекламы\"]=df[\"Источник_рекламы\"].astype(str)\n",
    "\n",
    "full_name=[]\n",
    "\n",
    "for i in df[\"Источник_рекламы\"].values:\n",
    "    i=i.strip()\n",
    "    if len(i.split(\" \"))>1 and i.split(\" \")[0]!=\"Врач\":\n",
    "        if all([word[0].isupper() for word in i.split(\" \") ]):\n",
    "            full_name.append(i)\n",
    "full_name=list(set(full_name))\n",
    "\n",
    "\n",
    "#more_10\n",
    "name,count=df[\"Источник_рекламы\"].value_counts().index,df[\"Источник_рекламы\"].value_counts().values\n",
    "\n",
    "more_10=[name[i] for i in range(len(name)) if count[i]>10]\n",
    "more_10=list(set(more_10))\n",
    "\n",
    "\n",
    "#Итого\n",
    "cluster=list(set(full_name+doctor+more_10)) #Отдельный кластер на 1 слово\n",
    "\n",
    "\n",
    "\n",
    "#Другое 2\n",
    "name,count=df[\"Источник_рекламы\"].value_counts().index,df[\"Источник_рекламы\"].value_counts().values\n",
    "\n",
    "other2=[name[i] for i in range(len(name)) if count[i]<10]\n",
    "other2=list(set(other2))"
   ]
  },
  {
   "cell_type": "code",
   "execution_count": 28,
   "metadata": {
    "collapsed": true
   },
   "outputs": [],
   "source": [
    "#Создание OHE признаков из списков выше\n",
    "df[\"way_other2\"]=df[\"Источник_рекламы\"].apply(lambda x: 1 if x in other2 else 0)\n",
    "\n",
    "for i,way in enumerate(cluster):\n",
    "    df[\"way_\"+str(i)]=df[\"Источник_рекламы\"].apply(lambda x: 1 if x==way else 0)\n",
    "    \n",
    "df.drop(\"Источник_рекламы\",axis=1,inplace=True)"
   ]
  },
  {
   "cell_type": "code",
   "execution_count": 29,
   "metadata": {
    "collapsed": true
   },
   "outputs": [],
   "source": [
    "X=df.drop([\"Жалобы\",\"Услуга\"],axis=1)\n",
    "\n",
    "train=X[:sep]\n",
    "test=X[sep:]\n",
    "\n",
    "X_train,X_valid,y_train,y_valid=train_test_split(train,y,test_size=0.3,random_state=0)"
   ]
  },
  {
   "cell_type": "code",
   "execution_count": 30,
   "metadata": {},
   "outputs": [
    {
     "data": {
      "text/plain": [
       "0.16281196213425128"
      ]
     },
     "execution_count": 30,
     "metadata": {},
     "output_type": "execute_result"
    }
   ],
   "source": [
    "rf.fit(X_train,y_train)\n",
    "predict=rf.predict(X_valid)\n",
    "\n",
    "#Random Forest\n",
    "accuracy_score(y_valid,predict) "
   ]
  },
  {
   "cell_type": "code",
   "execution_count": null,
   "metadata": {
    "collapsed": true
   },
   "outputs": [],
   "source": [
    "#Улучшение не значительное"
   ]
  },
  {
   "cell_type": "markdown",
   "metadata": {
    "collapsed": true
   },
   "source": [
    "## 3\n",
    "OHE\n",
    "- Повторный\n",
    "- Первичный\n",
    "- амбулаторный\n",
    "- кардио\n",
    "- Перевязка\n",
    "- лечебно-диагностический\n",
    "- зуб\n",
    "- бассейн\n",
    "- ГИБДД"
   ]
  },
  {
   "cell_type": "code",
   "execution_count": 31,
   "metadata": {
    "collapsed": true
   },
   "outputs": [],
   "source": [
    "df[\"Услуга\"]=df[\"Услуга\"].astype(str)\n",
    "df[\"reuptake\"]=df[\"Услуга\"].apply(lambda x:1 if \"повторный\" in x else 0)\n",
    "\n",
    "df[\"first\"]=df[\"Услуга\"].apply(lambda x:1 if \"первичный\" in x else 0)"
   ]
  },
  {
   "cell_type": "code",
   "execution_count": 32,
   "metadata": {
    "collapsed": true
   },
   "outputs": [],
   "source": [
    "df[\"outpatient\"]=df[\"Услуга\"].apply(lambda x:1 if \"амбулаторный\" in x else 0)\n",
    "df[\"cardio\"]=df[\"Услуга\"].apply(lambda x:1 if \"кардио\" in x else 0)\n",
    "df[\"bandaging\"]=df[\"Услуга\"].apply(lambda x:1 if \"Перевязка\" in x else 0)\n",
    "df[\"diagnistic\"]=df[\"Услуга\"].apply(lambda x:1 if \"лечебно-диагностический\" in x else 0)\n",
    "df[\"tooth\"]=df[\"Услуга\"].apply(lambda x:1 if \"зуб\" in x else 0)\n",
    "df[\"pool\"]=df[\"Услуга\"].apply(lambda x:1 if \"бассейн\" in x else 0)\n",
    "df[\"police\"]=df[\"Услуга\"].apply(lambda x:1 if \"ГИБДД\" in x else 0)"
   ]
  },
  {
   "cell_type": "code",
   "execution_count": 33,
   "metadata": {
    "collapsed": true
   },
   "outputs": [],
   "source": [
    "#OHE должностей докторов\n",
    "doctors=[]\n",
    "for i in df[\"Услуга\"].values:\n",
    "    for word in i.split(\" \"):\n",
    "        if \"врача\" in word:\n",
    "            doctor.append(word)\n",
    "doctors=list(set(doctor))\n",
    "\n",
    "\n",
    "for i,doctor in enumerate(doctors):\n",
    "    df[\"doctor_\"+str(i)]=df[\"Услуга\"].apply(lambda x: 1 if doctor in x else 0)"
   ]
  },
  {
   "cell_type": "code",
   "execution_count": 34,
   "metadata": {
    "collapsed": true
   },
   "outputs": [],
   "source": [
    "X=df.drop([\"Жалобы\",\"Услуга\"],axis=1)\n",
    "\n",
    "train=X[:sep]\n",
    "test=X[sep:]\n",
    "\n",
    "X_train,X_valid,y_train,y_valid=train_test_split(train,y,test_size=0.3,random_state=0)"
   ]
  },
  {
   "cell_type": "code",
   "execution_count": 35,
   "metadata": {
    "collapsed": true
   },
   "outputs": [],
   "source": [
    "X_train_normal=normalize(X_train,norm=\"l1\")\n",
    "X_valid_normal=normalize(X_valid,norm=\"l1\")"
   ]
  },
  {
   "cell_type": "code",
   "execution_count": 36,
   "metadata": {},
   "outputs": [
    {
     "data": {
      "text/plain": [
       "0.26156411359724613"
      ]
     },
     "execution_count": 36,
     "metadata": {},
     "output_type": "execute_result"
    }
   ],
   "source": [
    "rf.fit(X_train_normal,y_train)\n",
    "predict=rf.predict(X_valid_normal)\n",
    "\n",
    "#Random Forest\n",
    "accuracy_score(y_valid,predict) #0.26156411359724613"
   ]
  },
  {
   "cell_type": "code",
   "execution_count": null,
   "metadata": {
    "collapsed": true
   },
   "outputs": [],
   "source": [
    "#Улучшение хорошее благодаря новым признакам и Lasso нормализации"
   ]
  },
  {
   "cell_type": "markdown",
   "metadata": {},
   "source": [
    "## 4 \n",
    "отобрать жалобы так же как и услуги"
   ]
  },
  {
   "cell_type": "code",
   "execution_count": 37,
   "metadata": {
    "collapsed": true
   },
   "outputs": [],
   "source": [
    "df.drop([\"Услуга\"],axis=1,inplace=True)\n",
    "\n",
    "df[\"Жалобы\"]=df[\"Жалобы\"].apply(lambda x:str(x).lower().strip())"
   ]
  },
  {
   "cell_type": "code",
   "execution_count": 38,
   "metadata": {
    "collapsed": true
   },
   "outputs": [],
   "source": [
    "#Формирование OHE жалоб\n",
    "name,count=df[\"Жалобы\"].value_counts().index,df[\"Жалобы\"].value_counts().values\n",
    "\n",
    "troubles=[name[i] for i in range(len(name)) if count[i]>10]\n",
    "troubles=list(set(troubles))\n",
    "\n",
    "\n",
    "for i,trouble in enumerate(troubles):\n",
    "    df[\"trouble_\"+str(i)]=df[\"Жалобы\"].apply(lambda x: 1 if trouble==x else 0)\n",
    "\n",
    "df[\"trouble_other\"]=df[\"Жалобы\"].apply(lambda x: 1 if x not in troubles else 0)"
   ]
  },
  {
   "cell_type": "code",
   "execution_count": 39,
   "metadata": {
    "collapsed": true
   },
   "outputs": [],
   "source": [
    "X=df.drop([\"Жалобы\"],axis=1)\n",
    "\n",
    "train=X[:sep]\n",
    "test=X[sep:]\n",
    "\n",
    "X_train,X_valid,y_train,y_valid=train_test_split(train,y,test_size=0.3,random_state=0)"
   ]
  },
  {
   "cell_type": "code",
   "execution_count": 40,
   "metadata": {
    "collapsed": true
   },
   "outputs": [],
   "source": [
    "X_train_normal=normalize(X_train,norm=\"l1\")\n",
    "X_valid_normal=normalize(X_valid,norm=\"l1\")"
   ]
  },
  {
   "cell_type": "code",
   "execution_count": 41,
   "metadata": {},
   "outputs": [
    {
     "data": {
      "text/plain": [
       "0.27592512908777966"
      ]
     },
     "execution_count": 41,
     "metadata": {},
     "output_type": "execute_result"
    }
   ],
   "source": [
    "rf.fit(X_train_normal,y_train)\n",
    "predict=rf.predict(X_valid_normal)\n",
    "\n",
    "#Random Forest\n",
    "accuracy_score(y_valid,predict) #0.27592512908777966"
   ]
  },
  {
   "cell_type": "code",
   "execution_count": null,
   "metadata": {
    "collapsed": true
   },
   "outputs": [],
   "source": [
    "#Еще увеличилось"
   ]
  },
  {
   "cell_type": "markdown",
   "metadata": {},
   "source": [
    "## 5\n",
    "поиск дубликатов в train и test"
   ]
  },
  {
   "cell_type": "code",
   "execution_count": 80,
   "metadata": {
    "collapsed": true
   },
   "outputs": [],
   "source": [
    "train=pd.read_csv(PATH_TO_DATA+\"train_data.csv\",sep=\";\",index_col=\"Id_Записи\")\n",
    "test=pd.read_csv(PATH_TO_DATA+\"test_data.csv\",sep=\";\",index_col=\"Id_Записи\")\n",
    "\n",
    "y=train[\"Код_диагноза\"]\n",
    "train.drop([\"Диагноз\",\"Код_диагноза\"],axis=1,inplace=True)"
   ]
  },
  {
   "cell_type": "code",
   "execution_count": 81,
   "metadata": {},
   "outputs": [
    {
     "name": "stderr",
     "output_type": "stream",
     "text": [
      "100%|██████████| 30000/30000 [29:21<00:00, 17.03it/s]\n"
     ]
    }
   ],
   "source": [
    "indexes=[]\n",
    "val=[]\n",
    "\n",
    "\n",
    "\n",
    "\n",
    "for ex in tqdm(range(test.shape[0])):\n",
    "    arr=[]\n",
    "    for i in test.values[ex]==train.values:\n",
    "        arr.append(all(i))\n",
    "    if any(arr):\n",
    "        indexes.append(ex)\n",
    "        val.append(y[arr].values[0])"
   ]
  },
  {
   "cell_type": "code",
   "execution_count": 82,
   "metadata": {},
   "outputs": [
    {
     "data": {
      "text/plain": [
       "2303"
      ]
     },
     "execution_count": 82,
     "metadata": {},
     "output_type": "execute_result"
    }
   ],
   "source": [
    "len(indexes)"
   ]
  },
  {
   "cell_type": "code",
   "execution_count": null,
   "metadata": {
    "collapsed": true
   },
   "outputs": [],
   "source": [
    "#Найденно 2303 дубликатов их вставка в test (из train) не помогла,алгоритм данную заканомернсть находить сам"
   ]
  },
  {
   "cell_type": "markdown",
   "metadata": {},
   "source": [
    "## 6\n",
    "TF-IDF\n",
    "- Жалобы\n",
    "- Источник_рекламы\n",
    "- Услуга\n",
    "\n",
    "Несколько предидущих признаков"
   ]
  },
  {
   "cell_type": "code",
   "execution_count": 58,
   "metadata": {
    "collapsed": true
   },
   "outputs": [],
   "source": [
    "train=pd.read_csv(PATH_TO_DATA+\"train_data.csv\",sep=\";\",index_col=\"Id_Записи\")\n",
    "test=pd.read_csv(PATH_TO_DATA+\"test_data.csv\",sep=\";\",index_col=\"Id_Записи\")"
   ]
  },
  {
   "cell_type": "markdown",
   "metadata": {},
   "source": [
    "Несколько старых признаков"
   ]
  },
  {
   "cell_type": "code",
   "execution_count": 59,
   "metadata": {
    "collapsed": true
   },
   "outputs": [],
   "source": [
    "#Удаление возраста >100 и добавление признака age_907\n",
    "\n",
    "# Признак  age_907\n",
    "train[\"age_907\"]=(train[\"Возраст\"]==907).apply(lambda x: 1 if x==True else 0 )\n",
    "test[\"age_907\"]=(test[\"Возраст\"]==907).apply(lambda x: 1 if x==True else 0 )\n",
    "\n",
    "\n",
    "test[test[\"Возраст\"]>100]=int(test[\"Возраст\"].mean())\n",
    "train[train[\"Возраст\"]==907]=int(test[\"Возраст\"].mean())\n",
    "\n",
    "\n",
    "#Удаление возрастов >100 (907 заменено)\n",
    "train.drop(train[train[\"Возраст\"]>100].index,inplace=True,axis=0)"
   ]
  },
  {
   "cell_type": "code",
   "execution_count": 60,
   "metadata": {
    "collapsed": true
   },
   "outputs": [],
   "source": [
    "df=pd.concat([train.drop([\"Диагноз\",\"Код_диагноза\"],axis=1)\n",
    "              ,test])\n",
    "\n",
    "sep=train.shape[0]"
   ]
  },
  {
   "cell_type": "code",
   "execution_count": 61,
   "metadata": {
    "collapsed": true
   },
   "outputs": [],
   "source": [
    "#Кодирование целвой переменной на классы\n",
    "train[\"Код_диагноза\"]=train[\"Код_диагноза\"].astype(str) #костыль\n",
    "\n",
    "le=LabelEncoder()\n",
    "train[\"Код_диагноза\"]=train[\"Код_диагноза\"].astype(str)\n",
    "y=le.fit_transform(train[\"Код_диагноза\"])\n",
    "\n",
    "train.drop(\"Код_диагноза\",axis=1,inplace=True)"
   ]
  },
  {
   "cell_type": "code",
   "execution_count": 62,
   "metadata": {
    "collapsed": true
   },
   "outputs": [],
   "source": [
    "#Кодирование клиники OHE\n",
    "collumns=[\"hos_\"+str(i) for i in range(len(df[\"Клиника\"].unique()))]\n",
    "\n",
    "dumm_hosp=pd.get_dummies(df[\"Клиника\"])\n",
    "dumm_hosp.columns=collumns\n",
    "\n",
    "df=pd.concat([df,dumm_hosp],axis=1)\n",
    "\n",
    "df.drop(\"Клиника\",axis=1,inplace=True)"
   ]
  },
  {
   "cell_type": "markdown",
   "metadata": {},
   "source": [
    "#### TF-IDF\n",
    "- Жалобы\n",
    "- Источник_рекламы\n",
    "- Услуга"
   ]
  },
  {
   "cell_type": "code",
   "execution_count": 65,
   "metadata": {
    "collapsed": true
   },
   "outputs": [],
   "source": [
    "tfidf=TfidfVectorizer()"
   ]
  },
  {
   "cell_type": "code",
   "execution_count": 66,
   "metadata": {
    "collapsed": true
   },
   "outputs": [],
   "source": [
    "#Жалобы\n",
    "df[\"Жалобы\"]=df[\"Жалобы\"].astype(str)\n",
    "trouble=tfidf.fit_transform(df[\"Жалобы\"].values)"
   ]
  },
  {
   "cell_type": "code",
   "execution_count": 67,
   "metadata": {
    "collapsed": true
   },
   "outputs": [],
   "source": [
    "#Источник рекламы\n",
    "df[\"Источник_рекламы\"]=df[\"Источник_рекламы\"].astype(str)\n",
    "marketing=tfidf.fit_transform(df[\"Источник_рекламы\"].values)"
   ]
  },
  {
   "cell_type": "code",
   "execution_count": 68,
   "metadata": {
    "collapsed": true
   },
   "outputs": [],
   "source": [
    "#Услуга\n",
    "df[\"Услуга\"]=df[\"Услуга\"].astype(str)\n",
    "service=tfidf.fit_transform(df[\"Услуга\"].values)"
   ]
  },
  {
   "cell_type": "code",
   "execution_count": 69,
   "metadata": {
    "collapsed": true
   },
   "outputs": [],
   "source": [
    "df_droped=df.drop([\"Жалобы\",\"Источник_рекламы\",\"Услуга\"],axis=1)"
   ]
  },
  {
   "cell_type": "code",
   "execution_count": 70,
   "metadata": {
    "collapsed": true
   },
   "outputs": [],
   "source": [
    "df_droped_sparse=df_droped.to_sparse()"
   ]
  },
  {
   "cell_type": "code",
   "execution_count": 71,
   "metadata": {
    "collapsed": true
   },
   "outputs": [],
   "source": [
    "df_final_sparse=hstack([df_droped_sparse,trouble,marketing,service])"
   ]
  },
  {
   "cell_type": "code",
   "execution_count": 73,
   "metadata": {
    "collapsed": true
   },
   "outputs": [],
   "source": [
    "X=df_final_sparse\n",
    "\n",
    "train=X.tocsc()[:sep]\n",
    "test=X.tocsc()[sep:]\n",
    "\n",
    "X_train,X_valid,y_train,y_valid=train_test_split(train,y,test_size=0.3,random_state=0)"
   ]
  },
  {
   "cell_type": "code",
   "execution_count": 75,
   "metadata": {
    "collapsed": true
   },
   "outputs": [],
   "source": [
    "X_train_normal=normalize(X_train,norm=\"l1\")\n",
    "X_valid_normal=normalize(X_valid,norm=\"l1\")"
   ]
  },
  {
   "cell_type": "code",
   "execution_count": 76,
   "metadata": {},
   "outputs": [
    {
     "data": {
      "text/plain": [
       "0.31933089500860584"
      ]
     },
     "execution_count": 76,
     "metadata": {},
     "output_type": "execute_result"
    }
   ],
   "source": [
    "rf.fit(X_train_normal,y_train)\n",
    "predict=rf.predict(X_valid_normal)\n",
    "\n",
    "#Random Forest\n",
    "accuracy_score(y_valid,predict) "
   ]
  }
 ],
 "metadata": {
  "kernelspec": {
   "display_name": "Python 3",
   "language": "python",
   "name": "python3"
  },
  "language_info": {
   "codemirror_mode": {
    "name": "ipython",
    "version": 3
   },
   "file_extension": ".py",
   "mimetype": "text/x-python",
   "name": "python",
   "nbconvert_exporter": "python",
   "pygments_lexer": "ipython3",
   "version": "3.6.3"
  }
 },
 "nbformat": 4,
 "nbformat_minor": 2
}
