{
 "cells": [
  {
   "cell_type": "markdown",
   "metadata": {},
   "source": [
    "## Импорты"
   ]
  },
  {
   "cell_type": "code",
   "execution_count": 32,
   "metadata": {},
   "outputs": [],
   "source": [
    "import pandas as pd\n",
    "import numpy as np\n",
    "from sklearn.utils import check_array\n",
    "import keras.backend as K\n",
    "import tensorflow as tf\n",
    "\n",
    "\n",
    "import warnings\n",
    "warnings.filterwarnings('ignore')\n",
    "\n",
    "from sklearn.preprocessing import StandardScaler \n",
    "from sklearn.model_selection import train_test_split\n",
    "\n",
    "from keras.layers import Dense,Dropout,BatchNormalization ,Input,Conv1D\n",
    "from keras.models import Model\n",
    "from keras.layers.advanced_activations import LeakyReLU, PReLU\n",
    "from keras.callbacks import LearningRateScheduler,TensorBoard,Callback\n",
    "from keras.utils import np_utils\n",
    "\n",
    "\n",
    "\n",
    "PATH_TO_DATA=\"/home/roman/finunichamp2018/2/\"\n",
    "PATH_TO_SUBMIT=\"/home/roman/finunichamp2018/2/submits/\"\n",
    "PATH_TO_SAMPLE_SUBMIT=\"/home/roman/finunichamp2018/2/insclass_sample.csv\"\n",
    "\n",
    "sep=151405"
   ]
  },
  {
   "cell_type": "code",
   "execution_count": 4,
   "metadata": {},
   "outputs": [],
   "source": [
    "def submit(y_pred,name):\n",
    "    sub=pd.read_csv(PATH_TO_SAMPLE_SUBMIT,index_col=\"id\")\n",
    "    sub[\"target\"]=y_pred\n",
    "    sub.to_csv(PATH_TO_SUBMIT+name+\".csv\")"
   ]
  },
  {
   "cell_type": "code",
   "execution_count": 6,
   "metadata": {},
   "outputs": [],
   "source": [
    "#-----------------------------------------------------------------------------------------------------------------------------------------------------\n",
    "# AUC for a binary classifier\n",
    "def auc(y_true, y_pred):   \n",
    "    ptas = tf.stack([binary_PTA(y_true,y_pred,k) for k in np.linspace(0, 1, 1000)],axis=0)\n",
    "    pfas = tf.stack([binary_PFA(y_true,y_pred,k) for k in np.linspace(0, 1, 1000)],axis=0)\n",
    "    pfas = tf.concat([tf.ones((1,)) ,pfas],axis=0)\n",
    "    binSizes = -(pfas[1:]-pfas[:-1])\n",
    "    s = ptas*binSizes\n",
    "    return K.sum(s, axis=0)\n",
    "\n",
    "#-----------------------------------------------------------------------------------------------------------------------------------------------------\n",
    "# PFA, prob false alert for binary classifier\n",
    "def binary_PFA(y_true, y_pred, threshold=K.variable(value=0.5)):\n",
    "    y_pred = K.cast(y_pred >= threshold, 'float32')\n",
    "    # N = total number of negative labels\n",
    "    N = K.sum(1 - y_true)\n",
    "    # FP = total number of false alerts, alerts from the negative class labels\n",
    "    FP = K.sum(y_pred - y_pred * y_true)    \n",
    "    return FP/N\n",
    "#-----------------------------------------------------------------------------------------------------------------------------------------------------\n",
    "# P_TA prob true alerts for binary classifier\n",
    "def binary_PTA(y_true, y_pred, threshold=K.variable(value=0.5)):\n",
    "    y_pred = K.cast(y_pred >= threshold, 'float32')\n",
    "    # P = total number of positive labels\n",
    "    P = K.sum(y_true)\n",
    "    # TP = total number of correct alerts, alerts from the positive class labels\n",
    "    TP = K.sum(y_pred * y_true)    \n",
    "    return TP/P"
   ]
  },
  {
   "cell_type": "code",
   "execution_count": 9,
   "metadata": {},
   "outputs": [],
   "source": [
    "linear=pd.read_csv(PATH_TO_DATA+\"cleared_linear.csv\")\n",
    "y=pd.read_csv(PATH_TO_DATA+\"target.csv\")\n",
    "y=y[\"target\"]"
   ]
  },
  {
   "cell_type": "code",
   "execution_count": 10,
   "metadata": {},
   "outputs": [],
   "source": [
    "X_train=linear[:sep]\n",
    "X_test=linear[sep:]"
   ]
  },
  {
   "cell_type": "code",
   "execution_count": 11,
   "metadata": {},
   "outputs": [],
   "source": [
    "X_train_part, X_val, y_train_part, y_val=train_test_split(X_train,\n",
    "                                                          y,\n",
    "                                                          test_size=0.3,\n",
    "                                                          random_state=17,\n",
    "                                                          stratify=y)\n",
    "\n",
    "\n",
    "y_train_part = np_utils.to_categorical(y_train_part, 2)\n",
    "y_val = np_utils.to_categorical(y_val, 2)"
   ]
  },
  {
   "cell_type": "code",
   "execution_count": 12,
   "metadata": {},
   "outputs": [],
   "source": [
    "batch_size=20\n",
    "epochs=10"
   ]
  },
  {
   "cell_type": "code",
   "execution_count": 13,
   "metadata": {},
   "outputs": [],
   "source": [
    "data=X_train"
   ]
  },
  {
   "cell_type": "markdown",
   "metadata": {},
   "source": [
    "##  Построение моделей"
   ]
  },
  {
   "cell_type": "code",
   "execution_count": 14,
   "metadata": {},
   "outputs": [],
   "source": [
    "#try1\n",
    "inp=Input((data.shape[1],))\n",
    "\n",
    "dense1=Dense(128, activation='selu',kernel_initializer='he_uniform')(inp)\n",
    "batch_norm1=BatchNormalization()(dense1)\n",
    "dropout1=Dropout(0.4)(batch_norm1)\n",
    "\n",
    "dense2=Dense(128, activation='selu',kernel_initializer='he_uniform')(dropout1)\n",
    "batch_norm2=BatchNormalization()(dense2)\n",
    "dropout2=Dropout(0.4)(batch_norm2)\n",
    "\n",
    "dense3=Dense(128, activation='selu',kernel_initializer='he_uniform')(dropout2)\n",
    "batch_norm3=BatchNormalization()(dense3)\n",
    "dropout3=Dropout(0.4)(batch_norm3)\n",
    "\n",
    "dense4=Dense(256, activation='selu',kernel_initializer='he_uniform')(dropout3)\n",
    "batch_norm4=BatchNormalization()(dense4)\n",
    "dropout4=Dropout(0.4)(batch_norm4)\n",
    "\n",
    "\n",
    "out=Dense(2,activation='softmax',kernel_initializer='glorot_uniform')(dropout4)\n",
    "\n",
    "\n",
    "model=Model(inputs=inp,outputs=out)\n",
    "model.compile(optimizer=\"adam\",\n",
    "              loss='categorical_crossentropy',\n",
    "              metrics=[\"accuracy\",auc])"
   ]
  },
  {
   "cell_type": "code",
   "execution_count": 15,
   "metadata": {},
   "outputs": [
    {
     "name": "stdout",
     "output_type": "stream",
     "text": [
      "Train on 95384 samples, validate on 10599 samples\n",
      "Epoch 1/10\n",
      " - 528s - loss: 0.3265 - acc: 0.9001 - auc: 0.9182 - val_loss: 0.2734 - val_acc: 0.9163 - val_auc: 0.9354\n",
      "Epoch 2/10\n",
      " - 513s - loss: 0.2835 - acc: 0.9164 - auc: 0.9329 - val_loss: 0.2626 - val_acc: 0.9210 - val_auc: 0.9370\n",
      "Epoch 3/10\n",
      " - 521s - loss: 0.2728 - acc: 0.9210 - auc: 0.9361 - val_loss: 0.2561 - val_acc: 0.9270 - val_auc: 0.9397\n",
      "Epoch 4/10\n",
      " - 526s - loss: 0.2675 - acc: 0.9232 - auc: 0.9381 - val_loss: 0.2570 - val_acc: 0.9282 - val_auc: 0.9354\n",
      "Epoch 5/10\n",
      " - 531s - loss: 0.2648 - acc: 0.9242 - auc: 0.9392 - val_loss: 0.2546 - val_acc: 0.9264 - val_auc: 0.9432\n",
      "Epoch 6/10\n",
      " - 538s - loss: 0.2613 - acc: 0.9255 - auc: 0.9411 - val_loss: 0.2663 - val_acc: 0.9235 - val_auc: 0.9331\n",
      "Epoch 7/10\n",
      " - 530s - loss: 0.2602 - acc: 0.9254 - auc: 0.9418 - val_loss: 0.2720 - val_acc: 0.9234 - val_auc: 0.9354\n",
      "Epoch 8/10\n",
      " - 521s - loss: 0.2588 - acc: 0.9262 - auc: 0.9420 - val_loss: 0.2501 - val_acc: 0.9290 - val_auc: 0.9438\n",
      "Epoch 9/10\n",
      " - 509s - loss: 0.2574 - acc: 0.9267 - auc: 0.9423 - val_loss: 0.2484 - val_acc: 0.9300 - val_auc: 0.9428\n",
      "Epoch 10/10\n",
      " - 517s - loss: 0.2562 - acc: 0.9269 - auc: 0.9435 - val_loss: 0.2479 - val_acc: 0.9305 - val_auc: 0.9451\n"
     ]
    },
    {
     "data": {
      "text/plain": [
       "<keras.callbacks.History at 0x7f002b1e9898>"
      ]
     },
     "execution_count": 15,
     "metadata": {},
     "output_type": "execute_result"
    }
   ],
   "source": [
    "model.fit(X_train_part,\n",
    "          y_train_part,\n",
    "          batch_size=20,\n",
    "          epochs=10,\n",
    "          validation_split=0.1,\n",
    "          verbose=2)"
   ]
  },
  {
   "cell_type": "code",
   "execution_count": 16,
   "metadata": {},
   "outputs": [
    {
     "name": "stdout",
     "output_type": "stream",
     "text": [
      "45422/45422 [==============================] - 102s 2ms/step\n"
     ]
    },
    {
     "data": {
      "text/plain": [
       "[0.24699621957515056, 0.929945841243311, 0.9468392047367261]"
      ]
     },
     "execution_count": 16,
     "metadata": {},
     "output_type": "execute_result"
    }
   ],
   "source": [
    "model.evaluate(X_val,y_val)"
   ]
  },
  {
   "cell_type": "code",
   "execution_count": 17,
   "metadata": {},
   "outputs": [],
   "source": [
    "pred=model.predict(X_test)"
   ]
  },
  {
   "cell_type": "code",
   "execution_count": 33,
   "metadata": {},
   "outputs": [],
   "source": [
    "submit(pred[:,1],\"nn\")"
   ]
  },
  {
   "cell_type": "code",
   "execution_count": null,
   "metadata": {},
   "outputs": [],
   "source": []
  }
 ],
 "metadata": {
  "kernelspec": {
   "display_name": "Python 3",
   "language": "python",
   "name": "python3"
  },
  "language_info": {
   "codemirror_mode": {
    "name": "ipython",
    "version": 3
   },
   "file_extension": ".py",
   "mimetype": "text/x-python",
   "name": "python",
   "nbconvert_exporter": "python",
   "pygments_lexer": "ipython3",
   "version": "3.6.4"
  },
  "toc": {
   "base_numbering": 1,
   "nav_menu": {},
   "number_sections": false,
   "sideBar": true,
   "skip_h1_title": false,
   "title_cell": "Table of Contents",
   "title_sidebar": "Contents",
   "toc_cell": false,
   "toc_position": {},
   "toc_section_display": true,
   "toc_window_display": false
  },
  "varInspector": {
   "cols": {
    "lenName": 16,
    "lenType": 16,
    "lenVar": 40
   },
   "kernels_config": {
    "python": {
     "delete_cmd_postfix": "",
     "delete_cmd_prefix": "del ",
     "library": "var_list.py",
     "varRefreshCmd": "print(var_dic_list())"
    },
    "r": {
     "delete_cmd_postfix": ") ",
     "delete_cmd_prefix": "rm(",
     "library": "var_list.r",
     "varRefreshCmd": "cat(var_dic_list()) "
    }
   },
   "types_to_exclude": [
    "module",
    "function",
    "builtin_function_or_method",
    "instance",
    "_Feature"
   ],
   "window_display": false
  }
 },
 "nbformat": 4,
 "nbformat_minor": 2
}
