{
 "cells": [
  {
   "cell_type": "markdown",
   "metadata": {},
   "source": [
    "# 2-task\n",
    "## Описание полей\n",
    "\n",
    "- `variable_1` - агрегированный коэффициент бонус-малус (повышающий или понижающий стоимость полиса в зависимости от аварийности в предыдущие периоды);\n",
    "- `variable_2` - индикатор расторжения договора по инициативе страхователя (клиента);\n",
    "- `variable_3` - индикатор расторжения договора по инициативе страховщика (страховой компании);\n",
    "- `variable_4` - идентификатор года выпуска транспортного средства;\n",
    "- `variable_5` - идентификатор страны - производителя транспортного средства;\n",
    "- `variable_6` - мощность двигателя в лошадиных силах;\n",
    "- `variable_7` - объем двигателя в куб. см;\n",
    "- `variable_8` - идентификатор стороны расположения руля (левый или правый);\n",
    "- `variable_9` - пробег транспортного средства, покрываемый гарантией производителя;\n",
    "- `variable_10` - индикатор действия гарантии на транспортное средство;\n",
    "- `variable_11` - \"мультидрайв\" - индикатор допуска к управлению транспортным средством более одного водителя;\n",
    "- `variable_12` - возраст транспортного средства (в мес.);\n",
    "- `variable_13` - возраст водителя с максимальным стажем; (если null-> target=1)\n",
    "- `variable_14` - коэффициент возраст-стаж;\n",
    "- `variable_15` - коэффициент краткосрочности;\n",
    "- `variable_16` - коэффициент мощности;\n",
    "- `variable_17` - коэффициент \"мультидрайв\";\n",
    "- `variable_18` - территориальный коэффициент;\n",
    "- `variable_19` - коэффициент \"КНДР\";\n",
    "- `variable_20` - идентификатор канала продаж;\n",
    "- `variable_21` - марка транспортного средства;\n",
    "- `variable_22` - модель транспортного средства;\n",
    "- `variable_23` - индикатор отечественных транспортных средств;\n",
    "- `variable_24` - пол водителя с максимальным коэффициентом \"возраст-стаж\";\n",
    "- `variable_25` - индикатор пролонгации;\n",
    "- `variable_26` - индикатор совпадения собственника транспортного средства и водителя;\n",
    "- `variable_27` - стаж водителя с максимальным коэффициентом \"возраст-стаж\";(если null-> target=1)\n",
    "- `variable_28` - тип транспортного средства;\n",
    "- <font color=\"red\">`target` - равный 1, если заключение договора с клиентом является рисковым, и 0 в противном случае\n",
    "\n",
    "<b>Метрика - ROC-AUC</b>\n",
    "\n",
    "Одной из особенностей данной задачи является то, что почти для всех марок присутствуют разные модели, представляющие их.\n",
    "https://www.kaggle.com/c/finunichamp2018-2 "
   ]
  },
  {
   "cell_type": "markdown",
   "metadata": {},
   "source": [
    "_____"
   ]
  },
  {
   "cell_type": "markdown",
   "metadata": {},
   "source": [
    "## Импорт библиотек и загрузка данных"
   ]
  },
  {
   "cell_type": "code",
   "execution_count": 3,
   "metadata": {},
   "outputs": [],
   "source": [
    "from matplotlib import pyplot\n",
    "%matplotlib inline\n",
    "\n",
    "import pandas as pd\n",
    "import numpy as np\n",
    "from sklearn.preprocessing import LabelEncoder\n",
    "\n",
    "\n",
    "PATH_TO_DATA=\"/Users/roman/finunichamp2018/2/data/based/\"\n",
    "PATH_TO_OUT=\"/Users/roman/finunichamp2018/2/data/\""
   ]
  },
  {
   "cell_type": "code",
   "execution_count": 4,
   "metadata": {},
   "outputs": [
    {
     "data": {
      "text/html": [
       "<div>\n",
       "<style scoped>\n",
       "    .dataframe tbody tr th:only-of-type {\n",
       "        vertical-align: middle;\n",
       "    }\n",
       "\n",
       "    .dataframe tbody tr th {\n",
       "        vertical-align: top;\n",
       "    }\n",
       "\n",
       "    .dataframe thead th {\n",
       "        text-align: right;\n",
       "    }\n",
       "</style>\n",
       "<table border=\"1\" class=\"dataframe\">\n",
       "  <thead>\n",
       "    <tr style=\"text-align: right;\">\n",
       "      <th></th>\n",
       "      <th>variable_1</th>\n",
       "      <th>variable_2</th>\n",
       "      <th>variable_3</th>\n",
       "      <th>variable_4</th>\n",
       "      <th>variable_5</th>\n",
       "      <th>variable_6</th>\n",
       "      <th>variable_7</th>\n",
       "      <th>variable_8</th>\n",
       "      <th>variable_9</th>\n",
       "      <th>variable_10</th>\n",
       "      <th>...</th>\n",
       "      <th>variable_20</th>\n",
       "      <th>variable_21</th>\n",
       "      <th>variable_22</th>\n",
       "      <th>variable_23</th>\n",
       "      <th>variable_24</th>\n",
       "      <th>variable_25</th>\n",
       "      <th>variable_26</th>\n",
       "      <th>variable_27</th>\n",
       "      <th>variable_28</th>\n",
       "      <th>target</th>\n",
       "    </tr>\n",
       "  </thead>\n",
       "  <tbody>\n",
       "    <tr>\n",
       "      <th>0</th>\n",
       "      <td>w200</td>\n",
       "      <td>0</td>\n",
       "      <td>0</td>\n",
       "      <td>14</td>\n",
       "      <td>q2</td>\n",
       "      <td>98.0</td>\n",
       "      <td>NaN</td>\n",
       "      <td>0.0</td>\n",
       "      <td>NaN</td>\n",
       "      <td>0</td>\n",
       "      <td>...</td>\n",
       "      <td>C</td>\n",
       "      <td>j2</td>\n",
       "      <td>h45</td>\n",
       "      <td>0</td>\n",
       "      <td>0.0</td>\n",
       "      <td>0</td>\n",
       "      <td>1</td>\n",
       "      <td>19.323463</td>\n",
       "      <td>t1</td>\n",
       "      <td>0</td>\n",
       "    </tr>\n",
       "    <tr>\n",
       "      <th>1</th>\n",
       "      <td>w160</td>\n",
       "      <td>0</td>\n",
       "      <td>0</td>\n",
       "      <td>7</td>\n",
       "      <td>q11</td>\n",
       "      <td>106.0</td>\n",
       "      <td>NaN</td>\n",
       "      <td>0.0</td>\n",
       "      <td>NaN</td>\n",
       "      <td>0</td>\n",
       "      <td>...</td>\n",
       "      <td>C</td>\n",
       "      <td>j33</td>\n",
       "      <td>h234</td>\n",
       "      <td>0</td>\n",
       "      <td>1.0</td>\n",
       "      <td>0</td>\n",
       "      <td>1</td>\n",
       "      <td>41.177900</td>\n",
       "      <td>t1</td>\n",
       "      <td>0</td>\n",
       "    </tr>\n",
       "  </tbody>\n",
       "</table>\n",
       "<p>2 rows × 29 columns</p>\n",
       "</div>"
      ],
      "text/plain": [
       "  variable_1  variable_2  variable_3  variable_4 variable_5  variable_6  \\\n",
       "0       w200           0           0          14         q2        98.0   \n",
       "1       w160           0           0           7        q11       106.0   \n",
       "\n",
       "   variable_7  variable_8  variable_9  variable_10  ...    variable_20  \\\n",
       "0         NaN         0.0         NaN            0  ...              C   \n",
       "1         NaN         0.0         NaN            0  ...              C   \n",
       "\n",
       "   variable_21  variable_22  variable_23  variable_24  variable_25  \\\n",
       "0           j2          h45            0          0.0            0   \n",
       "1          j33         h234            0          1.0            0   \n",
       "\n",
       "   variable_26  variable_27  variable_28 target  \n",
       "0            1    19.323463           t1      0  \n",
       "1            1    41.177900           t1      0  \n",
       "\n",
       "[2 rows x 29 columns]"
      ]
     },
     "execution_count": 4,
     "metadata": {},
     "output_type": "execute_result"
    }
   ],
   "source": [
    "train=pd.read_csv(PATH_TO_DATA+\"insclass_train.csv\")\n",
    "test=pd.read_csv(PATH_TO_DATA+\"insclass_test.csv\")\n",
    "sample_submit=pd.read_csv(PATH_TO_DATA+\"insclass_sample.csv\")\n",
    "train.head(2)"
   ]
  },
  {
   "cell_type": "markdown",
   "metadata": {},
   "source": [
    "## EDA"
   ]
  },
  {
   "cell_type": "code",
   "execution_count": 5,
   "metadata": {},
   "outputs": [
    {
     "data": {
      "text/plain": [
       "0    0.904502\n",
       "1    0.095498\n",
       "Name: target, dtype: float64"
      ]
     },
     "execution_count": 5,
     "metadata": {},
     "output_type": "execute_result"
    }
   ],
   "source": [
    "train[\"target\"].value_counts(normalize=True)"
   ]
  },
  {
   "cell_type": "markdown",
   "metadata": {},
   "source": [
    "Классы не сбалансированны"
   ]
  },
  {
   "cell_type": "code",
   "execution_count": 6,
   "metadata": {},
   "outputs": [
    {
     "data": {
      "text/plain": [
       "(151406, 29)"
      ]
     },
     "execution_count": 6,
     "metadata": {},
     "output_type": "execute_result"
    }
   ],
   "source": [
    "train.shape"
   ]
  },
  {
   "cell_type": "code",
   "execution_count": 7,
   "metadata": {},
   "outputs": [
    {
     "name": "stdout",
     "output_type": "stream",
     "text": [
      "Какой процент данных пропущен\n",
      "variable_6 0.0007\n",
      "variable_7 0.6317\n",
      "variable_8 0.1975\n",
      "variable_9 0.8879\n",
      "variable_12 0.0101\n",
      "variable_13 0.0109\n",
      "variable_14 0.0193\n",
      "variable_15 0.9999\n",
      "variable_16 0.0001\n",
      "variable_17 0.0001\n",
      "variable_18 0.0001\n",
      "variable_20 0.0\n",
      "variable_24 0.0146\n",
      "variable_27 0.0137\n"
     ]
    }
   ],
   "source": [
    "#Сколько процентов данных пропущенно\n",
    "print(\"Какой процент данных пропущен\")\n",
    "for col in train.columns:\n",
    "    count=train[col].count()\n",
    "    if count!=train.shape[0]:\n",
    "        nan=round(1-count/train.shape[0],4)\n",
    "        print(col+\" \"+str(nan))\n",
    "    "
   ]
  },
  {
   "cell_type": "markdown",
   "metadata": {},
   "source": [
    "### Как делать обаботку для каждго признака\n",
    "- `variable_1` - <b>OHE (Загуглить что он значит и что возно выцепить из него)</b>\n",
    "- `variable_2` - <b>OHE-линейн,деревянные-оставить[0/1]</b>\n",
    "- `variable_3` - <b>Выбросить(не брать) тк всегда = 0 (одно значение всегда и на test и на train)</b>\n",
    "- `variable_4` - <b>OHE</b> или оставить (это год выпуска машины хз как они там это кодировали мож порядок и не сохранился поэтому попробовать и то ито)\n",
    "- `variable_5` - <b>OHE</b>\n",
    "- `variable_6` - <b>Оставить как есть (мощность двигателя коректно сравнивать на > <) </b>\n",
    "- `variable_7` - <b>Оставить как есть </b>\n",
    "- `variable_8` - <b>OHE-линейн,деревянные-оставить[0/1]</b>\n",
    "- `variable_9` - <b>Оставить как есть</b>\n",
    "- `variable_10`- <b>OHE-линейн,деревянные-оставить[0/1]</b>\n",
    "- `variable_11`- <b>OHE-линейн,деревянные-оставить[0/1]</b>\n",
    "- `variable_12`- <b>Оставить и сделать метапризнак возраст в годах</b>\n",
    "- `variable_13`- <b>Оставить</b>\n",
    "- `variable_14`- <b>OHE-линейн,деревянные-оставить</b> или оставить(хоть он и численный но значений не много)\n",
    "- `variable_15`- <b>OHE</b> или оставить(хоть он и численный но значений не много)\n",
    "- `variable_16`- <b>OHE-lin оставить-tree </b>\n",
    "- `variable_17`- <b>OHE</b> или оставить(хоть он и численный но значений не много)\n",
    "- `variable_18`- <b>OHE</b> или оставить(хоть он и численный но значений не много)\n",
    "- `variable_19`- <b>OHE</b> или оставить(хоть он и численный но значений не много)\n",
    "- `variable_20`- <b>OHE</b>\n",
    "- `variable_21`- OHE(много) или как есть (попробрвать взаимодействие с variable_22) <b>OHE-линейн,деревянные-оставить</b>\n",
    "- `variable_22`- OHE(много) или как есть (попробрвать взаимодействие с variable_21) <b>OHE-линейн,деревянные-оставить</b>\n",
    "- `variable_23`- <b>OHE-линейн,деревянные-оставить[0/1]</b>\n",
    "- `variable_24`- <b>OHE-lin оставить-tree </b>\n",
    "- `variable_25`- <b>OHE-линейн,деревянные-оставить[0/1]</b>\n",
    "- `variable_26`- <b>OHE-линейн,деревянные-оставить[0/1]</b>\n",
    "- `variable_27`- <b>OHE-lin оставить-tree </b> или оставить как есть\n",
    "- `variable_28`- <b>OHE</b>\n",
    "\n",
    "\n",
    "#### Обработка пропусков\n",
    "- Для каждого сделать метапризнак 1-значение есть 0-зачения нет(кроме 20)\n",
    "- Для деревьев пропуски заполнить значениями вне распределения\n",
    "- Для линейных пропуски заполнить \n",
    "- `variable_6` -<b>заполнить lin and tree</b>\n",
    "- `variable_7` -заполнить или <b>удалить тк сильно от 6 зависит</b>\n",
    "- `variable_8` -<b>заполнить(tree-NAN=3 lin-NAN=Отдельный солбец)</b>\n",
    "- `variable_9` -заполнить или <b>удалить так есть отриц и оооцень большые знач</b>\n",
    "- `variable_12`-<b>заполнить(tree-NAN=-100 lin-NAN=среднее)</b>\n",
    "- `variable_13`-<b>заполнить(tree-NAN=0 lin-NAN=Отдельный солбец)</b>\n",
    "- `variable_14`-<b>заполнить(tree-NAN=0 lin-NAN=Отдельный солбец)</b>\n",
    "- `variable_15`-<b>удалить(заменить все значения на есть значение-0 или нет)</b>\n",
    "- `variable_16`-<b>заполнить</b>\n",
    "- `variable_17`-<b>заполнить</b>\n",
    "- `variable_18`-<b>заполнить</b>\n",
    "- `variable_20`-<b>удалить всего одна строчка</b>\n",
    "- `variable_24`-<b>заполнить(tree-NAN=3 lin-NAN=Отдельный солбец)</b>\n",
    "- `variable_27`-<b>заполнить(tree-NAN=-100 lin-NAN=Отдельный солбец)</b>"
   ]
  },
  {
   "cell_type": "markdown",
   "metadata": {},
   "source": [
    "## Подготовка датасетов"
   ]
  },
  {
   "cell_type": "code",
   "execution_count": 11,
   "metadata": {},
   "outputs": [],
   "source": [
    "#Удаление пропусков в некоторых признаках\n",
    "\n",
    "#тк пропусков большинство то просто сделаю флаг есть значение или нет\n",
    "train[\"variable_15\"]=train[\"variable_15\"].isnull().astype(\"int\")\n",
    "test[\"variable_15\"]=test[\"variable_15\"].isnull().astype(\"int\")\n",
    "\n",
    "# Удалил единственный пропуск в train[\"variable_20\"]\n",
    "# train[train[\"variable_20\"].isnull()].index return 109113\n",
    "train.drop(axis=0,index=109113,inplace=True)"
   ]
  },
  {
   "cell_type": "code",
   "execution_count": 12,
   "metadata": {},
   "outputs": [],
   "source": [
    "#Обьединяю train и test для обработки\n",
    "target=train[\"target\"]\n",
    "train.drop(\"target\",axis=1,inplace=True)\n",
    "\n",
    "test.drop(\"id\",axis=1,inplace=True)\n",
    "\n",
    "sep=train.shape[0]\n",
    "\n",
    "df=pd.concat([train,test])"
   ]
  },
  {
   "cell_type": "code",
   "execution_count": null,
   "metadata": {},
   "outputs": [],
   "source": [
    "sep"
   ]
  },
  {
   "cell_type": "markdown",
   "metadata": {},
   "source": [
    "_____"
   ]
  },
  {
   "cell_type": "code",
   "execution_count": 204,
   "metadata": {},
   "outputs": [],
   "source": [
    "#Создание признаков и обработка пропусков"
   ]
  },
  {
   "cell_type": "code",
   "execution_count": 205,
   "metadata": {},
   "outputs": [],
   "source": [
    "variable_1_both=pd.get_dummies(df[\"variable_1\"],prefix=\"var_1\")\n",
    "variable_1_cat=df[\"variable_1\"]"
   ]
  },
  {
   "cell_type": "code",
   "execution_count": 206,
   "metadata": {},
   "outputs": [],
   "source": [
    "variable_2_lin=pd.get_dummies(df[\"variable_2\"],prefix=\"var_2\")\n",
    "variable_2_tree=df[\"variable_2\"]\n",
    "variable_2_xgb=variable_2_tree\n",
    "variable_2_cat=variable_2_tree"
   ]
  },
  {
   "cell_type": "code",
   "execution_count": 207,
   "metadata": {},
   "outputs": [],
   "source": [
    "variable_4_OHE_both=pd.get_dummies(df[\"variable_4\"],prefix=\"var_4\")\n",
    "variable_4_cat=df[\"variable_4\"]"
   ]
  },
  {
   "cell_type": "code",
   "execution_count": 208,
   "metadata": {},
   "outputs": [],
   "source": [
    "variable_5_both=pd.get_dummies(df[\"variable_5\"],prefix=\"var_5\")\n",
    "variable_5_cat=df[\"variable_5\"]"
   ]
  },
  {
   "cell_type": "code",
   "execution_count": 209,
   "metadata": {},
   "outputs": [],
   "source": [
    "variable_6_lin=df[\"variable_6\"].fillna(value=df[\"variable_6\"].mean()) #не совсем правильно считать среднее и по тесту но...\n",
    "variable_6_tree=df[\"variable_6\"].fillna(value=3500) #max value 2000\n",
    "variable_6_xgb=df[\"variable_6\"]\n",
    "variable_6_cat=variable_6_tree"
   ]
  },
  {
   "cell_type": "code",
   "execution_count": 210,
   "metadata": {},
   "outputs": [],
   "source": [
    "# variable_7_both=df[\"variable_7\"] Сильно корелирует с 6"
   ]
  },
  {
   "cell_type": "code",
   "execution_count": 211,
   "metadata": {},
   "outputs": [],
   "source": [
    "variable_8_lin=pd.get_dummies(df[\"variable_8\"],prefix=\"var_8\",dummy_na=True) #Отдельный признак NAN\n",
    "variable_8_tree=df[\"variable_8\"].fillna(value=3) # 3-означает NaN\n",
    "variable_8_xgb=df[\"variable_8\"]\n",
    "variable_8_cat=variable_8_tree"
   ]
  },
  {
   "cell_type": "code",
   "execution_count": 212,
   "metadata": {},
   "outputs": [],
   "source": [
    "# variable_9_both=df[\"variable_9\"] Много пропусков отризательные знач и очень большие"
   ]
  },
  {
   "cell_type": "code",
   "execution_count": 213,
   "metadata": {},
   "outputs": [],
   "source": [
    "variable_10_lin=pd.get_dummies(df[\"variable_10\"],prefix=\"var_10\")\n",
    "variable_10_tree=df[\"variable_10\"]\n",
    "variable_10_xgb=variable_10_tree\n",
    "variable_10_cat=variable_10_tree"
   ]
  },
  {
   "cell_type": "code",
   "execution_count": 214,
   "metadata": {},
   "outputs": [],
   "source": [
    "variable_11_lin=pd.get_dummies(df[\"variable_11\"],prefix=\"var_11\")\n",
    "variable_11_tree=df[\"variable_11\"]\n",
    "variable_11_xgb=variable_11_tree\n",
    "variable_11_cat=variable_11_tree"
   ]
  },
  {
   "cell_type": "code",
   "execution_count": 215,
   "metadata": {},
   "outputs": [],
   "source": [
    "variable_12_lin_month=df['variable_12'].fillna(df['variable_12'].mean())\n",
    "variable_12_lin_year=df['variable_12'].fillna(df['variable_12'].mean())/12\n",
    "\n",
    "variable_12_tree_month=df['variable_12'].fillna(-100)\n",
    "variable_12_tree_year=df['variable_12'].fillna(-100)/12\n",
    "\n",
    "variable_12_xgb_month=df['variable_12']\n",
    "variable_12_xgb_year=df['variable_12']\n",
    "\n",
    "variable_12_cat_month=variable_12_tree_month\n",
    "variable_12_cat_year=variable_12_tree_year"
   ]
  },
  {
   "cell_type": "code",
   "execution_count": 216,
   "metadata": {},
   "outputs": [],
   "source": [
    "#Для lin флаг пропуска а сами пропуски=0 (вне распределения)\n",
    "tmp=pd.concat([df['variable_13'],df['variable_13'].isnull().astype(\"int\")],axis=1)\n",
    "tmp.columns=['variable_13','variable_13_nan']\n",
    "tmp[\"variable_13\"].fillna(0,inplace=True)\n",
    "variable_13_lin=tmp\n",
    "\n",
    "variable_13_tree=df['variable_13'].fillna(0) # min 20\n",
    "variable_13_xgb=df['variable_13']\n",
    "variable_13_cat=variable_13_tree"
   ]
  },
  {
   "cell_type": "code",
   "execution_count": 217,
   "metadata": {},
   "outputs": [],
   "source": [
    "variable_14_lin=pd.get_dummies(df[\"variable_14\"],prefix=\"var_14\",dummy_na=True)\n",
    "variable_14_tree=df['variable_14'].fillna(0)\n",
    "variable_14_xgb=df['variable_14']\n",
    "variable_14_cat=variable_14_tree\n",
    "\n",
    "variable_15_lin=pd.get_dummies(df[\"variable_15\"],prefix=\"var_15\")\n",
    "variable_15_tree=df[\"variable_15\"]\n",
    "variable_15_xgb=variable_15_tree\n",
    "variable_15_cat=variable_15_tree\n",
    "\n",
    "variable_16_lin=pd.get_dummies(df[\"variable_16\"],prefix=\"var_16\",dummy_na=True)#Отдельное признак для nan\n",
    "variable_16_tree=df[\"variable_16\"].fillna(-100) #Для деревьев зполнил пропуски значениями вне распределения\n",
    "variable_16_xgb=df[\"variable_16\"]\n",
    "variable_16_cat=variable_16_tree\n",
    "\n",
    "variable_17_both=pd.get_dummies(df[\"variable_17\"],prefix=\"var_17\",dummy_na=True)\n",
    "variable_17_cat=df[\"variable_17\"]\n",
    "\n",
    "variable_18_both=pd.get_dummies(df[\"variable_18\"],prefix=\"var_18\",dummy_na=True)\n",
    "variable_18_cat=df[\"variable_18\"]\n",
    "\n",
    "variable_19_both=pd.get_dummies(df[\"variable_19\"],prefix=\"var_19\")\n",
    "variable_19_cat=df[\"variable_19\"]\n",
    "\n",
    "variable_20_both=pd.get_dummies(df[\"variable_20\"],prefix=\"var_20\")\n",
    "variable_20_cat=df[\"variable_20\"]"
   ]
  },
  {
   "cell_type": "code",
   "execution_count": 218,
   "metadata": {},
   "outputs": [],
   "source": [
    "le=LabelEncoder()\n",
    "\n",
    "#Не очень коректно особенно для деревьев (возможно лучше выкинуть)\n",
    "variable_21_lin=pd.get_dummies(df[\"variable_21\"],prefix=\"var_21\")\n",
    "variable_21_tree=pd.Series(le.fit_transform(df[\"variable_21\"]),name=\"variable_21\",index=df[\"variable_21\"].index)\n",
    "variable_21_xgb=variable_21_tree\n",
    "variable_21_cat=variable_21_tree\n",
    "\n",
    "variable_22_lin=pd.get_dummies(df[\"variable_22\"],prefix=\"var_22\")\n",
    "variable_22_tree=pd.Series(le.fit_transform(df[\"variable_22\"]),name=\"variable_22\",index=df[\"variable_22\"].index)\n",
    "variable_22_xgb=variable_22_tree\n",
    "variable_22_cat=variable_22_tree"
   ]
  },
  {
   "cell_type": "code",
   "execution_count": 219,
   "metadata": {},
   "outputs": [],
   "source": [
    "variable_23_lin=pd.get_dummies(df[\"variable_23\"],prefix=\"var_23\")\n",
    "variable_23_tree=df[\"variable_23\"]\n",
    "variable_23_xgb=variable_23_tree\n",
    "variable_23_cat=variable_23_tree"
   ]
  },
  {
   "cell_type": "code",
   "execution_count": 220,
   "metadata": {},
   "outputs": [],
   "source": [
    "variable_24_lin=pd.get_dummies(df[\"variable_24\"],prefix=\"var_24\",dummy_na=True)\n",
    "variable_24_tree=df[\"variable_24\"].fillna(value=3)\n",
    "variable_24_xgb=df[\"variable_24\"]\n",
    "variable_24_cat=variable_24_tree"
   ]
  },
  {
   "cell_type": "code",
   "execution_count": 221,
   "metadata": {},
   "outputs": [],
   "source": [
    "variable_25_lin=pd.get_dummies(df[\"variable_25\"],prefix=\"var_25\")\n",
    "variable_25_tree=df[\"variable_25\"]\n",
    "variable_25_xgb=variable_25_tree\n",
    "variable_25_cat=variable_25_tree\n",
    "\n",
    "variable_26_lin=pd.get_dummies(df[\"variable_26\"],prefix=\"var_26\")\n",
    "variable_26_tree=df[\"variable_26\"]\n",
    "variable_26_xgb=variable_26_tree\n",
    "variable_26_cat=variable_26_tree"
   ]
  },
  {
   "cell_type": "code",
   "execution_count": 222,
   "metadata": {},
   "outputs": [],
   "source": [
    "variable_27_lin=pd.get_dummies(df[\"variable_27\"],prefix=\"var_27\",dummy_na=True)\n",
    "variable_27_tree=df[\"variable_27\"].fillna(value=-100) #min=0\n",
    "variable_27_xgb=df[\"variable_27\"]\n",
    "variable_27_cat=variable_27_tree\n",
    "\n",
    "variable_28_both=pd.get_dummies(df[\"variable_28\"],prefix=\"var_28\")\n",
    "variable_28_cat=df[\"variable_28\"]"
   ]
  },
  {
   "cell_type": "code",
   "execution_count": 223,
   "metadata": {},
   "outputs": [],
   "source": [
    "#Формирование датасетов\n",
    "\n",
    "#взять все variable c lin и both\n",
    "cleared_linear =pd.concat([variable_1_both,\n",
    "                           variable_2_lin,\n",
    "                           variable_4_OHE_both,\n",
    "                           variable_5_both,\n",
    "                           variable_6_lin,\n",
    "                           variable_8_lin,\n",
    "                           variable_10_lin,\n",
    "                           variable_11_lin,\n",
    "                           variable_12_lin_month,\n",
    "                           variable_12_lin_year,\n",
    "                           variable_13_lin,\n",
    "                           variable_14_lin,\n",
    "                           variable_15_lin,\n",
    "                           variable_16_lin,\n",
    "                           variable_17_both,\n",
    "                           variable_18_both,\n",
    "                           variable_19_both,\n",
    "                           variable_20_both,\n",
    "                           variable_21_lin,\n",
    "                           variable_22_lin,\n",
    "                           variable_23_lin,\n",
    "                           variable_24_lin,\n",
    "                           variable_25_lin,\n",
    "                           variable_26_lin,\n",
    "                           variable_27_lin,\n",
    "                           variable_28_both],axis=1)\n",
    "\n",
    "#взять все variable c tree и both\n",
    "cleared_tree =pd.concat([variable_1_both,\n",
    "                         variable_2_tree,\n",
    "                         variable_4_OHE_both,\n",
    "                         variable_5_both,\n",
    "                         variable_6_tree,\n",
    "                         variable_8_tree,\n",
    "                         variable_10_tree,\n",
    "                         variable_11_tree,\n",
    "                         variable_12_tree_month,\n",
    "                         variable_12_tree_year,\n",
    "                         variable_13_tree,\n",
    "                         variable_14_tree,\n",
    "                         variable_15_tree,\n",
    "                         variable_16_tree,\n",
    "                         variable_17_both,\n",
    "                         variable_18_both,\n",
    "                         variable_19_both,\n",
    "                         variable_20_both,\n",
    "                         variable_21_tree,\n",
    "                         variable_22_tree,\n",
    "                         variable_23_tree,\n",
    "                         variable_24_tree,\n",
    "                         variable_25_tree,\n",
    "                         variable_26_tree,\n",
    "                         variable_27_tree,\n",
    "                         variable_28_both],axis=1)\n",
    "\n",
    "#взять все variable c xgb и both\n",
    "cleared_xgb=pd.concat([variable_1_both,\n",
    "                       variable_2_xgb,\n",
    "                       variable_4_OHE_both,\n",
    "                       variable_5_both,\n",
    "                       variable_6_xgb,\n",
    "                       variable_8_xgb,\n",
    "                       variable_10_xgb,\n",
    "                       variable_11_xgb,\n",
    "                       variable_12_xgb_month,\n",
    "                       variable_12_xgb_year,\n",
    "                       variable_13_xgb,\n",
    "                       variable_14_xgb,\n",
    "                       variable_15_xgb,\n",
    "                       variable_16_xgb,\n",
    "                       variable_17_both,\n",
    "                       variable_18_both,\n",
    "                       variable_19_both,\n",
    "                       variable_20_both,\n",
    "                       variable_21_xgb,\n",
    "                       variable_22_xgb,\n",
    "                       variable_23_xgb,\n",
    "                       variable_24_xgb,\n",
    "                       variable_25_xgb,\n",
    "                       variable_26_xgb,\n",
    "                       variable_27_xgb,\n",
    "                       variable_28_both],axis=1)\n",
    "\n",
    "#взять все variable c cat\n",
    "cleared_cat=pd.concat([variable_1_cat,\n",
    "                       variable_2_cat,\n",
    "                       variable_4_cat,\n",
    "                       variable_5_cat,\n",
    "                       variable_6_cat,\n",
    "                       variable_8_cat,\n",
    "                       variable_10_cat,\n",
    "                       variable_11_cat,\n",
    "                       variable_12_cat_month,\n",
    "                       variable_12_cat_year,\n",
    "                       variable_13_cat,\n",
    "                       variable_14_cat,\n",
    "                       variable_15_cat,\n",
    "                       variable_16_cat,\n",
    "                       variable_17_cat,\n",
    "                       variable_18_cat,\n",
    "                       variable_19_cat,\n",
    "                       variable_20_cat,\n",
    "                       variable_21_cat,\n",
    "                       variable_22_cat,\n",
    "                       variable_23_cat,\n",
    "                       variable_24_cat,\n",
    "                       variable_25_cat,\n",
    "                       variable_26_cat,\n",
    "                       variable_27_cat,\n",
    "                       variable_28_cat],axis=1)"
   ]
  },
  {
   "cell_type": "markdown",
   "metadata": {},
   "source": [
    "## Сохранение датафреймов для дальнейшей работы"
   ]
  },
  {
   "cell_type": "code",
   "execution_count": 224,
   "metadata": {},
   "outputs": [],
   "source": [
    "cleared_linear.to_csv(PATH_TO_OUT+\"cleared_linear.csv\",index=False)"
   ]
  },
  {
   "cell_type": "code",
   "execution_count": 225,
   "metadata": {},
   "outputs": [],
   "source": [
    "cleared_tree.to_csv(PATH_TO_OUT+\"cleared_tree.csv\",index=False)"
   ]
  },
  {
   "cell_type": "code",
   "execution_count": 226,
   "metadata": {},
   "outputs": [],
   "source": [
    "cleared_xgb.to_csv(PATH_TO_OUT+\"cleared_xgb.csv\",index=False)"
   ]
  },
  {
   "cell_type": "code",
   "execution_count": 227,
   "metadata": {},
   "outputs": [],
   "source": [
    "cleared_cat.to_csv(PATH_TO_OUT+\"cleared_cat.csv\",index=False)"
   ]
  },
  {
   "cell_type": "code",
   "execution_count": 228,
   "metadata": {},
   "outputs": [],
   "source": [
    "target.to_csv(PATH_TO_OUT+\"target.csv\",header=True,index=False)"
   ]
  },
  {
   "cell_type": "code",
   "execution_count": null,
   "metadata": {},
   "outputs": [],
   "source": []
  },
  {
   "cell_type": "code",
   "execution_count": null,
   "metadata": {},
   "outputs": [],
   "source": []
  }
 ],
 "metadata": {
  "kernelspec": {
   "display_name": "Python 3",
   "language": "python",
   "name": "python3"
  },
  "language_info": {
   "codemirror_mode": {
    "name": "ipython",
    "version": 3
   },
   "file_extension": ".py",
   "mimetype": "text/x-python",
   "name": "python",
   "nbconvert_exporter": "python",
   "pygments_lexer": "ipython3",
   "version": "3.6.4"
  },
  "toc": {
   "base_numbering": 1,
   "nav_menu": {},
   "number_sections": false,
   "sideBar": true,
   "skip_h1_title": false,
   "title_cell": "Table of Contents",
   "title_sidebar": "Contents",
   "toc_cell": false,
   "toc_position": {},
   "toc_section_display": true,
   "toc_window_display": false
  },
  "varInspector": {
   "cols": {
    "lenName": 16,
    "lenType": 16,
    "lenVar": 40
   },
   "kernels_config": {
    "python": {
     "delete_cmd_postfix": "",
     "delete_cmd_prefix": "del ",
     "library": "var_list.py",
     "varRefreshCmd": "print(var_dic_list())"
    },
    "r": {
     "delete_cmd_postfix": ") ",
     "delete_cmd_prefix": "rm(",
     "library": "var_list.r",
     "varRefreshCmd": "cat(var_dic_list()) "
    }
   },
   "types_to_exclude": [
    "module",
    "function",
    "builtin_function_or_method",
    "instance",
    "_Feature"
   ],
   "window_display": false
  }
 },
 "nbformat": 4,
 "nbformat_minor": 2
}
