{
 "cells": [
  {
   "cell_type": "markdown",
   "metadata": {},
   "source": [
    "## Импорты"
   ]
  },
  {
   "cell_type": "code",
   "execution_count": 4,
   "metadata": {},
   "outputs": [],
   "source": [
    "import warnings\n",
    "warnings.filterwarnings('ignore')\n",
    "\n",
    "import pandas as pd\n",
    "\n",
    "from sklearn.model_selection import train_test_split\n",
    "from sklearn.preprocessing import LabelEncoder\n",
    "from sklearn.metrics import roc_auc_score\n",
    "\n",
    "from sklearn.preprocessing import normalize\n",
    "from sklearn.preprocessing import StandardScaler \n",
    "\n",
    "from sklearn.linear_model import LogisticRegression\n",
    "from sklearn.ensemble import RandomForestClassifier\n",
    "from sklearn.svm import SVC,LinearSVC\n",
    "from xgboost import XGBClassifier\n",
    "from sklearn.neighbors import KNeighborsClassifier\n",
    "from catboost import CatBoostClassifier\n",
    "\n",
    "\n",
    "\n",
    "PATH_TO_DATA=\"/Users/roman/finunichamp2018/2/data/\"\n",
    "PATH_TO_SAMPLE_SUBMIT=\"/Users/roman/finunichamp2018/2/data/Исходные/insclass_sample.csv\"\n",
    "PATH_TO_SUBMIT=\"/Users/roman/finunichamp2018/2/submits/\"\n",
    "\n",
    "sep=151405"
   ]
  },
  {
   "cell_type": "code",
   "execution_count": 5,
   "metadata": {},
   "outputs": [],
   "source": [
    "def submit(y_pred,name):\n",
    "    sub=pd.read_csv(PATH_TO_SAMPLE_SUBMIT,index_col=\"id\")\n",
    "    sub[\"target\"]=y_pred\n",
    "    sub.to_csv(PATH_TO_SUBMIT+name+\".csv\")"
   ]
  },
  {
   "cell_type": "code",
   "execution_count": 6,
   "metadata": {},
   "outputs": [],
   "source": [
    "def tree_final(algo,name):\n",
    "    algo.fit(tree_train.drop(\"target\",axis=1),tree_train[\"target\"])\n",
    "    y_pred=algo.predict_proba(tree_test)[:,1]\n",
    "    submit(y_pred,name)"
   ]
  },
  {
   "cell_type": "code",
   "execution_count": 7,
   "metadata": {},
   "outputs": [],
   "source": [
    "def lin_final(algo,name):\n",
    "    algo.fit(linear_train.drop(\"target\",axis=1),linear_train[\"target\"])\n",
    "    y_pred=algo.predict_proba(tree_test)[:,1]\n",
    "    submit(y_pred,name)"
   ]
  },
  {
   "cell_type": "code",
   "execution_count": 8,
   "metadata": {},
   "outputs": [],
   "source": [
    "def cat_final(algo,name,cat_features):\n",
    "    algo.fit(cat_train.drop(\"target\",axis=1),cat_train[\"target\"],cat_features=cat_features)\n",
    "    y_pred=algo.predict_proba(cat_test)[:,1]\n",
    "    submit(y_pred,name)"
   ]
  },
  {
   "cell_type": "code",
   "execution_count": 9,
   "metadata": {},
   "outputs": [],
   "source": [
    "def xgb_final(algo,name):\n",
    "    algo.fit(xgb_train.drop(\"target\",axis=1),xgb_train[\"target\"])\n",
    "    y_pred=algo.predict_proba(xgb_test)[:,1]\n",
    "    submit(y_pred,name)"
   ]
  },
  {
   "cell_type": "markdown",
   "metadata": {},
   "source": [
    "_____"
   ]
  },
  {
   "cell_type": "code",
   "execution_count": 10,
   "metadata": {},
   "outputs": [],
   "source": [
    "linear=pd.read_csv(PATH_TO_DATA+\"cleared_linear.csv\")\n",
    "tree=pd.read_csv(PATH_TO_DATA+\"cleared_tree.csv\")\n",
    "xgb_data=pd.read_csv(PATH_TO_DATA+\"cleared_xgb.csv\")\n",
    "catBoost_data=pd.read_csv(PATH_TO_DATA+\"cleared_cat.csv\")\n",
    "\n",
    "\n",
    "target=pd.read_csv(PATH_TO_DATA+\"target.csv\")"
   ]
  },
  {
   "cell_type": "code",
   "execution_count": 11,
   "metadata": {},
   "outputs": [],
   "source": [
    "#Для линейных моделей\n",
    "linear_train=linear[:sep]\n",
    "linear_test=linear[sep:]\n",
    "\n",
    "linear_train=pd.concat([linear_train,target],axis=1)"
   ]
  },
  {
   "cell_type": "code",
   "execution_count": 12,
   "metadata": {},
   "outputs": [],
   "source": [
    "#Для деревянных моделей\n",
    "tree_train=tree[:sep]\n",
    "tree_test=tree[sep:]\n",
    "\n",
    "tree_train=pd.concat([tree_train,target],axis=1)"
   ]
  },
  {
   "cell_type": "code",
   "execution_count": 13,
   "metadata": {},
   "outputs": [],
   "source": [
    "#Для xgb\n",
    "xgb_train=xgb_data[:sep]\n",
    "xgb_test=xgb_data[sep:]\n",
    "\n",
    "xgb_train=pd.concat([xgb_train,target],axis=1)"
   ]
  },
  {
   "cell_type": "code",
   "execution_count": 14,
   "metadata": {},
   "outputs": [],
   "source": [
    "#Для catBoost-a\n",
    "cat_train=catBoost_data[:sep]\n",
    "cat_test=catBoost_data[sep:]\n",
    "\n",
    "cat_train=pd.concat([cat_train,target],axis=1)"
   ]
  },
  {
   "cell_type": "markdown",
   "metadata": {},
   "source": [
    "______"
   ]
  },
  {
   "cell_type": "code",
   "execution_count": 15,
   "metadata": {},
   "outputs": [],
   "source": [
    "X_train_lin, X_test_lin, y_train_lin, y_test_lin=train_test_split(linear_train.drop(\"target\",axis=1),\n",
    "                                                                  linear_train[\"target\"],\n",
    "                                                                  test_size=0.3,\n",
    "                                                                  random_state=17,\n",
    "                                                                  stratify=linear_train[\"target\"])"
   ]
  },
  {
   "cell_type": "code",
   "execution_count": 16,
   "metadata": {},
   "outputs": [],
   "source": [
    "X_train_tree, X_test_tree, y_train_tree, y_test_tree=train_test_split(tree_train.drop(\"target\",axis=1),\n",
    "                                                                      tree_train[\"target\"],\n",
    "                                                                      test_size=0.3,\n",
    "                                                                      random_state=17,\n",
    "                                                                      stratify=tree_train[\"target\"])"
   ]
  },
  {
   "cell_type": "code",
   "execution_count": 17,
   "metadata": {},
   "outputs": [],
   "source": [
    "X_train_xgb, X_test_xgb, y_train_xgb, y_test_xgb=train_test_split(xgb_train.drop(\"target\",axis=1),\n",
    "                                                                      xgb_train[\"target\"],\n",
    "                                                                      test_size=0.3,\n",
    "                                                                      random_state=17,\n",
    "                                                                      stratify=xgb_train[\"target\"])"
   ]
  },
  {
   "cell_type": "code",
   "execution_count": 18,
   "metadata": {},
   "outputs": [],
   "source": [
    "X_train_cat, X_test_cat, y_train_cat, y_test_cat=train_test_split(cat_train.drop(\"target\",axis=1),\n",
    "                                                                      cat_train[\"target\"],\n",
    "                                                                      test_size=0.3,\n",
    "                                                                      random_state=17,\n",
    "                                                                      stratify=cat_train[\"target\"])"
   ]
  },
  {
   "cell_type": "markdown",
   "metadata": {},
   "source": [
    "##  Построение моделей"
   ]
  },
  {
   "cell_type": "code",
   "execution_count": 19,
   "metadata": {},
   "outputs": [],
   "source": [
    "rf=RandomForestClassifier(random_state=17,n_jobs=-1)\n",
    "\n",
    "lr=LogisticRegression(random_state=17,n_jobs=-1)\n",
    "\n",
    "svmLin=LinearSVC(random_state=17)\n",
    "\n",
    "xgb=XGBClassifier(seed=17,nthread=-1)\n",
    "\n",
    "knn=KNeighborsClassifier(n_jobs=-1)\n",
    "\n",
    "catCoostC=CatBoostClassifier(verbose=200,random_seed=17,iterations=400)"
   ]
  },
  {
   "cell_type": "markdown",
   "metadata": {},
   "source": [
    "#### Random Forest"
   ]
  },
  {
   "cell_type": "code",
   "execution_count": 32,
   "metadata": {},
   "outputs": [
    {
     "data": {
      "text/plain": [
       "0.67376508250602496"
      ]
     },
     "execution_count": 32,
     "metadata": {},
     "output_type": "execute_result"
    }
   ],
   "source": [
    "#Random Forest\n",
    "rf.fit(X_train_tree,y_train_tree)\n",
    "roc_auc_score(y_test_tree,rf.predict_proba(X_test_tree)[:,1])"
   ]
  },
  {
   "cell_type": "markdown",
   "metadata": {},
   "source": [
    "#### XGB"
   ]
  },
  {
   "cell_type": "code",
   "execution_count": 33,
   "metadata": {},
   "outputs": [
    {
     "data": {
      "text/plain": [
       "0.73379398876043078"
      ]
     },
     "execution_count": 33,
     "metadata": {},
     "output_type": "execute_result"
    }
   ],
   "source": [
    "#XGB на tree data\n",
    "xgb.fit(X_train_tree,y_train_tree)\n",
    "roc_auc_score(y_test_tree,xgb.predict_proba(X_test_tree)[:,1])"
   ]
  },
  {
   "cell_type": "code",
   "execution_count": 23,
   "metadata": {},
   "outputs": [],
   "source": [
    "#Сабмит\n",
    "tree_final(xgb,\"xgb\")"
   ]
  },
  {
   "cell_type": "code",
   "execution_count": 35,
   "metadata": {},
   "outputs": [
    {
     "data": {
      "text/plain": [
       "0.73413993564137603"
      ]
     },
     "execution_count": 35,
     "metadata": {},
     "output_type": "execute_result"
    }
   ],
   "source": [
    "#XGB на данных специально подготовленные для него\n",
    "xgb.fit(X_train_xgb,y_train_xgb)\n",
    "roc_auc_score(y_test_xgb,xgb.predict_proba(X_test_xgb)[:,1])"
   ]
  },
  {
   "cell_type": "code",
   "execution_count": 175,
   "metadata": {},
   "outputs": [],
   "source": [
    "#Сабмит (на данных специально подготовленные для него) на лидерборже хуже предидущего\n",
    "xgb_final(xgb,\"xgb_specialData\")"
   ]
  },
  {
   "cell_type": "markdown",
   "metadata": {},
   "source": [
    "#### log reg"
   ]
  },
  {
   "cell_type": "code",
   "execution_count": null,
   "metadata": {},
   "outputs": [],
   "source": [
    "#Обучение log reg на отмаштабированных linear данный\n",
    "scaler=StandardScaler()\n",
    "lr.fit(scaler.fit_transform(X_train_lin),y_train_lin)\n",
    "roc_auc_score(y_test_lin,lr.predict_proba(scaler.transform(X_test_lin))[:,1])"
   ]
  },
  {
   "cell_type": "code",
   "execution_count": null,
   "metadata": {},
   "outputs": [],
   "source": [
    "#Обучение log reg на  linear данный\n",
    "lr.fit(X_train_lin,y_train_lin)\n",
    "roc_auc_score(y_test_lin,lr.predict_proba(X_test_lin)[:,1])"
   ]
  },
  {
   "cell_type": "markdown",
   "metadata": {},
   "source": [
    "#### KNN"
   ]
  },
  {
   "cell_type": "code",
   "execution_count": 56,
   "metadata": {},
   "outputs": [
    {
     "data": {
      "text/plain": [
       "0.5889554663815757"
      ]
     },
     "execution_count": 56,
     "metadata": {},
     "output_type": "execute_result"
    }
   ],
   "source": [
    "#KNN tree data\n",
    "knn.fit(X_train_tree,y_train_tree)\n",
    "roc_auc_score(y_test_tree,knn.predict_proba(X_test_tree)[:,1])"
   ]
  },
  {
   "cell_type": "code",
   "execution_count": 57,
   "metadata": {},
   "outputs": [
    {
     "data": {
      "text/plain": [
       "0.58288476736413675"
      ]
     },
     "execution_count": 57,
     "metadata": {},
     "output_type": "execute_result"
    }
   ],
   "source": [
    "#KNN на linear data\n",
    "knn.fit(X_train_lin,y_train_lin)\n",
    "roc_auc_score(y_test_lin,knn.predict_proba(X_test_lin)[:,1])"
   ]
  },
  {
   "cell_type": "markdown",
   "metadata": {},
   "source": [
    "#### SVM"
   ]
  },
  {
   "cell_type": "code",
   "execution_count": 53,
   "metadata": {},
   "outputs": [
    {
     "data": {
      "text/plain": [
       "0.6327874052997785"
      ]
     },
     "execution_count": 53,
     "metadata": {},
     "output_type": "execute_result"
    }
   ],
   "source": [
    "#svm с линейным ядром на отмаштабированных linear данный\n",
    "scaler=StandardScaler()\n",
    "svmLin.fit(scaler.fit_transform(X_train_lin),y_train_lin)\n",
    "roc_auc_score(y_test_lin,svmLin.predict(scaler.transform(X_test_lin)))"
   ]
  },
  {
   "cell_type": "markdown",
   "metadata": {},
   "source": [
    "#### CatBoost"
   ]
  },
  {
   "cell_type": "code",
   "execution_count": 18,
   "metadata": {},
   "outputs": [
    {
     "name": "stdout",
     "output_type": "stream",
     "text": [
      "0:\tlearn: 0.6586420\ttotal: 247ms\tremaining: 4m 6s\n",
      "200:\tlearn: 0.2403916\ttotal: 36.2s\tremaining: 2m 23s\n",
      "400:\tlearn: 0.2377964\ttotal: 1m 13s\tremaining: 1m 49s\n",
      "600:\tlearn: 0.2355866\ttotal: 1m 50s\tremaining: 1m 13s\n",
      "800:\tlearn: 0.2335584\ttotal: 2m 29s\tremaining: 37.1s\n"
     ]
    },
    {
     "data": {
      "text/plain": [
       "0.73911519033623996"
      ]
     },
     "execution_count": 18,
     "metadata": {},
     "output_type": "execute_result"
    }
   ],
   "source": [
    "#cat boost с дефлотными настройками данные tree\n",
    "catCoostC.fit(X_train_tree,y_train_tree)\n",
    "roc_auc_score(y_test_tree,catCoostC.predict_proba(X_test_tree)[:,1])"
   ]
  },
  {
   "cell_type": "code",
   "execution_count": 82,
   "metadata": {},
   "outputs": [
    {
     "name": "stdout",
     "output_type": "stream",
     "text": [
      "0:\tlearn: 0.6584899\ttotal: 270ms\tremaining: 6m 17s\n",
      "200:\tlearn: 0.2406499\ttotal: 55.9s\tremaining: 5m 33s\n",
      "400:\tlearn: 0.2383724\ttotal: 1m 52s\tremaining: 4m 39s\n",
      "600:\tlearn: 0.2366794\ttotal: 2m 49s\tremaining: 3m 45s\n",
      "800:\tlearn: 0.2352162\ttotal: 3m 49s\tremaining: 2m 51s\n",
      "1000:\tlearn: 0.2337924\ttotal: 4m 47s\tremaining: 1m 54s\n",
      "1200:\tlearn: 0.2324842\ttotal: 5m 42s\tremaining: 56.7s\n"
     ]
    }
   ],
   "source": [
    "#Сабмит\n",
    "tree_final(catCoostC,\"catboost_treeData\")"
   ]
  },
  {
   "cell_type": "code",
   "execution_count": 52,
   "metadata": {},
   "outputs": [
    {
     "name": "stdout",
     "output_type": "stream",
     "text": [
      "0:\tlearn: 0.6585774\ttotal: 185ms\tremaining: 3m 4s\n",
      "200:\tlearn: 0.2407775\ttotal: 37.8s\tremaining: 2m 30s\n",
      "400:\tlearn: 0.2380522\ttotal: 1m 15s\tremaining: 1m 52s\n",
      "600:\tlearn: 0.2360226\ttotal: 1m 52s\tremaining: 1m 14s\n",
      "800:\tlearn: 0.2339915\ttotal: 2m 33s\tremaining: 38s\n"
     ]
    },
    {
     "data": {
      "text/plain": [
       "0.74477156327247596"
      ]
     },
     "execution_count": 52,
     "metadata": {},
     "output_type": "execute_result"
    }
   ],
   "source": [
    "#cat boost с дефлотными настройками данные xgb\n",
    "catCoostC.fit(X_train_xgb,y_train_xgb)\n",
    "roc_auc_score(y_test_xgb,catCoostC.predict_proba(X_test_xgb)[:,1])"
   ]
  },
  {
   "cell_type": "code",
   "execution_count": 19,
   "metadata": {},
   "outputs": [
    {
     "name": "stdout",
     "output_type": "stream",
     "text": [
      "0:\tlearn: 0.6593305\ttotal: 164ms\tremaining: 2m 43s\n",
      "200:\tlearn: 0.2423677\ttotal: 33.5s\tremaining: 2m 12s\n",
      "400:\tlearn: 0.2395806\ttotal: 1m 5s\tremaining: 1m 37s\n",
      "600:\tlearn: 0.2376743\ttotal: 1m 37s\tremaining: 1m 4s\n",
      "800:\tlearn: 0.2358057\ttotal: 2m 9s\tremaining: 32.2s\n"
     ]
    },
    {
     "data": {
      "text/plain": [
       "0.73759183176483989"
      ]
     },
     "execution_count": 19,
     "metadata": {},
     "output_type": "execute_result"
    }
   ],
   "source": [
    "#cat boost с дефлотными настройками данные специально для него\n",
    "catCoostC.fit(X_train_cat,y_train_cat,cat_features=[0,1,3,5,6,7,12,17,20,21,22,23,25])\n",
    "roc_auc_score(y_test_cat,catCoostC.predict_proba(X_test_cat)[:,1])"
   ]
  },
  {
   "cell_type": "code",
   "execution_count": 45,
   "metadata": {},
   "outputs": [
    {
     "name": "stdout",
     "output_type": "stream",
     "text": [
      "0:\tlearn: 0.6592394\ttotal: 243ms\tremaining: 4m 2s\n",
      "200:\tlearn: 0.2420979\ttotal: 50.6s\tremaining: 3m 21s\n",
      "400:\tlearn: 0.2400586\ttotal: 1m 42s\tremaining: 2m 33s\n",
      "600:\tlearn: 0.2386501\ttotal: 2m 29s\tremaining: 1m 39s\n",
      "800:\tlearn: 0.2371027\ttotal: 3m 18s\tremaining: 49.3s\n"
     ]
    }
   ],
   "source": [
    "#Сабмит\n",
    "cat_final(catCoostC,\"cat_boost_catdata2\",[0,1,3,5,6,7,12,17,20,21,22,23,25])"
   ]
  }
 ],
 "metadata": {
  "kernelspec": {
   "display_name": "Python 3",
   "language": "python",
   "name": "python3"
  },
  "language_info": {
   "codemirror_mode": {
    "name": "ipython",
    "version": 3
   },
   "file_extension": ".py",
   "mimetype": "text/x-python",
   "name": "python",
   "nbconvert_exporter": "python",
   "pygments_lexer": "ipython3",
   "version": "3.6.4"
  },
  "toc": {
   "base_numbering": 1,
   "nav_menu": {},
   "number_sections": false,
   "sideBar": true,
   "skip_h1_title": false,
   "title_cell": "Table of Contents",
   "title_sidebar": "Contents",
   "toc_cell": false,
   "toc_position": {},
   "toc_section_display": true,
   "toc_window_display": false
  },
  "varInspector": {
   "cols": {
    "lenName": 16,
    "lenType": 16,
    "lenVar": 40
   },
   "kernels_config": {
    "python": {
     "delete_cmd_postfix": "",
     "delete_cmd_prefix": "del ",
     "library": "var_list.py",
     "varRefreshCmd": "print(var_dic_list())"
    },
    "r": {
     "delete_cmd_postfix": ") ",
     "delete_cmd_prefix": "rm(",
     "library": "var_list.r",
     "varRefreshCmd": "cat(var_dic_list()) "
    }
   },
   "types_to_exclude": [
    "module",
    "function",
    "builtin_function_or_method",
    "instance",
    "_Feature"
   ],
   "window_display": false
  }
 },
 "nbformat": 4,
 "nbformat_minor": 2
}
