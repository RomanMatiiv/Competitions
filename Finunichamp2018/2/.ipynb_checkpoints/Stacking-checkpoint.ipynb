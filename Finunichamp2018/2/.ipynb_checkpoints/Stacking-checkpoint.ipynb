{
 "cells": [
  {
   "cell_type": "markdown",
   "metadata": {},
   "source": [
    "# Стекинг cat boost-ов"
   ]
  },
  {
   "cell_type": "markdown",
   "metadata": {},
   "source": [
    "## Импорты"
   ]
  },
  {
   "cell_type": "code",
   "execution_count": 12,
   "metadata": {},
   "outputs": [],
   "source": [
    "import warnings\n",
    "warnings.filterwarnings('ignore')\n",
    "\n",
    "import pandas as pd\n",
    "\n",
    "from sklearn.model_selection import train_test_split\n",
    "from sklearn.preprocessing import LabelEncoder\n",
    "from sklearn.metrics import roc_auc_score\n",
    "\n",
    "from sklearn.preprocessing import normalize\n",
    "from sklearn.preprocessing import StandardScaler \n",
    "\n",
    "from sklearn.linear_model import LogisticRegression\n",
    "from sklearn.ensemble import RandomForestClassifier\n",
    "from sklearn.svm import SVC,LinearSVC\n",
    "from xgboost import XGBClassifier\n",
    "from sklearn.neighbors import KNeighborsClassifier\n",
    "from catboost import CatBoostClassifier\n",
    "\n",
    "\n",
    "PATH_TO_DATA=\"/Users/roman/finunichamp2018/2/data/\"\n",
    "PATH_TO_SAMPLE_SUBMIT=\"/Users/roman/finunichamp2018/2/data/based/insclass_sample.csv\"\n",
    "PATH_TO_SUBMIT=\"/Users/roman/finunichamp2018/2/submits/\"\n",
    "\n",
    "sep=151405"
   ]
  },
  {
   "cell_type": "code",
   "execution_count": 9,
   "metadata": {},
   "outputs": [],
   "source": [
    "def submit(y_pred,name):\n",
    "    sub=pd.read_csv(PATH_TO_SAMPLE_SUBMIT,index_col=\"id\")\n",
    "    sub[\"target\"]=y_pred\n",
    "    sub.to_csv(PATH_TO_SUBMIT+name+\".csv\")"
   ]
  },
  {
   "cell_type": "code",
   "execution_count": 3,
   "metadata": {},
   "outputs": [],
   "source": [
    "linear=pd.read_csv(PATH_TO_DATA+\"cleared_linear.csv\")\n",
    "tree=pd.read_csv(PATH_TO_DATA+\"cleared_tree.csv\")\n",
    "xgb_data=pd.read_csv(PATH_TO_DATA+\"cleared_xgb.csv\")\n",
    "catBoost_data=pd.read_csv(PATH_TO_DATA+\"cleared_cat.csv\")\n",
    "\n",
    "\n",
    "target=pd.read_csv(PATH_TO_DATA+\"target.csv\")"
   ]
  },
  {
   "cell_type": "code",
   "execution_count": 4,
   "metadata": {},
   "outputs": [],
   "source": [
    "#Для линейных моделей\n",
    "linear_train=linear[:sep]\n",
    "linear_test=linear[sep:]\n",
    "\n",
    "linear_train=pd.concat([linear_train,target],axis=1)"
   ]
  },
  {
   "cell_type": "code",
   "execution_count": 31,
   "metadata": {},
   "outputs": [],
   "source": [
    "#Для деревянных моделей\n",
    "tree_train=tree[:sep]\n",
    "tree_test=tree[sep:]\n",
    "\n",
    "tree_train=pd.concat([tree_train,target],axis=1)"
   ]
  },
  {
   "cell_type": "code",
   "execution_count": 6,
   "metadata": {},
   "outputs": [],
   "source": [
    "#Для xgb\n",
    "xgb_train=xgb_data[:sep]\n",
    "xgb_test=xgb_data[sep:]\n",
    "\n",
    "xgb_train=pd.concat([xgb_train,target],axis=1)"
   ]
  },
  {
   "cell_type": "code",
   "execution_count": 7,
   "metadata": {},
   "outputs": [],
   "source": [
    "#Для catBoost-a\n",
    "cat_train=catBoost_data[:sep]\n",
    "cat_test=catBoost_data[sep:]\n",
    "\n",
    "cat_train=pd.concat([cat_train,target],axis=1)"
   ]
  },
  {
   "cell_type": "code",
   "execution_count": 8,
   "metadata": {},
   "outputs": [],
   "source": [
    "X_train_cat, X_test_cat, y_train_cat, y_test_cat=train_test_split(cat_train.drop(\"target\",axis=1),\n",
    "                                                                      cat_train[\"target\"],\n",
    "                                                                      test_size=0.1,\n",
    "                                                                      random_state=17,\n",
    "                                                                      stratify=cat_train[\"target\"])"
   ]
  },
  {
   "cell_type": "code",
   "execution_count": 14,
   "metadata": {},
   "outputs": [
    {
     "name": "stdout",
     "output_type": "stream",
     "text": [
      "0:\tlearn: 0.6363828\ttotal: 270ms\tremaining: 4m 29s\n",
      "200:\tlearn: 0.2390719\ttotal: 55.3s\tremaining: 3m 39s\n",
      "400:\tlearn: 0.2361235\ttotal: 1m 50s\tremaining: 2m 44s\n",
      "600:\tlearn: 0.2337443\ttotal: 2m 43s\tremaining: 1m 48s\n",
      "800:\tlearn: 0.2315389\ttotal: 3m 36s\tremaining: 53.7s\n"
     ]
    }
   ],
   "source": [
    "#Обучение не всем обьеме данных\n",
    "catCoostC=CatBoostClassifier(verbose=200,random_seed=17,learning_rate=0.05)\n",
    "catCoostC.fit(tree_train.drop(\"target\",axis=1), tree_train[\"target\"])\n",
    "pred=catCoostC.predict_proba(tree_test)[:,1]"
   ]
  },
  {
   "cell_type": "code",
   "execution_count": 15,
   "metadata": {},
   "outputs": [],
   "source": [
    "submit(pred,\"cat_holl_tree_cat\")"
   ]
  },
  {
   "cell_type": "markdown",
   "metadata": {},
   "source": [
    "### Стеккинг"
   ]
  },
  {
   "cell_type": "markdown",
   "metadata": {},
   "source": [
    "#### Стекинг 1"
   ]
  },
  {
   "cell_type": "code",
   "execution_count": 50,
   "metadata": {},
   "outputs": [],
   "source": [
    "X_train, X_test, y_train, y_test=train_test_split(tree_train.drop(\"target\",axis=1),\n",
    "                                                                      tree_train[\"target\"],\n",
    "                                                                      test_size=0.5,\n",
    "                                                                      random_state=17,\n",
    "                                                                      stratify=tree_train[\"target\"])"
   ]
  },
  {
   "cell_type": "code",
   "execution_count": 51,
   "metadata": {},
   "outputs": [
    {
     "name": "stdout",
     "output_type": "stream",
     "text": [
      "0:\tlearn: 0.6366838\ttotal: 127ms\tremaining: 2m 6s\n",
      "200:\tlearn: 0.2374114\ttotal: 25.9s\tremaining: 1m 43s\n",
      "400:\tlearn: 0.2326664\ttotal: 51.3s\tremaining: 1m 16s\n",
      "600:\tlearn: 0.2286657\ttotal: 1m 16s\tremaining: 50.9s\n",
      "800:\tlearn: 0.2247116\ttotal: 1m 41s\tremaining: 25.3s\n"
     ]
    }
   ],
   "source": [
    "catCoostC=CatBoostClassifier(verbose=200,random_seed=17,learning_rate=0.05)\n",
    "\n",
    "catCoostC.fit(X_train, y_train)\n",
    "pred1=catCoostC.predict_proba(X_test)[:,1]\n",
    "X_test=pd.concat([X_test,pd.Series(pred1,index=X_test.index)],axis=1)\n",
    "\n",
    "pred1=catCoostC.predict_proba(tree_test)[:,1]\n",
    "tree_test=pd.concat([tree_test,pd.Series(pred1,index=tree_test.index)],axis=1)"
   ]
  },
  {
   "cell_type": "markdown",
   "metadata": {},
   "source": [
    "#### Стекинг 2"
   ]
  },
  {
   "cell_type": "code",
   "execution_count": 54,
   "metadata": {},
   "outputs": [],
   "source": [
    "X_train2, X_test2, y_train2, y_test2=train_test_split(X_test,\n",
    "                                                  y_test,\n",
    "                                                  test_size=0.5,\n",
    "                                                  random_state=17,\n",
    "                                                  stratify=y_test)"
   ]
  },
  {
   "cell_type": "code",
   "execution_count": 60,
   "metadata": {},
   "outputs": [
    {
     "name": "stdout",
     "output_type": "stream",
     "text": [
      "0:\tlearn: 0.6385554\ttotal: 130ms\tremaining: 2m 9s\n",
      "200:\tlearn: 0.2385832\ttotal: 24.1s\tremaining: 1m 35s\n",
      "400:\tlearn: 0.2288905\ttotal: 55.3s\tremaining: 1m 22s\n",
      "600:\tlearn: 0.2214003\ttotal: 1m 37s\tremaining: 1m 4s\n",
      "800:\tlearn: 0.2153750\ttotal: 2m 5s\tremaining: 31.3s\n"
     ]
    }
   ],
   "source": [
    "catCoostC=CatBoostClassifier(verbose=200,random_seed=17,learning_rate=0.05)\n",
    "\n",
    "catCoostC.fit(X_train2, y_train2)\n",
    "pred1=catCoostC.predict_proba(X_test2)[:,1]\n",
    "X_test2=pd.concat([X_test2,pd.Series(pred1,index=X_test2.index)],axis=1)\n",
    "\n",
    "pred1=catCoostC.predict_proba(tree_test)[:,1]\n",
    "tree_test=pd.concat([tree_test,pd.Series(pred1,index=tree_test.index)],axis=1)"
   ]
  },
  {
   "cell_type": "code",
   "execution_count": 65,
   "metadata": {},
   "outputs": [],
   "source": [
    "#Предикт после 2 стекингов\n",
    "lr=LogisticRegression(random_state=17,n_jobs=-1)\n",
    "\n",
    "lr.fit(X_test2, y_test2)\n",
    "pred=lr.predict_proba(tree_test)[:,1]\n",
    "\n",
    "submit(pred,\"Stacking_2model_lr\")"
   ]
  },
  {
   "cell_type": "code",
   "execution_count": null,
   "metadata": {},
   "outputs": [],
   "source": []
  },
  {
   "cell_type": "code",
   "execution_count": null,
   "metadata": {},
   "outputs": [],
   "source": []
  }
 ],
 "metadata": {
  "kernelspec": {
   "display_name": "Python 3",
   "language": "python",
   "name": "python3"
  },
  "language_info": {
   "codemirror_mode": {
    "name": "ipython",
    "version": 3
   },
   "file_extension": ".py",
   "mimetype": "text/x-python",
   "name": "python",
   "nbconvert_exporter": "python",
   "pygments_lexer": "ipython3",
   "version": "3.6.4"
  },
  "toc": {
   "base_numbering": 1,
   "nav_menu": {},
   "number_sections": false,
   "sideBar": true,
   "skip_h1_title": false,
   "title_cell": "Table of Contents",
   "title_sidebar": "Contents",
   "toc_cell": false,
   "toc_position": {},
   "toc_section_display": true,
   "toc_window_display": false
  },
  "varInspector": {
   "cols": {
    "lenName": 16,
    "lenType": 16,
    "lenVar": 40
   },
   "kernels_config": {
    "python": {
     "delete_cmd_postfix": "",
     "delete_cmd_prefix": "del ",
     "library": "var_list.py",
     "varRefreshCmd": "print(var_dic_list())"
    },
    "r": {
     "delete_cmd_postfix": ") ",
     "delete_cmd_prefix": "rm(",
     "library": "var_list.r",
     "varRefreshCmd": "cat(var_dic_list()) "
    }
   },
   "types_to_exclude": [
    "module",
    "function",
    "builtin_function_or_method",
    "instance",
    "_Feature"
   ],
   "window_display": false
  }
 },
 "nbformat": 4,
 "nbformat_minor": 2
}
