{
 "cells": [
  {
   "cell_type": "markdown",
   "metadata": {},
   "source": [
    "## Импорты"
   ]
  },
  {
   "cell_type": "code",
   "execution_count": 10,
   "metadata": {},
   "outputs": [],
   "source": [
    "import pandas as pd\n",
    "import numpy as np\n",
    "\n",
    "from sklearn.metrics import log_loss,accuracy_score\n",
    "from sklearn.model_selection import train_test_split\n",
    "\n",
    "from sklearn.ensemble import RandomForestClassifier\n",
    "from sklearn.linear_model import LogisticRegression\n",
    "from xgboost import XGBClassifier\n",
    "from catboost import CatBoostClassifier\n",
    "\n",
    "\n",
    "PATH_TO_DATA=\"/Users/roman/finunichamp2018/1/data/\"\n",
    "PATH_TO_MODEL=\"/Users/roman/finunichamp2018/1/model/\""
   ]
  },
  {
   "cell_type": "code",
   "execution_count": 11,
   "metadata": {},
   "outputs": [],
   "source": [
    "X_train_lin=pd.read_csv(PATH_TO_DATA+\"X_train_lin.csv\")\n",
    "X_test_lin=pd.read_csv(PATH_TO_DATA+\"X_test_lin.csv\")\n",
    "\n",
    "X_train_tree=pd.read_csv(PATH_TO_DATA+\"X_train_tree.csv\")\n",
    "X_test_tree=pd.read_csv(PATH_TO_DATA+\"X_test_tree.csv\")\n",
    "\n",
    "X_train_xgb=pd.read_csv(PATH_TO_DATA+\"X_train_xgb.csv\")\n",
    "X_test_xgb=pd.read_csv(PATH_TO_DATA+\"X_test_xgb.csv\")\n",
    "\n",
    "X_train_cat=pd.read_csv(PATH_TO_DATA+\"X_train_cat.csv\")\n",
    "X_test_cat=pd.read_csv(PATH_TO_DATA+\"X_test_cat.csv\")\n",
    "\n",
    "classes=pd.read_csv(PATH_TO_DATA+\"classes.csv\")\n",
    "classes=classes[\"class\"]"
   ]
  },
  {
   "cell_type": "code",
   "execution_count": 55,
   "metadata": {},
   "outputs": [],
   "source": [
    "classes=pd.read_csv(PATH_TO_DATA+\"classes.csv\")\n",
    "classes=classes[\"class\"]"
   ]
  },
  {
   "cell_type": "markdown",
   "metadata": {},
   "source": [
    "## Обучение моделей"
   ]
  },
  {
   "cell_type": "markdown",
   "metadata": {},
   "source": [
    "### Log reg"
   ]
  },
  {
   "cell_type": "code",
   "execution_count": 56,
   "metadata": {},
   "outputs": [
    {
     "data": {
      "text/plain": [
       "0.13747333766043074"
      ]
     },
     "execution_count": 56,
     "metadata": {},
     "output_type": "execute_result"
    }
   ],
   "source": [
    "X_train, X_test, y_train, y_test =train_test_split(X_train_lin,classes,stratify=classes,test_size=0.3,random_state=17)\n",
    "\n",
    "\n",
    "lr=LogisticRegression(random_state=17)\n",
    "lr.fit(X_train,y_train);\n",
    "pred=lr.predict_proba(X_test)\n",
    "log_loss(y_test,pred)"
   ]
  },
  {
   "cell_type": "markdown",
   "metadata": {},
   "source": [
    "### Random forest"
   ]
  },
  {
   "cell_type": "code",
   "execution_count": 57,
   "metadata": {},
   "outputs": [
    {
     "data": {
      "text/plain": [
       "0.30800989627912967"
      ]
     },
     "execution_count": 57,
     "metadata": {},
     "output_type": "execute_result"
    }
   ],
   "source": [
    "X_train, X_test, y_train, y_test =train_test_split(X_train_tree,classes,stratify=classes,test_size=0.3,random_state=17)\n",
    "\n",
    "\n",
    "rf=RandomForestClassifier(random_state=17)\n",
    "rf.fit(X_train,y_train);\n",
    "pred=rf.predict_proba(X_test)\n",
    "log_loss(y_test,pred)"
   ]
  },
  {
   "cell_type": "markdown",
   "metadata": {},
   "source": [
    "### Xgboost"
   ]
  },
  {
   "cell_type": "code",
   "execution_count": 58,
   "metadata": {},
   "outputs": [
    {
     "data": {
      "text/plain": [
       "0.082932904024709597"
      ]
     },
     "execution_count": 58,
     "metadata": {},
     "output_type": "execute_result"
    }
   ],
   "source": [
    "X_train, X_test, y_train, y_test =train_test_split(X_train_xgb,classes,stratify=classes,test_size=0.3,random_state=17)\n",
    "\n",
    "\n",
    "xgb=XGBClassifier(seed=17)\n",
    "xgb.fit(X_train,y_train);\n",
    "pred=xgb.predict_proba(X_test)\n",
    "log_loss(y_test,pred)"
   ]
  },
  {
   "cell_type": "markdown",
   "metadata": {},
   "source": [
    "### Catboost"
   ]
  },
  {
   "cell_type": "code",
   "execution_count": 51,
   "metadata": {},
   "outputs": [
    {
     "name": "stdout",
     "output_type": "stream",
     "text": [
      "0:\tlearn: -1.3013792\ttotal: 212ms\tremaining: 3m 32s\n",
      "400:\tlearn: -0.0238013\ttotal: 2m 2s\tremaining: 3m 2s\n",
      "800:\tlearn: -0.0179930\ttotal: 4m 6s\tremaining: 1m 1s\n"
     ]
    },
    {
     "data": {
      "text/plain": [
       "0.028749677754353834"
      ]
     },
     "execution_count": 51,
     "metadata": {},
     "output_type": "execute_result"
    }
   ],
   "source": [
    "#Обучение на части данных\n",
    "X_train, X_test, y_train, y_test =train_test_split(X_train_cat,classes,stratify=classes,test_size=0.3,random_state=17)\n",
    "\n",
    "\n",
    "cat=CatBoostClassifier(random_seed=17,loss_function='MultiClass')\n",
    "cat.fit(X_train,y_train,[0,2,3,4,5,7,8,10,15,16,17],verbose=400);\n",
    "# pred=cat.predict_proba(X_test)[:,[1,2,3]]\n",
    "pred=cat.predict_proba(X_test)[:,[1,3]] # если на 2 класса\n",
    "log_loss(y_test,pred)"
   ]
  },
  {
   "cell_type": "code",
   "execution_count": 59,
   "metadata": {},
   "outputs": [
    {
     "name": "stdout",
     "output_type": "stream",
     "text": [
      "0:\tlearn: -1.3081897\ttotal: 329ms\tremaining: 5m 28s\n",
      "400:\tlearn: -0.0740656\ttotal: 2m 23s\tremaining: 3m 34s\n",
      "800:\tlearn: -0.0655745\ttotal: 4m 55s\tremaining: 1m 13s\n"
     ]
    }
   ],
   "source": [
    "#Обучение на полном наборе данных а не на 0.7\n",
    "cat=CatBoostClassifier(random_seed=17,loss_function='MultiClass')\n",
    "cat.fit(X_train_cat,classes,[0,2,3,4,5,7,8,10,15,16,17],verbose=400);"
   ]
  },
  {
   "cell_type": "code",
   "execution_count": 60,
   "metadata": {},
   "outputs": [],
   "source": [
    "#Сохраняю лучший классификатор\n",
    "cat.save_model(PATH_TO_MODEL+\"classifierCat\")"
   ]
  },
  {
   "cell_type": "code",
   "execution_count": null,
   "metadata": {},
   "outputs": [],
   "source": []
  }
 ],
 "metadata": {
  "kernelspec": {
   "display_name": "Python 3",
   "language": "python",
   "name": "python3"
  },
  "language_info": {
   "codemirror_mode": {
    "name": "ipython",
    "version": 3
   },
   "file_extension": ".py",
   "mimetype": "text/x-python",
   "name": "python",
   "nbconvert_exporter": "python",
   "pygments_lexer": "ipython3",
   "version": "3.6.4"
  },
  "toc": {
   "base_numbering": 1,
   "nav_menu": {},
   "number_sections": false,
   "sideBar": true,
   "skip_h1_title": false,
   "title_cell": "Table of Contents",
   "title_sidebar": "Contents",
   "toc_cell": false,
   "toc_position": {},
   "toc_section_display": true,
   "toc_window_display": false
  },
  "varInspector": {
   "cols": {
    "lenName": 16,
    "lenType": 16,
    "lenVar": 40
   },
   "kernels_config": {
    "python": {
     "delete_cmd_postfix": "",
     "delete_cmd_prefix": "del ",
     "library": "var_list.py",
     "varRefreshCmd": "print(var_dic_list())"
    },
    "r": {
     "delete_cmd_postfix": ") ",
     "delete_cmd_prefix": "rm(",
     "library": "var_list.r",
     "varRefreshCmd": "cat(var_dic_list()) "
    }
   },
   "types_to_exclude": [
    "module",
    "function",
    "builtin_function_or_method",
    "instance",
    "_Feature"
   ],
   "window_display": false
  }
 },
 "nbformat": 4,
 "nbformat_minor": 2
}
