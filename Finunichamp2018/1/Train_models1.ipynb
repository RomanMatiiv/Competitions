{
 "cells": [
  {
   "cell_type": "markdown",
   "metadata": {},
   "source": [
    "## Импорты"
   ]
  },
  {
   "cell_type": "code",
   "execution_count": 10,
   "metadata": {},
   "outputs": [],
   "source": [
    "import pandas as pd\n",
    "import numpy as np\n",
    "from sklearn.utils import check_array\n",
    "\n",
    "import warnings\n",
    "warnings.filterwarnings('ignore')\n",
    "\n",
    "from sklearn.linear_model import LinearRegression\n",
    "from sklearn.svm import LinearSVR\n",
    "from sklearn.ensemble import RandomForestRegressor\n",
    "from xgboost import XGBRegressor\n",
    "from catboost import CatBoostRegressor\n",
    "from sklearn.neighbors import KNeighborsRegressor\n",
    "from sklearn.preprocessing import StandardScaler \n",
    "\n",
    "from sklearn.model_selection import train_test_split\n",
    "\n",
    "PATH_TO_DATA=\"/Users/roman/finunichamp2018/1/data/\"\n",
    "PATH_TO_SUBMIT=\"/Users/roman/finunichamp2018/1/answers_archive/\""
   ]
  },
  {
   "cell_type": "code",
   "execution_count": 2,
   "metadata": {},
   "outputs": [],
   "source": [
    "X_train_lin=pd.read_csv(PATH_TO_DATA+\"X_train_lin.csv\")\n",
    "X_test_lin=pd.read_csv(PATH_TO_DATA+\"X_test_lin.csv\")\n",
    "\n",
    "X_train_tree=pd.read_csv(PATH_TO_DATA+\"X_train_tree.csv\")\n",
    "X_test_tree=pd.read_csv(PATH_TO_DATA+\"X_test_tree.csv\")\n",
    "\n",
    "X_train_xgb=pd.read_csv(PATH_TO_DATA+\"X_train_xgb.csv\")\n",
    "X_test_xgb=pd.read_csv(PATH_TO_DATA+\"X_test_xgb.csv\")\n",
    "\n",
    "X_train_cat=pd.read_csv(PATH_TO_DATA+\"X_train_cat.csv\")\n",
    "X_test_cat=pd.read_csv(PATH_TO_DATA+\"X_test_cat.csv\")\n",
    "\n",
    "y=pd.read_csv(PATH_TO_DATA+\"Y.csv\")\n",
    "y=y[\"target\"]"
   ]
  },
  {
   "cell_type": "code",
   "execution_count": 3,
   "metadata": {},
   "outputs": [],
   "source": [
    "def MAPE(y_true, y_pred): \n",
    "    y_true, y_pred = np.array(y_true), np.array(y_pred)\n",
    "    return np.mean(np.abs((y_true - y_pred) / y_true)) * 100"
   ]
  },
  {
   "cell_type": "code",
   "execution_count": 4,
   "metadata": {},
   "outputs": [],
   "source": [
    "def submit(pred,name):\n",
    "    sub=pd.read_csv(PATH_TO_DATA+\"insvalue_sample.csv\",index_col=\"id\")\n",
    "    sub[\"target\"]=pred\n",
    "    sub.to_csv(PATH_TO_SUBMIT+name+\".csv\")"
   ]
  },
  {
   "cell_type": "markdown",
   "metadata": {},
   "source": [
    "## Обучение моделей"
   ]
  },
  {
   "cell_type": "markdown",
   "metadata": {},
   "source": [
    "### KNN"
   ]
  },
  {
   "cell_type": "code",
   "execution_count": 13,
   "metadata": {},
   "outputs": [
    {
     "data": {
      "text/plain": [
       "27.887601428852065"
      ]
     },
     "execution_count": 13,
     "metadata": {},
     "output_type": "execute_result"
    }
   ],
   "source": [
    "X_train, X_test, y_train, y_test=train_test_split(X_train_tree,y,test_size=0.3, random_state=17)\n",
    "\n",
    "knn=KNeighborsRegressor()\n",
    "knn.fit(X_train,y_train)\n",
    "\n",
    "\n",
    "pred=knn.predict(X_test)\n",
    "MAPE(y_test, pred)"
   ]
  },
  {
   "cell_type": "markdown",
   "metadata": {},
   "source": [
    "### Lin reg"
   ]
  },
  {
   "cell_type": "code",
   "execution_count": 6,
   "metadata": {},
   "outputs": [
    {
     "data": {
      "text/plain": [
       "2894780.4548161249"
      ]
     },
     "execution_count": 6,
     "metadata": {},
     "output_type": "execute_result"
    }
   ],
   "source": [
    "X_train, X_test, y_train, y_test=train_test_split(X_train_lin,y,test_size=0.3, random_state=17)\n",
    "\n",
    "linReg=LinearRegression(n_jobs=-1)\n",
    "linReg.fit(X_train,y_train)\n",
    "\n",
    "\n",
    "pred=linReg.predict(X_test)\n",
    "MAPE(y_test, pred)"
   ]
  },
  {
   "cell_type": "code",
   "execution_count": 6,
   "metadata": {},
   "outputs": [],
   "source": [
    "linReg.fit(X_train_lin,y)\n",
    "pred=linReg.predict(X_test_lin)\n",
    "submit(pred,\"lin_reg_dirty_data\")"
   ]
  },
  {
   "cell_type": "markdown",
   "metadata": {},
   "source": [
    "### SVM"
   ]
  },
  {
   "cell_type": "code",
   "execution_count": 7,
   "metadata": {},
   "outputs": [
    {
     "data": {
      "text/plain": [
       "27.626965385280549"
      ]
     },
     "execution_count": 7,
     "metadata": {},
     "output_type": "execute_result"
    }
   ],
   "source": [
    "X_train, X_test, y_train, y_test=train_test_split(X_train_lin,y,test_size=0.3, random_state=17)\n",
    "\n",
    "svm=LinearSVR(random_state=17)\n",
    "svm.fit(X_train,y_train)\n",
    "\n",
    "pred=svm.predict(X_test)\n",
    "MAPE(y_test, pred)"
   ]
  },
  {
   "cell_type": "code",
   "execution_count": 89,
   "metadata": {},
   "outputs": [],
   "source": [
    "svm.fit(X_train_lin,y)\n",
    "pred=svm.predict(X_test_lin)\n",
    "submit(pred,\"svm_dirty_data\")"
   ]
  },
  {
   "cell_type": "markdown",
   "metadata": {},
   "source": [
    "### Random Forest"
   ]
  },
  {
   "cell_type": "code",
   "execution_count": 8,
   "metadata": {},
   "outputs": [
    {
     "data": {
      "text/plain": [
       "9.308827486399915"
      ]
     },
     "execution_count": 8,
     "metadata": {},
     "output_type": "execute_result"
    }
   ],
   "source": [
    "X_train, X_test, y_train, y_test=train_test_split(X_train_tree,y,test_size=0.3, random_state=17)\n",
    "\n",
    "rf=RandomForestRegressor(random_state=17)\n",
    "rf.fit(X_train,y_train)\n",
    "\n",
    "pred=rf.predict(X_test)\n",
    "MAPE(y_test, pred)"
   ]
  },
  {
   "cell_type": "code",
   "execution_count": 17,
   "metadata": {},
   "outputs": [],
   "source": [
    "rf.fit(X_train_tree,np.log(y))\n",
    "pred=rf.predict(X_test_tree)\n",
    "submit(np.exp(pred),\"rf_test_clead_log\")"
   ]
  },
  {
   "cell_type": "markdown",
   "metadata": {},
   "source": [
    "### Xgb"
   ]
  },
  {
   "cell_type": "code",
   "execution_count": 9,
   "metadata": {},
   "outputs": [
    {
     "data": {
      "text/plain": [
       "11.950171831880308"
      ]
     },
     "execution_count": 9,
     "metadata": {},
     "output_type": "execute_result"
    }
   ],
   "source": [
    "X_train, X_test, y_train, y_test=train_test_split(X_train_xgb,y,test_size=0.3, random_state=17)\n",
    "\n",
    "xgb=XGBRegressor(seed=17)\n",
    "xgb.fit(X_train,y_train)\n",
    "\n",
    "pred=xgb.predict(X_test)\n",
    "MAPE(y_test, pred)"
   ]
  },
  {
   "cell_type": "code",
   "execution_count": 19,
   "metadata": {},
   "outputs": [],
   "source": [
    "xgb.fit(X_train_xgb,y)\n",
    "pred=xgb.predict(X_test_xgb)\n",
    "submit(pred,\"xgb_test_clead\")"
   ]
  },
  {
   "cell_type": "markdown",
   "metadata": {},
   "source": [
    "### CatBoost"
   ]
  },
  {
   "cell_type": "code",
   "execution_count": 10,
   "metadata": {},
   "outputs": [
    {
     "name": "stdout",
     "output_type": "stream",
     "text": [
      "0:\tlearn: 0.9998336\ttotal: 86.7ms\tremaining: 1m 26s\n",
      "300:\tlearn: 0.9499614\ttotal: 7.99s\tremaining: 18.5s\n",
      "600:\tlearn: 0.9000114\ttotal: 14.1s\tremaining: 9.38s\n",
      "900:\tlearn: 0.8500076\ttotal: 18.1s\tremaining: 1.99s\n"
     ]
    },
    {
     "data": {
      "text/plain": [
       "99.998355786818053"
      ]
     },
     "execution_count": 10,
     "metadata": {},
     "output_type": "execute_result"
    }
   ],
   "source": [
    "X_train, X_test, y_train, y_test=train_test_split(X_train_cat,y,test_size=0.3, random_state=17)\n",
    "\n",
    "cat=CatBoostRegressor(random_seed=17,loss_function='MAPE')\n",
    "cat.fit(X_train,np.log(y_train),[0,2,3,4,5,7,8,10,15,16,17],verbose=300)\n",
    "\n",
    "pred=cat.predict(X_test)\n",
    "MAPE(y_test, np.exp(pred))"
   ]
  },
  {
   "cell_type": "code",
   "execution_count": null,
   "metadata": {},
   "outputs": [],
   "source": []
  },
  {
   "cell_type": "code",
   "execution_count": null,
   "metadata": {},
   "outputs": [],
   "source": []
  }
 ],
 "metadata": {
  "kernelspec": {
   "display_name": "Python 3",
   "language": "python",
   "name": "python3"
  },
  "language_info": {
   "codemirror_mode": {
    "name": "ipython",
    "version": 3
   },
   "file_extension": ".py",
   "mimetype": "text/x-python",
   "name": "python",
   "nbconvert_exporter": "python",
   "pygments_lexer": "ipython3",
   "version": "3.6.4"
  },
  "toc": {
   "base_numbering": 1,
   "nav_menu": {},
   "number_sections": false,
   "sideBar": true,
   "skip_h1_title": false,
   "title_cell": "Table of Contents",
   "title_sidebar": "Contents",
   "toc_cell": false,
   "toc_position": {},
   "toc_section_display": true,
   "toc_window_display": false
  },
  "varInspector": {
   "cols": {
    "lenName": 16,
    "lenType": 16,
    "lenVar": 40
   },
   "kernels_config": {
    "python": {
     "delete_cmd_postfix": "",
     "delete_cmd_prefix": "del ",
     "library": "var_list.py",
     "varRefreshCmd": "print(var_dic_list())"
    },
    "r": {
     "delete_cmd_postfix": ") ",
     "delete_cmd_prefix": "rm(",
     "library": "var_list.r",
     "varRefreshCmd": "cat(var_dic_list()) "
    }
   },
   "types_to_exclude": [
    "module",
    "function",
    "builtin_function_or_method",
    "instance",
    "_Feature"
   ],
   "window_display": false
  }
 },
 "nbformat": 4,
 "nbformat_minor": 2
}
