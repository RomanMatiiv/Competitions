{
 "cells": [
  {
   "cell_type": "markdown",
   "metadata": {},
   "source": [
    "## Импорты"
   ]
  },
  {
   "cell_type": "code",
   "execution_count": 1,
   "metadata": {},
   "outputs": [],
   "source": [
    "import pandas as pd\n",
    "import numpy as np\n",
    "from sklearn.utils import check_array\n",
    "\n",
    "import warnings\n",
    "warnings.filterwarnings('ignore')\n",
    "\n",
    "from sklearn.linear_model import LinearRegression\n",
    "from sklearn.svm import LinearSVR\n",
    "from sklearn.ensemble import RandomForestRegressor\n",
    "from xgboost import XGBRegressor\n",
    "from catboost import CatBoostRegressor,CatBoostClassifier\n",
    "\n",
    "from sklearn.model_selection import train_test_split\n",
    "\n",
    "PATH_TO_DATA=\"/Users/roman/finunichamp2018/1/data/\"\n",
    "PATH_TO_SUBMIT=\"/Users/roman/finunichamp2018/1/answers_archive/\"\n",
    "PATH_TO_MODEL=\"/Users/roman/finunichamp2018/1/model/\""
   ]
  },
  {
   "cell_type": "code",
   "execution_count": 2,
   "metadata": {},
   "outputs": [],
   "source": [
    "X_train_lin=pd.read_csv(PATH_TO_DATA+\"X_train_lin.csv\")\n",
    "X_test_lin=pd.read_csv(PATH_TO_DATA+\"X_test_lin.csv\")\n",
    "\n",
    "X_train_tree=pd.read_csv(PATH_TO_DATA+\"X_train_tree.csv\")\n",
    "X_test_tree=pd.read_csv(PATH_TO_DATA+\"X_test_tree.csv\")\n",
    "\n",
    "X_train_xgb=pd.read_csv(PATH_TO_DATA+\"X_train_xgb.csv\")\n",
    "X_test_xgb=pd.read_csv(PATH_TO_DATA+\"X_test_xgb.csv\")\n",
    "\n",
    "X_train_cat=pd.read_csv(PATH_TO_DATA+\"X_train_cat.csv\")\n",
    "X_test_cat=pd.read_csv(PATH_TO_DATA+\"X_test_cat.csv\")\n",
    "\n",
    "y=pd.read_csv(PATH_TO_DATA+\"Y.csv\")\n",
    "y=y[\"target\"]\n",
    "\n",
    "classes=pd.read_csv(PATH_TO_DATA+\"classes.csv\")\n",
    "classes=classes[\"class\"]"
   ]
  },
  {
   "cell_type": "code",
   "execution_count": 3,
   "metadata": {},
   "outputs": [],
   "source": [
    "def MAPE(y_true, y_pred): \n",
    "    y_true, y_pred = np.array(y_true), np.array(y_pred)\n",
    "    return np.mean(np.abs((y_true - y_pred) / y_true)) * 100"
   ]
  },
  {
   "cell_type": "code",
   "execution_count": 4,
   "metadata": {},
   "outputs": [],
   "source": [
    "def submit(pred,name):\n",
    "    sub=pd.read_csv(PATH_TO_DATA+\"insvalue_sample.csv\",index_col=\"id\")\n",
    "    sub[\"target\"]=pred\n",
    "    sub.to_csv(PATH_TO_SUBMIT+name+\".csv\")"
   ]
  },
  {
   "cell_type": "markdown",
   "metadata": {},
   "source": [
    "## Обучение моделей для каждого класса"
   ]
  },
  {
   "cell_type": "code",
   "execution_count": 5,
   "metadata": {},
   "outputs": [],
   "source": [
    "one=classes[classes==1].index\n",
    "two=classes[classes==2].index\n",
    "three=classes[classes==3].index"
   ]
  },
  {
   "cell_type": "markdown",
   "metadata": {
    "heading_collapsed": true
   },
   "source": [
    "### Lin reg"
   ]
  },
  {
   "cell_type": "markdown",
   "metadata": {
    "hidden": true
   },
   "source": [
    "#### 1 class"
   ]
  },
  {
   "cell_type": "code",
   "execution_count": 64,
   "metadata": {
    "hidden": true
   },
   "outputs": [
    {
     "data": {
      "text/plain": [
       "127297.63025452117"
      ]
     },
     "execution_count": 64,
     "metadata": {},
     "output_type": "execute_result"
    }
   ],
   "source": [
    "X_train, X_test, y_train, y_test=train_test_split(X_train_lin.ix[one],y.ix[one],test_size=0.3, random_state=17)\n",
    "\n",
    "linReg=LinearRegression(n_jobs=-1)\n",
    "linReg.fit(X_train,y_train)\n",
    "\n",
    "\n",
    "pred=linReg.predict(X_test)\n",
    "MAPE(y_test, pred)"
   ]
  },
  {
   "cell_type": "markdown",
   "metadata": {
    "hidden": true
   },
   "source": [
    "#### 2 class"
   ]
  },
  {
   "cell_type": "code",
   "execution_count": 30,
   "metadata": {
    "hidden": true
   },
   "outputs": [
    {
     "data": {
      "text/plain": [
       "182798.99579383383"
      ]
     },
     "execution_count": 30,
     "metadata": {},
     "output_type": "execute_result"
    }
   ],
   "source": [
    "X_train, X_test, y_train, y_test=train_test_split(X_train_lin.ix[two],y.ix[two],test_size=0.3, random_state=17)\n",
    "\n",
    "linReg=LinearRegression(n_jobs=-1)\n",
    "linReg.fit(X_train,y_train)\n",
    "\n",
    "\n",
    "pred=linReg.predict(X_test)\n",
    "MAPE(y_test, pred)"
   ]
  },
  {
   "cell_type": "markdown",
   "metadata": {
    "hidden": true
   },
   "source": [
    "#### 3 class"
   ]
  },
  {
   "cell_type": "code",
   "execution_count": 32,
   "metadata": {
    "hidden": true
   },
   "outputs": [
    {
     "data": {
      "text/plain": [
       "2592440.4190047178"
      ]
     },
     "execution_count": 32,
     "metadata": {},
     "output_type": "execute_result"
    }
   ],
   "source": [
    "X_train, X_test, y_train, y_test=train_test_split(X_train_lin.ix[three],y.ix[three],test_size=0.3, random_state=17)\n",
    "\n",
    "linReg=LinearRegression(n_jobs=-1)\n",
    "linReg.fit(X_train,y_train)\n",
    "\n",
    "\n",
    "pred=linReg.predict(X_test)\n",
    "MAPE(y_test, pred)"
   ]
  },
  {
   "cell_type": "markdown",
   "metadata": {
    "heading_collapsed": true
   },
   "source": [
    "### SVM"
   ]
  },
  {
   "cell_type": "markdown",
   "metadata": {
    "hidden": true
   },
   "source": [
    "#### 1 class"
   ]
  },
  {
   "cell_type": "code",
   "execution_count": 33,
   "metadata": {
    "hidden": true
   },
   "outputs": [
    {
     "data": {
      "text/plain": [
       "24.47709134689326"
      ]
     },
     "execution_count": 33,
     "metadata": {},
     "output_type": "execute_result"
    }
   ],
   "source": [
    "X_train, X_test, y_train, y_test=train_test_split(X_train_lin.ix[one],y.ix[one],test_size=0.3, random_state=17)\n",
    "\n",
    "svm=LinearSVR(random_state=17)\n",
    "svm.fit(X_train,y_train)\n",
    "\n",
    "pred=svm.predict(X_test)\n",
    "MAPE(y_test, pred)"
   ]
  },
  {
   "cell_type": "markdown",
   "metadata": {
    "hidden": true
   },
   "source": [
    "#### 2 class"
   ]
  },
  {
   "cell_type": "code",
   "execution_count": 34,
   "metadata": {
    "hidden": true
   },
   "outputs": [
    {
     "data": {
      "text/plain": [
       "182798.99579383383"
      ]
     },
     "execution_count": 34,
     "metadata": {},
     "output_type": "execute_result"
    }
   ],
   "source": [
    "X_train, X_test, y_train, y_test=train_test_split(X_train_lin.ix[two],y.ix[two],test_size=0.3, random_state=17)\n",
    "\n",
    "linReg=LinearRegression(n_jobs=-1)\n",
    "linReg.fit(X_train,y_train)\n",
    "\n",
    "\n",
    "pred=linReg.predict(X_test)\n",
    "MAPE(y_test, pred)"
   ]
  },
  {
   "cell_type": "markdown",
   "metadata": {
    "hidden": true
   },
   "source": [
    "#### 3 class"
   ]
  },
  {
   "cell_type": "code",
   "execution_count": 35,
   "metadata": {
    "hidden": true
   },
   "outputs": [
    {
     "data": {
      "text/plain": [
       "2592440.4190047178"
      ]
     },
     "execution_count": 35,
     "metadata": {},
     "output_type": "execute_result"
    }
   ],
   "source": [
    "X_train, X_test, y_train, y_test=train_test_split(X_train_lin.ix[three],y.ix[three],test_size=0.3, random_state=17)\n",
    "\n",
    "linReg=LinearRegression(n_jobs=-1)\n",
    "linReg.fit(X_train,y_train)\n",
    "\n",
    "\n",
    "pred=linReg.predict(X_test)\n",
    "MAPE(y_test, pred)"
   ]
  },
  {
   "cell_type": "markdown",
   "metadata": {
    "heading_collapsed": true
   },
   "source": [
    "### Random Forest"
   ]
  },
  {
   "cell_type": "markdown",
   "metadata": {
    "hidden": true
   },
   "source": [
    "#### 1 class"
   ]
  },
  {
   "cell_type": "code",
   "execution_count": 59,
   "metadata": {
    "hidden": true
   },
   "outputs": [
    {
     "data": {
      "text/plain": [
       "9.241040470723247"
      ]
     },
     "execution_count": 59,
     "metadata": {},
     "output_type": "execute_result"
    }
   ],
   "source": [
    "X_train, X_test, y_train, y_test=train_test_split(X_train_tree.ix[one],y.ix[one],test_size=0.3, random_state=17)\n",
    "\n",
    "rf=RandomForestRegressor(random_state=17)\n",
    "rf.fit(X_train,y_train)\n",
    "\n",
    "pred=rf.predict(X_test)\n",
    "MAPE(y_test, pred)"
   ]
  },
  {
   "cell_type": "markdown",
   "metadata": {
    "hidden": true
   },
   "source": [
    "#### 2 class"
   ]
  },
  {
   "cell_type": "code",
   "execution_count": 60,
   "metadata": {
    "collapsed": true,
    "hidden": true
   },
   "outputs": [
    {
     "ename": "ValueError",
     "evalue": "Found array with 0 sample(s) (shape=(0, 1767)) while a minimum of 1 is required.",
     "output_type": "error",
     "traceback": [
      "\u001b[0;31m---------------------------------------------------------------------------\u001b[0m",
      "\u001b[0;31mValueError\u001b[0m                                Traceback (most recent call last)",
      "\u001b[0;32m<ipython-input-60-7505aeb3a1f6>\u001b[0m in \u001b[0;36m<module>\u001b[0;34m()\u001b[0m\n\u001b[1;32m      2\u001b[0m \u001b[0;34m\u001b[0m\u001b[0m\n\u001b[1;32m      3\u001b[0m \u001b[0mrf\u001b[0m\u001b[0;34m=\u001b[0m\u001b[0mRandomForestRegressor\u001b[0m\u001b[0;34m(\u001b[0m\u001b[0mrandom_state\u001b[0m\u001b[0;34m=\u001b[0m\u001b[0;36m17\u001b[0m\u001b[0;34m)\u001b[0m\u001b[0;34m\u001b[0m\u001b[0m\n\u001b[0;32m----> 4\u001b[0;31m \u001b[0mrf\u001b[0m\u001b[0;34m.\u001b[0m\u001b[0mfit\u001b[0m\u001b[0;34m(\u001b[0m\u001b[0mX_train\u001b[0m\u001b[0;34m,\u001b[0m\u001b[0my_train\u001b[0m\u001b[0;34m)\u001b[0m\u001b[0;34m\u001b[0m\u001b[0m\n\u001b[0m\u001b[1;32m      5\u001b[0m \u001b[0;34m\u001b[0m\u001b[0m\n\u001b[1;32m      6\u001b[0m \u001b[0mpred\u001b[0m\u001b[0;34m=\u001b[0m\u001b[0mrf\u001b[0m\u001b[0;34m.\u001b[0m\u001b[0mpredict\u001b[0m\u001b[0;34m(\u001b[0m\u001b[0mX_test\u001b[0m\u001b[0;34m)\u001b[0m\u001b[0;34m\u001b[0m\u001b[0m\n",
      "\u001b[0;32m~/anaconda3/lib/python3.6/site-packages/sklearn/ensemble/forest.py\u001b[0m in \u001b[0;36mfit\u001b[0;34m(self, X, y, sample_weight)\u001b[0m\n\u001b[1;32m    245\u001b[0m         \"\"\"\n\u001b[1;32m    246\u001b[0m         \u001b[0;31m# Validate or convert input data\u001b[0m\u001b[0;34m\u001b[0m\u001b[0;34m\u001b[0m\u001b[0m\n\u001b[0;32m--> 247\u001b[0;31m         \u001b[0mX\u001b[0m \u001b[0;34m=\u001b[0m \u001b[0mcheck_array\u001b[0m\u001b[0;34m(\u001b[0m\u001b[0mX\u001b[0m\u001b[0;34m,\u001b[0m \u001b[0maccept_sparse\u001b[0m\u001b[0;34m=\u001b[0m\u001b[0;34m\"csc\"\u001b[0m\u001b[0;34m,\u001b[0m \u001b[0mdtype\u001b[0m\u001b[0;34m=\u001b[0m\u001b[0mDTYPE\u001b[0m\u001b[0;34m)\u001b[0m\u001b[0;34m\u001b[0m\u001b[0m\n\u001b[0m\u001b[1;32m    248\u001b[0m         \u001b[0my\u001b[0m \u001b[0;34m=\u001b[0m \u001b[0mcheck_array\u001b[0m\u001b[0;34m(\u001b[0m\u001b[0my\u001b[0m\u001b[0;34m,\u001b[0m \u001b[0maccept_sparse\u001b[0m\u001b[0;34m=\u001b[0m\u001b[0;34m'csc'\u001b[0m\u001b[0;34m,\u001b[0m \u001b[0mensure_2d\u001b[0m\u001b[0;34m=\u001b[0m\u001b[0;32mFalse\u001b[0m\u001b[0;34m,\u001b[0m \u001b[0mdtype\u001b[0m\u001b[0;34m=\u001b[0m\u001b[0;32mNone\u001b[0m\u001b[0;34m)\u001b[0m\u001b[0;34m\u001b[0m\u001b[0m\n\u001b[1;32m    249\u001b[0m         \u001b[0;32mif\u001b[0m \u001b[0msample_weight\u001b[0m \u001b[0;32mis\u001b[0m \u001b[0;32mnot\u001b[0m \u001b[0;32mNone\u001b[0m\u001b[0;34m:\u001b[0m\u001b[0;34m\u001b[0m\u001b[0m\n",
      "\u001b[0;32m~/anaconda3/lib/python3.6/site-packages/sklearn/utils/validation.py\u001b[0m in \u001b[0;36mcheck_array\u001b[0;34m(array, accept_sparse, dtype, order, copy, force_all_finite, ensure_2d, allow_nd, ensure_min_samples, ensure_min_features, warn_on_dtype, estimator)\u001b[0m\n\u001b[1;32m    460\u001b[0m                              \u001b[0;34m\" minimum of %d is required%s.\"\u001b[0m\u001b[0;34m\u001b[0m\u001b[0m\n\u001b[1;32m    461\u001b[0m                              % (n_samples, shape_repr, ensure_min_samples,\n\u001b[0;32m--> 462\u001b[0;31m                                 context))\n\u001b[0m\u001b[1;32m    463\u001b[0m \u001b[0;34m\u001b[0m\u001b[0m\n\u001b[1;32m    464\u001b[0m     \u001b[0;32mif\u001b[0m \u001b[0mensure_min_features\u001b[0m \u001b[0;34m>\u001b[0m \u001b[0;36m0\u001b[0m \u001b[0;32mand\u001b[0m \u001b[0marray\u001b[0m\u001b[0;34m.\u001b[0m\u001b[0mndim\u001b[0m \u001b[0;34m==\u001b[0m \u001b[0;36m2\u001b[0m\u001b[0;34m:\u001b[0m\u001b[0;34m\u001b[0m\u001b[0m\n",
      "\u001b[0;31mValueError\u001b[0m: Found array with 0 sample(s) (shape=(0, 1767)) while a minimum of 1 is required."
     ]
    }
   ],
   "source": [
    "X_train, X_test, y_train, y_test=train_test_split(X_train_tree.ix[two],y.ix[two],test_size=0.3, random_state=17)\n",
    "\n",
    "rf=RandomForestRegressor(random_state=17)\n",
    "rf.fit(X_train,y_train)\n",
    "\n",
    "pred=rf.predict(X_test)\n",
    "MAPE(y_test, pred)"
   ]
  },
  {
   "cell_type": "markdown",
   "metadata": {
    "hidden": true
   },
   "source": [
    "#### 3 class"
   ]
  },
  {
   "cell_type": "code",
   "execution_count": 61,
   "metadata": {
    "hidden": true
   },
   "outputs": [
    {
     "data": {
      "text/plain": [
       "8.4047176482026718"
      ]
     },
     "execution_count": 61,
     "metadata": {},
     "output_type": "execute_result"
    }
   ],
   "source": [
    "X_train, X_test, y_train, y_test=train_test_split(X_train_tree.ix[three],y.ix[three],test_size=0.3, random_state=17)\n",
    "\n",
    "rf=RandomForestRegressor(random_state=17)\n",
    "rf.fit(X_train,y_train)\n",
    "\n",
    "pred=rf.predict(X_test)\n",
    "MAPE(y_test, pred)"
   ]
  },
  {
   "cell_type": "markdown",
   "metadata": {
    "heading_collapsed": true
   },
   "source": [
    "### Xgb"
   ]
  },
  {
   "cell_type": "markdown",
   "metadata": {
    "hidden": true
   },
   "source": [
    "#### 1 class"
   ]
  },
  {
   "cell_type": "code",
   "execution_count": 62,
   "metadata": {
    "hidden": true
   },
   "outputs": [
    {
     "data": {
      "text/plain": [
       "11.698374941780774"
      ]
     },
     "execution_count": 62,
     "metadata": {},
     "output_type": "execute_result"
    }
   ],
   "source": [
    "X_train, X_test, y_train, y_test=train_test_split(X_train_xgb.ix[one],y.ix[one],test_size=0.3, random_state=17)\n",
    "\n",
    "xgb=XGBRegressor(seed=17)\n",
    "xgb.fit(X_train,y_train)\n",
    "\n",
    "pred=xgb.predict(X_test)\n",
    "MAPE(y_test, pred)"
   ]
  },
  {
   "cell_type": "markdown",
   "metadata": {
    "hidden": true
   },
   "source": [
    "#### 2 class"
   ]
  },
  {
   "cell_type": "code",
   "execution_count": 38,
   "metadata": {
    "hidden": true
   },
   "outputs": [
    {
     "data": {
      "text/plain": [
       "7.4386738233969352"
      ]
     },
     "execution_count": 38,
     "metadata": {},
     "output_type": "execute_result"
    }
   ],
   "source": [
    "X_train, X_test, y_train, y_test=train_test_split(X_train_xgb.ix[two],y.ix[two],test_size=0.3, random_state=17)\n",
    "\n",
    "xgb=XGBRegressor(seed=17)\n",
    "xgb.fit(X_train,y_train)\n",
    "\n",
    "pred=xgb.predict(X_test)\n",
    "MAPE(y_test, pred)"
   ]
  },
  {
   "cell_type": "markdown",
   "metadata": {
    "hidden": true
   },
   "source": [
    "#### 3 class"
   ]
  },
  {
   "cell_type": "code",
   "execution_count": 63,
   "metadata": {
    "hidden": true
   },
   "outputs": [
    {
     "data": {
      "text/plain": [
       "8.1774281199361045"
      ]
     },
     "execution_count": 63,
     "metadata": {},
     "output_type": "execute_result"
    }
   ],
   "source": [
    "X_train, X_test, y_train, y_test=train_test_split(X_train_xgb.ix[three],y.ix[three],test_size=0.3, random_state=17)\n",
    "\n",
    "xgb=XGBRegressor(seed=17)\n",
    "xgb.fit(X_train,y_train)\n",
    "\n",
    "pred=xgb.predict(X_test)\n",
    "MAPE(y_test, pred)"
   ]
  },
  {
   "cell_type": "markdown",
   "metadata": {
    "heading_collapsed": true
   },
   "source": [
    "### CatBoost"
   ]
  },
  {
   "cell_type": "markdown",
   "metadata": {
    "hidden": true
   },
   "source": [
    "#### 1 class"
   ]
  },
  {
   "cell_type": "code",
   "execution_count": 41,
   "metadata": {
    "hidden": true
   },
   "outputs": [
    {
     "name": "stdout",
     "output_type": "stream",
     "text": [
      "0:\tlearn: 0.9998311\ttotal: 86.2ms\tremaining: 1m 26s\n",
      "300:\tlearn: 0.9491383\ttotal: 7.45s\tremaining: 17.3s\n",
      "600:\tlearn: 0.8983592\ttotal: 12.5s\tremaining: 8.27s\n",
      "900:\tlearn: 0.8475367\ttotal: 16s\tremaining: 1.75s\n"
     ]
    },
    {
     "data": {
      "text/plain": [
       "99.998215487340659"
      ]
     },
     "execution_count": 41,
     "metadata": {},
     "output_type": "execute_result"
    }
   ],
   "source": [
    "X_train, X_test, y_train, y_test=train_test_split(X_train_cat.ix[one],y.ix[one],test_size=0.3, random_state=17)\n",
    "\n",
    "cat=CatBoostRegressor(random_seed=17,loss_function='MAPE')\n",
    "cat.fit(X_train,np.log(y_train),[0,2,3,4,5,7,8,10,15,16,17],verbose=300)\n",
    "\n",
    "pred=cat.predict(X_test)\n",
    "MAPE(y_test, np.exp(pred))"
   ]
  },
  {
   "cell_type": "markdown",
   "metadata": {
    "hidden": true
   },
   "source": [
    "#### 2 class"
   ]
  },
  {
   "cell_type": "code",
   "execution_count": 42,
   "metadata": {
    "hidden": true
   },
   "outputs": [
    {
     "name": "stdout",
     "output_type": "stream",
     "text": [
      "0:\tlearn: 0.9998625\ttotal: 28.9ms\tremaining: 28.9s\n",
      "300:\tlearn: 0.9572761\ttotal: 2.38s\tremaining: 5.53s\n",
      "600:\tlearn: 0.9142926\ttotal: 3s\tremaining: 1.99s\n",
      "900:\tlearn: 0.8712787\ttotal: 3.44s\tremaining: 378ms\n"
     ]
    },
    {
     "data": {
      "text/plain": [
       "99.999577065937686"
      ]
     },
     "execution_count": 42,
     "metadata": {},
     "output_type": "execute_result"
    }
   ],
   "source": [
    "X_train, X_test, y_train, y_test=train_test_split(X_train_cat.ix[two],y.ix[two],test_size=0.3, random_state=17)\n",
    "\n",
    "cat=CatBoostRegressor(random_seed=17,loss_function='MAPE')\n",
    "cat.fit(X_train,np.log(y_train),[0,2,3,4,5,7,8,10,15,16,17],verbose=300)\n",
    "\n",
    "pred=cat.predict(X_test)\n",
    "MAPE(y_test, np.exp(pred))"
   ]
  },
  {
   "cell_type": "markdown",
   "metadata": {
    "hidden": true
   },
   "source": [
    "#### 3 class"
   ]
  },
  {
   "cell_type": "code",
   "execution_count": 43,
   "metadata": {
    "hidden": true
   },
   "outputs": [
    {
     "name": "stdout",
     "output_type": "stream",
     "text": [
      "0:\tlearn: 0.9998773\ttotal: 11.7ms\tremaining: 11.7s\n",
      "300:\tlearn: 0.9621894\ttotal: 804ms\tremaining: 1.87s\n",
      "600:\tlearn: 0.9232398\ttotal: 1.1s\tremaining: 729ms\n",
      "900:\tlearn: 0.8842876\ttotal: 1.38s\tremaining: 152ms\n"
     ]
    },
    {
     "data": {
      "text/plain": [
       "99.999808749039602"
      ]
     },
     "execution_count": 43,
     "metadata": {},
     "output_type": "execute_result"
    }
   ],
   "source": [
    "X_train, X_test, y_train, y_test=train_test_split(X_train_cat.ix[three],y.ix[three],test_size=0.3, random_state=17)\n",
    "\n",
    "cat=CatBoostRegressor(random_seed=17,loss_function='MAPE')\n",
    "cat.fit(X_train,np.log(y_train),[0,2,3,4,5,7,8,10,15,16,17],verbose=300)\n",
    "\n",
    "pred=cat.predict(X_test)\n",
    "MAPE(y_test, np.exp(pred))"
   ]
  },
  {
   "cell_type": "markdown",
   "metadata": {},
   "source": [
    "## Скомпановка финального алгоритма"
   ]
  },
  {
   "cell_type": "code",
   "execution_count": 6,
   "metadata": {},
   "outputs": [],
   "source": [
    "cat=CatBoostClassifier(random_seed=17,loss_function='MultiClass')\n",
    "cat.load_model(PATH_TO_MODEL+\"classifierCat\");"
   ]
  },
  {
   "cell_type": "markdown",
   "metadata": {},
   "source": [
    "#### Для сабмита"
   ]
  },
  {
   "cell_type": "code",
   "execution_count": 7,
   "metadata": {},
   "outputs": [],
   "source": [
    "test_classes=[]\n",
    "#Предсказываю класс для тестогово catboost-ом\n",
    "for i in X_test_cat.values:\n",
    "    test_classes.append(cat.predict(np.reshape(i,(1,-1)))[0][0])"
   ]
  },
  {
   "cell_type": "markdown",
   "metadata": {},
   "source": [
    "### Сбор алгоритмов"
   ]
  },
  {
   "cell_type": "code",
   "execution_count": 8,
   "metadata": {},
   "outputs": [],
   "source": [
    "#Можно попробовать разную комбинацию\n",
    "#1 class\n",
    "rf_1class=RandomForestRegressor(random_state=17)\n",
    "rf_1class.fit(X_train_tree.ix[one],np.log(y.ix[one]))\n",
    "\n",
    "\n",
    "# 2 class\n",
    "# rf_2class=RandomForestRegressor(random_state=17)  #тк на 2 класса 1 и 3\n",
    "# rf_2class.fit(X_train_tree.ix[two],np.log(y.ix[two]))\n",
    "\n",
    "#3 class\n",
    "rf_3class=RandomForestRegressor(random_state=17)\n",
    "rf_3class.fit(X_train_tree.ix[three],np.log(y.ix[three]));"
   ]
  },
  {
   "cell_type": "markdown",
   "metadata": {},
   "source": [
    "### Финальный алгоритм"
   ]
  },
  {
   "cell_type": "markdown",
   "metadata": {},
   "source": [
    "#### Для сабмита"
   ]
  },
  {
   "cell_type": "code",
   "execution_count": 9,
   "metadata": {},
   "outputs": [],
   "source": [
    "pred=[]\n",
    "for obj,cl in zip(X_test_tree.values,test_classes):\n",
    "    if cl==1:\n",
    "        ans=rf_1class.predict(np.reshape(obj,(1,-1)))[0]\n",
    "    if cl==2:\n",
    "        ans=rf_2class.predict(np.reshape(obj,(1,-1)))[0]\n",
    "    if cl==3:\n",
    "        ans=rf_3class.predict(np.reshape(obj,(1,-1)))[0]\n",
    "    ans=np.exp(ans)\n",
    "    pred.append(ans)"
   ]
  },
  {
   "cell_type": "code",
   "execution_count": 10,
   "metadata": {},
   "outputs": [],
   "source": [
    "submit(pred,\"try2_2class\")"
   ]
  },
  {
   "cell_type": "markdown",
   "metadata": {
    "heading_collapsed": true
   },
   "source": [
    "### Подмешиваем часть ответов\n",
    "Чтоб сразу на 1 место не скакануть"
   ]
  },
  {
   "cell_type": "code",
   "execution_count": 60,
   "metadata": {
    "hidden": true
   },
   "outputs": [],
   "source": [
    "previous_pred=pd.read_csv(\"/Users/roman/finunichamp2018/1/answers_archive/rf_test_clead_log2.csv\",index_col=\"id\")"
   ]
  },
  {
   "cell_type": "code",
   "execution_count": 61,
   "metadata": {
    "hidden": true
   },
   "outputs": [],
   "source": [
    "previous_pred[\"target\"][:2000]=pred[:2000]"
   ]
  },
  {
   "cell_type": "code",
   "execution_count": 62,
   "metadata": {
    "hidden": true
   },
   "outputs": [],
   "source": [
    "previous_pred.to_csv(PATH_TO_SUBMIT+\"tmp3.csv\")"
   ]
  },
  {
   "cell_type": "code",
   "execution_count": 72,
   "metadata": {
    "hidden": true
   },
   "outputs": [
    {
     "data": {
      "text/plain": [
       "array([], dtype=float64)"
      ]
     },
     "execution_count": 72,
     "metadata": {},
     "output_type": "execute_result"
    }
   ],
   "source": [
    "np.array(pred)[np.array(pred)==0]"
   ]
  },
  {
   "cell_type": "code",
   "execution_count": null,
   "metadata": {
    "hidden": true
   },
   "outputs": [],
   "source": []
  }
 ],
 "metadata": {
  "kernelspec": {
   "display_name": "Python 3",
   "language": "python",
   "name": "python3"
  },
  "language_info": {
   "codemirror_mode": {
    "name": "ipython",
    "version": 3
   },
   "file_extension": ".py",
   "mimetype": "text/x-python",
   "name": "python",
   "nbconvert_exporter": "python",
   "pygments_lexer": "ipython3",
   "version": "3.6.4"
  },
  "toc": {
   "base_numbering": 1,
   "nav_menu": {},
   "number_sections": false,
   "sideBar": true,
   "skip_h1_title": false,
   "title_cell": "Table of Contents",
   "title_sidebar": "Contents",
   "toc_cell": false,
   "toc_position": {},
   "toc_section_display": true,
   "toc_window_display": false
  },
  "varInspector": {
   "cols": {
    "lenName": 16,
    "lenType": 16,
    "lenVar": 40
   },
   "kernels_config": {
    "python": {
     "delete_cmd_postfix": "",
     "delete_cmd_prefix": "del ",
     "library": "var_list.py",
     "varRefreshCmd": "print(var_dic_list())"
    },
    "r": {
     "delete_cmd_postfix": ") ",
     "delete_cmd_prefix": "rm(",
     "library": "var_list.r",
     "varRefreshCmd": "cat(var_dic_list()) "
    }
   },
   "types_to_exclude": [
    "module",
    "function",
    "builtin_function_or_method",
    "instance",
    "_Feature"
   ],
   "window_display": false
  }
 },
 "nbformat": 4,
 "nbformat_minor": 2
}
