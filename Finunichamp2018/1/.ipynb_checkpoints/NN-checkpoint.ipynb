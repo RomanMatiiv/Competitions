{
 "cells": [
  {
   "cell_type": "markdown",
   "metadata": {},
   "source": [
    "## Импорты"
   ]
  },
  {
   "cell_type": "code",
   "execution_count": 2,
   "metadata": {},
   "outputs": [],
   "source": [
    "import pandas as pd\n",
    "import numpy as np\n",
    "from sklearn.utils import check_array\n",
    "\n",
    "import warnings\n",
    "warnings.filterwarnings('ignore')\n",
    "\n",
    "from sklearn.preprocessing import StandardScaler \n",
    "from sklearn.model_selection import train_test_split\n",
    "\n",
    "from keras.layers import Dense,Dropout,BatchNormalization ,Input,Conv1D\n",
    "from keras.models import Model\n",
    "from keras.layers.advanced_activations import LeakyReLU, PReLU\n",
    "from keras.callbacks import LearningRateScheduler,TensorBoard\n",
    "\n",
    "\n",
    "\n",
    "PATH_TO_DATA=\"/home/roman/finunichamp2018/1/\"\n",
    "PATH_TO_SUBMIT=\"/home/roman/finunichamp2018/1/answers_archive/\""
   ]
  },
  {
   "cell_type": "code",
   "execution_count": 3,
   "metadata": {},
   "outputs": [],
   "source": [
    "def submit(pred,name):\n",
    "    sub=pd.read_csv(PATH_TO_DATA+\"insvalue_sample.csv\",index_col=\"id\")\n",
    "    sub[\"target\"]=pred\n",
    "    sub.to_csv(PATH_TO_SUBMIT+name+\".csv\")"
   ]
  },
  {
   "cell_type": "code",
   "execution_count": 4,
   "metadata": {},
   "outputs": [],
   "source": [
    "def lr_decay_callback(lr_init, lr_decay):\n",
    "    def step_decay(epoch):\n",
    "        return lr_init * (lr_decay ** (epoch + 1))\n",
    "    return LearningRateScheduler(step_decay)"
   ]
  },
  {
   "cell_type": "code",
   "execution_count": 5,
   "metadata": {},
   "outputs": [],
   "source": [
    "X_train_lin=pd.read_csv(PATH_TO_DATA+\"X_train_lin.csv\")\n",
    "X_test_lin=pd.read_csv(PATH_TO_DATA+\"X_test_lin.csv\")\n",
    "\n",
    "y=pd.read_csv(PATH_TO_DATA+\"Y.csv\")\n",
    "y=y[\"target\"]\n",
    "\n",
    "np.random.seed(17)"
   ]
  },
  {
   "cell_type": "code",
   "execution_count": 6,
   "metadata": {},
   "outputs": [],
   "source": [
    "data=X_train_lin\n",
    "\n",
    "batch_size=8192\n",
    "epochs=2000\n",
    "\n",
    "X_train, X_test, y_train, y_test=train_test_split(X_train_lin,y,test_size=0.3,random_state=17)"
   ]
  },
  {
   "cell_type": "code",
   "execution_count": 7,
   "metadata": {},
   "outputs": [],
   "source": [
    "#try10\n",
    "inp=Input((data.shape[1],))\n",
    "\n",
    "dense1=Dense(128, activation='selu',kernel_initializer='he_uniform')(inp)\n",
    "batch_norm1=BatchNormalization()(dense1)\n",
    "dropout1=Dropout(0.2)(batch_norm1)\n",
    "\n",
    "dense2=Dense(256, activation='selu',kernel_initializer='he_uniform')(dropout1)\n",
    "batch_norm2=BatchNormalization()(dense2)\n",
    "dropout2=Dropout(0.3)(batch_norm2)\n",
    "\n",
    "dense3=Dense(512, activation='selu',kernel_initializer='he_uniform')(dropout2)\n",
    "batch_norm3=BatchNormalization()(dense3)\n",
    "dropout3=Dropout(0.3)(batch_norm3)\n",
    "\n",
    "dense4=Dense(1024, activation='selu',kernel_initializer='he_uniform')(dropout3)\n",
    "batch_norm4=BatchNormalization()(dense4)\n",
    "dropout5=Dropout(0.3)(batch_norm4)\n",
    "\n",
    "dense5=Dense(128, activation='selu',kernel_initializer='he_uniform')(dropout5)\n",
    "\n",
    "out=Dense(1)(dense5)\n",
    "\n",
    "model=Model(inputs=inp,outputs=out)\n",
    "model.compile(optimizer=\"Nadam\",\n",
    "              loss=\"mean_absolute_percentage_error\",\n",
    "              metrics=[\"mean_absolute_percentage_error\"])"
   ]
  },
  {
   "cell_type": "code",
   "execution_count": null,
   "metadata": {
    "scrolled": true
   },
   "outputs": [],
   "source": [
    "model.fit(X_train_lin,\n",
    "          y,\n",
    "          batch_size=batch_size,\n",
    "          epochs=epochs,\n",
    "          validation_split=0.1,\n",
    "          verbose=2)"
   ]
  },
  {
   "cell_type": "code",
   "execution_count": null,
   "metadata": {},
   "outputs": [],
   "source": [
    "# history\n",
    "# 9.8819\n",
    "# 9.2800\n",
    "# 9.1571"
   ]
  },
  {
   "cell_type": "code",
   "execution_count": 11,
   "metadata": {},
   "outputs": [],
   "source": [
    "pred=model.predict(X_test_lin)"
   ]
  },
  {
   "cell_type": "code",
   "execution_count": 12,
   "metadata": {},
   "outputs": [],
   "source": [
    "submit(pred,\"nn_arh10\")"
   ]
  }
 ],
 "metadata": {
  "kernelspec": {
   "display_name": "Python 3",
   "language": "python",
   "name": "python3"
  },
  "language_info": {
   "codemirror_mode": {
    "name": "ipython",
    "version": 3
   },
   "file_extension": ".py",
   "mimetype": "text/x-python",
   "name": "python",
   "nbconvert_exporter": "python",
   "pygments_lexer": "ipython3",
   "version": "3.6.4"
  },
  "toc": {
   "base_numbering": 1,
   "nav_menu": {},
   "number_sections": false,
   "sideBar": true,
   "skip_h1_title": false,
   "title_cell": "Table of Contents",
   "title_sidebar": "Contents",
   "toc_cell": false,
   "toc_position": {},
   "toc_section_display": true,
   "toc_window_display": false
  },
  "varInspector": {
   "cols": {
    "lenName": 16,
    "lenType": 16,
    "lenVar": 40
   },
   "kernels_config": {
    "python": {
     "delete_cmd_postfix": "",
     "delete_cmd_prefix": "del ",
     "library": "var_list.py",
     "varRefreshCmd": "print(var_dic_list())"
    },
    "r": {
     "delete_cmd_postfix": ") ",
     "delete_cmd_prefix": "rm(",
     "library": "var_list.r",
     "varRefreshCmd": "cat(var_dic_list()) "
    }
   },
   "types_to_exclude": [
    "module",
    "function",
    "builtin_function_or_method",
    "instance",
    "_Feature"
   ],
   "window_display": false
  }
 },
 "nbformat": 4,
 "nbformat_minor": 2
}
