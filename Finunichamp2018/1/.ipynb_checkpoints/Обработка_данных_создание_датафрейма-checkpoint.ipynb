{
 "cells": [
  {
   "cell_type": "markdown",
   "metadata": {},
   "source": [
    "#### Идеи\n",
    "- Признак: совпадает ли город регистрации автомобиля и водителя (column_4,column_5)\n",
    "- Признак: нет просточек по выплатам (column_6)\n",
    "- Признак: Маленький пробег (порог \"маленький\" подобрать) (column_8)\n",
    "- Признак: Возраст больше 100 лет/или порога (column_13)\n",
    "- Попробовать смерждить с соревнованием 2 и добавить столбец страховой случай done (общих полей не много)\n",
    "- Совпадения трейн и тест"
   ]
  },
  {
   "cell_type": "markdown",
   "metadata": {},
   "source": [
    "# 1-task\n",
    "## Описание полей\n",
    "\n",
    "- `column_1` - пол водителя;\n",
    "- `column_2` - стаж вождения;\n",
    "- `column_3` - семейное положение водителя;\n",
    "- `column_4` - город регистрации водителя;\n",
    "- `column_5` - город регистрации договора;\n",
    "- `column_6` - максимальная просрочка по выплатам;\n",
    "- `column_7` - тип двигателя;\n",
    "- `column_8` - пробег транспортного средства;\n",
    "- `column_9` - год производства транспортного средства;\n",
    "- `column_10` - мощность двигателя в лошадиных силах;\n",
    "- `column_11` - количество договоров клиента;\n",
    "- `column_12` - количество договоров транспортного средства;\n",
    "- `column_13` - возраст клиента;\n",
    "- `column_14` - тип транспортного средства;\n",
    "- `column_15` - страна-производитель транспортного средства;\n",
    "- `column_16` - наличие телематических систем, установленных на транспортное средство;\n",
    "- `column_17` - марка и модель автомобиля (задача усложняется тем, что в выборке почти для всех марок присутствуют разные модели, представляющие их, т.е. марка X в выборке представлена моделями x1,x2, хотя в явном виде эта информация в данных не присутствует);\n",
    "- `column_18` - технический параметр транспортного средства.\n",
    "\n",
    "- <font color=\"red\">`target` - страховая стоимость транспортного средства \n",
    "    \n",
    "    \n",
    "Для 24 511 договоров страхования транспортных средств известны значения ряда признаков, в том числе пол, возраст, стаж вождения и коэффициент бонус-малус водителя, тип, марка, модель, год выпуска, страна – производитель, мощность и объем двигателя, а также страховая стоимость транспортного средства \n",
    "\n",
    "Метрикой качества является средняя относительная ошибка предсказания `MAPE`"
   ]
  },
  {
   "cell_type": "markdown",
   "metadata": {},
   "source": [
    "____"
   ]
  },
  {
   "cell_type": "markdown",
   "metadata": {},
   "source": [
    "## Импорт библиотек и загрузка данных"
   ]
  },
  {
   "cell_type": "code",
   "execution_count": 1,
   "metadata": {},
   "outputs": [],
   "source": [
    "from matplotlib import pyplot as plt\n",
    "import seaborn as sns\n",
    "%matplotlib inline\n",
    "\n",
    "import pandas as pd\n",
    "import numpy as np\n",
    "\n",
    "\n",
    "PATH_TO_DATA=\"/Users/roman/finunichamp2018/1/data/\""
   ]
  },
  {
   "cell_type": "code",
   "execution_count": 2,
   "metadata": {},
   "outputs": [],
   "source": [
    "train=pd.read_csv(PATH_TO_DATA+\"insvalue_train.csv\")\n",
    "test=pd.read_csv(PATH_TO_DATA+\"insvalue_test.csv\")\n",
    "sample_submit=pd.read_csv(PATH_TO_DATA+\"insvalue_sample.csv\")"
   ]
  },
  {
   "cell_type": "code",
   "execution_count": 3,
   "metadata": {},
   "outputs": [
    {
     "data": {
      "text/html": [
       "<div>\n",
       "<style scoped>\n",
       "    .dataframe tbody tr th:only-of-type {\n",
       "        vertical-align: middle;\n",
       "    }\n",
       "\n",
       "    .dataframe tbody tr th {\n",
       "        vertical-align: top;\n",
       "    }\n",
       "\n",
       "    .dataframe thead th {\n",
       "        text-align: right;\n",
       "    }\n",
       "</style>\n",
       "<table border=\"1\" class=\"dataframe\">\n",
       "  <thead>\n",
       "    <tr style=\"text-align: right;\">\n",
       "      <th></th>\n",
       "      <th>column_1</th>\n",
       "      <th>column_2</th>\n",
       "      <th>column_3</th>\n",
       "      <th>column_4</th>\n",
       "      <th>column_5</th>\n",
       "      <th>column_6</th>\n",
       "      <th>column_7</th>\n",
       "      <th>column_8</th>\n",
       "      <th>column_9</th>\n",
       "      <th>column_10</th>\n",
       "      <th>column_11</th>\n",
       "      <th>column_12</th>\n",
       "      <th>column_13</th>\n",
       "      <th>column_14</th>\n",
       "      <th>column_15</th>\n",
       "      <th>column_16</th>\n",
       "      <th>column_17</th>\n",
       "      <th>column_18</th>\n",
       "      <th>target</th>\n",
       "    </tr>\n",
       "  </thead>\n",
       "  <tbody>\n",
       "    <tr>\n",
       "      <th>0</th>\n",
       "      <td>2</td>\n",
       "      <td>15.065199</td>\n",
       "      <td>a1</td>\n",
       "      <td>b0</td>\n",
       "      <td>b0</td>\n",
       "      <td>53.0</td>\n",
       "      <td>q2</td>\n",
       "      <td>1.0</td>\n",
       "      <td>2</td>\n",
       "      <td>249.0</td>\n",
       "      <td>23</td>\n",
       "      <td>1</td>\n",
       "      <td>58.025786</td>\n",
       "      <td>1</td>\n",
       "      <td>c4</td>\n",
       "      <td>1</td>\n",
       "      <td>k</td>\n",
       "      <td>3.095619</td>\n",
       "      <td>3.105288e+06</td>\n",
       "    </tr>\n",
       "    <tr>\n",
       "      <th>1</th>\n",
       "      <td>1</td>\n",
       "      <td>12.200897</td>\n",
       "      <td>a3</td>\n",
       "      <td>b0</td>\n",
       "      <td>b0</td>\n",
       "      <td>6.0</td>\n",
       "      <td>q1</td>\n",
       "      <td>2100.0</td>\n",
       "      <td>4</td>\n",
       "      <td>123.0</td>\n",
       "      <td>4</td>\n",
       "      <td>3</td>\n",
       "      <td>81.549097</td>\n",
       "      <td>1</td>\n",
       "      <td>c0</td>\n",
       "      <td>0</td>\n",
       "      <td>a</td>\n",
       "      <td>1.665975</td>\n",
       "      <td>3.752557e+05</td>\n",
       "    </tr>\n",
       "  </tbody>\n",
       "</table>\n",
       "</div>"
      ],
      "text/plain": [
       "   column_1   column_2 column_3 column_4 column_5  column_6 column_7  \\\n",
       "0         2  15.065199       a1       b0       b0      53.0       q2   \n",
       "1         1  12.200897       a3       b0       b0       6.0       q1   \n",
       "\n",
       "   column_8  column_9  column_10  column_11  column_12  column_13  column_14  \\\n",
       "0       1.0         2      249.0         23          1  58.025786          1   \n",
       "1    2100.0         4      123.0          4          3  81.549097          1   \n",
       "\n",
       "  column_15  column_16 column_17  column_18        target  \n",
       "0        c4          1         k   3.095619  3.105288e+06  \n",
       "1        c0          0         a   1.665975  3.752557e+05  "
      ]
     },
     "execution_count": 3,
     "metadata": {},
     "output_type": "execute_result"
    }
   ],
   "source": [
    "train.head(2)"
   ]
  },
  {
   "cell_type": "markdown",
   "metadata": {},
   "source": [
    "## EDA"
   ]
  },
  {
   "cell_type": "code",
   "execution_count": 4,
   "metadata": {},
   "outputs": [
    {
     "data": {
      "image/png": "[encoded data removed]",
      "text/plain": [
       "<matplotlib.figure.Figure at 0x10f6b7978>"
      ]
     },
     "metadata": {},
     "output_type": "display_data"
    }
   ],
   "source": [
    "train[\"target\"].hist(bins=100);"
   ]
  },
  {
   "cell_type": "code",
   "execution_count": 5,
   "metadata": {},
   "outputs": [
    {
     "data": {
      "image/png": "[encoded data removed]",
      "text/plain": [
       "<matplotlib.figure.Figure at 0x1a151b4da0>"
      ]
     },
     "metadata": {},
     "output_type": "display_data"
    }
   ],
   "source": [
    "np.log(train[\"target\"]).hist(bins=100);"
   ]
  },
  {
   "cell_type": "markdown",
   "metadata": {},
   "source": [
    "Скорее всего целевой признок нужно прологарифмировать"
   ]
  },
  {
   "cell_type": "code",
   "execution_count": 6,
   "metadata": {},
   "outputs": [
    {
     "data": {
      "text/plain": [
       "column_1     False\n",
       "column_2      True\n",
       "column_3     False\n",
       "column_4     False\n",
       "column_5     False\n",
       "column_6     False\n",
       "column_7     False\n",
       "column_8     False\n",
       "column_9     False\n",
       "column_10    False\n",
       "column_11    False\n",
       "column_12    False\n",
       "column_13    False\n",
       "column_14    False\n",
       "column_15    False\n",
       "column_16    False\n",
       "column_17    False\n",
       "column_18    False\n",
       "target       False\n",
       "dtype: bool"
      ]
     },
     "execution_count": 6,
     "metadata": {},
     "output_type": "execute_result"
    }
   ],
   "source": [
    "#Только в одном столбце  \"column_2\" есть пропуски\n",
    "train.isnull().any()"
   ]
  },
  {
   "cell_type": "code",
   "execution_count": 7,
   "metadata": {},
   "outputs": [
    {
     "data": {
      "text/plain": [
       "id           False\n",
       "column_1     False\n",
       "column_2      True\n",
       "column_3     False\n",
       "column_4     False\n",
       "column_5     False\n",
       "column_6     False\n",
       "column_7     False\n",
       "column_8      True\n",
       "column_9     False\n",
       "column_10    False\n",
       "column_11    False\n",
       "column_12    False\n",
       "column_13    False\n",
       "column_14    False\n",
       "column_15    False\n",
       "column_16    False\n",
       "column_17    False\n",
       "column_18    False\n",
       "dtype: bool"
      ]
     },
     "execution_count": 7,
     "metadata": {},
     "output_type": "execute_result"
    }
   ],
   "source": [
    "#В тесте в column_2 и column_8 есть пропуски\n",
    "test.isnull().any()"
   ]
  },
  {
   "cell_type": "markdown",
   "metadata": {},
   "source": [
    "## Обработка данных"
   ]
  },
  {
   "cell_type": "markdown",
   "metadata": {},
   "source": [
    "### Добавление признака класса для классификатора"
   ]
  },
  {
   "cell_type": "code",
   "execution_count": 8,
   "metadata": {},
   "outputs": [
    {
     "data": {
      "image/png": "[encoded data removed]",
      "text/plain": [
       "<matplotlib.figure.Figure at 0x1a15a6eac8>"
      ]
     },
     "metadata": {},
     "output_type": "display_data"
    }
   ],
   "source": [
    "train[\"target\"].hist();"
   ]
  },
  {
   "cell_type": "code",
   "execution_count": null,
   "metadata": {},
   "outputs": [],
   "source": [
    "#по факту на 2 класса\n",
    "train[\"target\"]=np.log(train[\"target\"])\n",
    "\n",
    "#Старое не делоая лог норм\n",
    "# threshold_one_class=1500000   \n",
    "# threshold_three_class=3000000 \n",
    "\n",
    "threshold_one_class=14.5\n",
    "threshold_three_class=14.5\n",
    "\n",
    "train[\"class\"]=0\n",
    "\n",
    "index=train[train[\"target\"]<threshold_one_class].index\n",
    "train[\"class\"][index]=np.ones_like(index)\n",
    "\n",
    "\n",
    "index=train[train[\"target\"]>threshold_three_class].index\n",
    "train[\"class\"][index]=np.ones_like(index)*3\n",
    "\n",
    "train[\"class\"]=train[\"class\"].apply(lambda x:2 if x==0 else x)\n",
    "\n",
    "train[\"target\"]=np.exp(train[\"target\"])"
   ]
  },
  {
   "cell_type": "code",
   "execution_count": 12,
   "metadata": {},
   "outputs": [
    {
     "data": {
      "image/png": "[encoded data removed]",
      "text/plain": [
       "<matplotlib.figure.Figure at 0x1a15e3acc0>"
      ]
     },
     "metadata": {},
     "output_type": "display_data"
    }
   ],
   "source": [
    "train[\"class\"].hist();"
   ]
  },
  {
   "cell_type": "markdown",
   "metadata": {},
   "source": [
    "### В каких столбцаз есть пропуски\n",
    "- `column_2` xgb-оставить, деревянные-вне распределения,lin-средним\n",
    "\n",
    "### Какие столбцы какого типа\n",
    "- Вещественные `column_2`,`column_6`,`column_8`,`column_10`,`column_11`,`column_12`,`column_13`,`column_18`\n",
    "\n",
    "- Категориальные `column_1`,`column_3`,`column_4`(822),`column_5`(789),`column_7`,`column_9`,`column_15`,`column_16`,`column_17`,`same_town`,`no_debts`\n",
    "\n",
    "### Как обрабатывать\n",
    "- `column_1`  - OHE-lin tree,xgb,catboost-оставить `done`\n",
    "- `column_2`  - оставить\n",
    "- `column_3`  - OHE-lin,tree,xgb  catboost-оставить\n",
    "- `column_4`  - OHE-lin,tree,xgb  catboost-оставить (или выкинуть вообще)\n",
    "- `column_5`  - OHE-lin,tree,xgb  catboost-оставить (или выкинуть вообще)\n",
    "- `column_6`  - оставить\n",
    "- `column_7`  - OHE-lin,tree,xgb  catboost-оставить\n",
    "- `column_8`  - оставить\n",
    "- `column_9`  - OHE-lin,tree,xgb  catboost-оставить (или оставить для всех как вещественный признак)\n",
    "- `column_10` - оставить\n",
    "- `column_11` - оставить\n",
    "- `column_12` - оставить (OHE-lin,tree,xgb  catboost-оставить)\n",
    "- `column_13` - оставить\n",
    "- `column_14` - выбросить тк значение константа\n",
    "- `column_15` - OHE-lin,tree,xgb  catboost-оставить\n",
    "- `column_16` - OHE-lin,tree,xgb  catboost-оставить\n",
    "- `column_17` - OHE-lin,tree,xgb  catboost-оставить (или выкинуть тк модель не учитываеться)\n",
    "- `column_18` - оставить\n",
    "\n",
    "### Генерация фич\n",
    "- совпадает ли город регистрации автомобиля и водителя (column_4,column_5) `done`\n",
    "- нет просточек по выплатам (column_6)`done`\n",
    "- Маленький пробег (порог \"маленький\" подобрать) (column_8)\n",
    "- Возраст больше 100 лет/или порога (column_13)"
   ]
  },
  {
   "cell_type": "code",
   "execution_count": 13,
   "metadata": {},
   "outputs": [],
   "source": [
    "#Объеденение test и train для последующей обработки\n",
    "test.drop(\"id\",axis=1,inplace=True)\n",
    "\n",
    "sep=train.shape[0]\n",
    "\n",
    "df=pd.concat([train.drop([\"target\",\"class\"],axis=1),test])\n",
    "\n",
    "\n",
    "y=train[\"target\"]\n",
    "classes=train[\"class\"]"
   ]
  },
  {
   "cell_type": "code",
   "execution_count": 14,
   "metadata": {
    "code_folding": []
   },
   "outputs": [],
   "source": [
    "#1\n",
    "column_1_lin=pd.get_dummies(df[\"column_1\"],prefix=\"col1\")\n",
    "column_1_tree=df[\"column_1\"]\n",
    "column_1_xgb=column_1_tree\n",
    "column_1_cat=column_1_tree\n",
    "#2\n",
    "column_2_lin=df[\"column_2\"].fillna(df[\"column_2\"].mean())\n",
    "column_2_tree=df[\"column_2\"].fillna(200) #max 83\n",
    "column_2_xgb=column_2_tree\n",
    "column_2_cat=column_2_tree\n",
    "#3\n",
    "column_3_lin=pd.get_dummies(df[\"column_3\"],prefix=\"col_3\")\n",
    "column_3_tree=column_3_lin\n",
    "column_3_xgb=column_3_lin\n",
    "column_3_cat=df[\"column_3\"]\n",
    "#4\n",
    "column_4_lin=pd.get_dummies(df[\"column_4\"],prefix=\"col_4\")\n",
    "column_4_tree=column_4_lin\n",
    "column_4_xgb=column_4_lin\n",
    "column_4_cat=df[\"column_4\"]\n",
    "#5\n",
    "column_5_lin=pd.get_dummies(df[\"column_5\"],prefix=\"col_5\")\n",
    "column_5_tree=column_5_lin\n",
    "column_5_xgb=column_5_lin\n",
    "column_5_cat=df[\"column_5\"]\n",
    "#new feature\n",
    "same_town_lin=pd.get_dummies((df[\"column_4\"]==df[\"column_5\"]).astype(int),prefix=\"same_town\")\n",
    "same_town_tree=(df[\"column_4\"]==df[\"column_5\"]).astype(int)\n",
    "same_town_xgb=same_town_tree\n",
    "same_town_cat=same_town_tree\n",
    "#6\n",
    "column_6_lin=df[\"column_6\"]\n",
    "column_6_tree=column_6_lin\n",
    "column_6_xgb=column_6_lin\n",
    "column_6_cat=column_6_lin\n",
    "#new feature\n",
    "no_debts_lin=pd.get_dummies((df[\"column_6\"]==0).astype(int),prefix=\"no_debts\")\n",
    "no_debts_tree=(df[\"column_6\"]==0).astype(int)\n",
    "no_debts_xgb=no_debts_tree\n",
    "no_debts_cat=no_debts_tree\n",
    "#7\n",
    "column_7_lin=pd.get_dummies(df[\"column_7\"],prefix=\"col_7\")\n",
    "column_7_tree=column_7_lin\n",
    "column_7_xgb=column_7_lin\n",
    "column_7_cat=df[\"column_7\"]\n",
    "#8\n",
    "column_8_lin=df[\"column_8\"].fillna(df[\"column_8\"].mean()) #Всего 3 записи с пропусками\n",
    "column_8_tree=column_8_lin\n",
    "column_8_xgb=column_8_lin\n",
    "column_8_cat=column_8_lin\n",
    "#9\n",
    "column_9_lin=pd.get_dummies(df[\"column_9\"],prefix=\"col_9_year\")\n",
    "column_9_tree=column_9_lin\n",
    "column_9_xgb=column_9_lin\n",
    "column_9_cat=df[\"column_9\"]\n",
    "#10\n",
    "column_10_lin=df[\"column_10\"]\n",
    "column_10_tree=column_10_lin\n",
    "column_10_xgb=column_10_lin\n",
    "column_10_cat=column_10_lin\n",
    "#11\n",
    "column_11_lin=df[\"column_11\"]\n",
    "column_11_tree=column_11_lin\n",
    "column_11_xgb=column_11_lin\n",
    "column_11_cat=column_11_lin\n",
    "#12\n",
    "column_12_lin=df[\"column_12\"]\n",
    "column_12_tree=column_12_lin\n",
    "column_12_xgb=column_12_lin\n",
    "column_12_cat=column_12_lin\n",
    "#13\n",
    "column_13_lin=df[\"column_13\"]\n",
    "column_13_tree=column_13_lin\n",
    "column_13_xgb=column_13_lin\n",
    "column_13_cat=column_13_lin\n",
    "#15\n",
    "column_15_lin=pd.get_dummies(df[\"column_15\"],prefix=\"col_15\")\n",
    "column_15_tree=column_15_lin\n",
    "column_15_xgb=column_15_lin\n",
    "column_15_cat=df[\"column_15\"]\n",
    "#16\n",
    "column_16_lin=pd.get_dummies(df[\"column_16\"],prefix=\"col_16\")\n",
    "column_16_tree=column_16_lin\n",
    "column_16_xgb=column_16_lin\n",
    "column_16_cat=df[\"column_16\"]\n",
    "#17\n",
    "column_17_lin=pd.get_dummies(df[\"column_17\"],prefix=\"col_17\")\n",
    "column_17_tree=column_17_lin\n",
    "column_17_xgb=column_17_lin\n",
    "column_17_cat=df[\"column_17\"]\n",
    "#18\n",
    "column_18_lin=df[\"column_18\"]\n",
    "column_18_tree=column_18_lin\n",
    "column_18_xgb=column_18_lin\n",
    "column_18_cat=column_18_lin"
   ]
  },
  {
   "cell_type": "markdown",
   "metadata": {},
   "source": [
    "### Формирование датасетов"
   ]
  },
  {
   "cell_type": "code",
   "execution_count": 15,
   "metadata": {
    "code_folding": []
   },
   "outputs": [],
   "source": [
    "X_lin= pd.concat([column_1_lin,\n",
    "                  column_2_lin,\n",
    "                  column_3_lin,\n",
    "                  column_4_lin,\n",
    "                  column_5_lin,\n",
    "                  same_town_lin,\n",
    "                  column_6_lin,\n",
    "                  no_debts_lin,\n",
    "                  column_7_lin,\n",
    "                  column_8_lin,\n",
    "                  column_9_lin,\n",
    "                  column_10_lin,\n",
    "                  column_11_lin,\n",
    "                  column_12_lin,\n",
    "                  column_13_lin,\n",
    "                  column_15_lin,\n",
    "                  column_16_lin,\n",
    "                  column_17_lin,\n",
    "                  column_18_lin],axis=1)\n",
    "\n",
    "X_tree=pd.concat([column_1_tree,\n",
    "                  column_2_tree,\n",
    "                  column_3_tree,\n",
    "                  column_4_tree,\n",
    "                  column_5_tree,\n",
    "                  same_town_tree,\n",
    "                  column_6_tree,\n",
    "                  no_debts_tree,\n",
    "                  column_7_tree,\n",
    "                  column_8_tree,\n",
    "                  column_9_tree,\n",
    "                  column_10_tree,\n",
    "                  column_11_tree,\n",
    "                  column_12_tree,\n",
    "                  column_13_tree,\n",
    "                  column_15_tree,\n",
    "                  column_16_tree,\n",
    "                  column_17_tree,\n",
    "                  column_18_tree],axis=1)\n",
    "\n",
    "X_xgb= pd.concat([column_1_xgb,\n",
    "                  column_2_xgb,\n",
    "                  column_3_xgb,\n",
    "                  column_4_xgb,\n",
    "                  column_5_xgb,\n",
    "                  same_town_xgb,\n",
    "                  column_6_xgb,\n",
    "                  no_debts_xgb,\n",
    "                  column_7_xgb,\n",
    "                  column_8_xgb,\n",
    "                  column_9_xgb,\n",
    "                  column_10_xgb,\n",
    "                  column_11_xgb,\n",
    "                  column_12_xgb,\n",
    "                  column_13_xgb,\n",
    "                  column_15_xgb,\n",
    "                  column_16_xgb,\n",
    "                  column_17_xgb,\n",
    "                  column_18_xgb],axis=1)\n",
    "\n",
    "X_cat= pd.concat([column_1_cat,\n",
    "                  column_2_cat,\n",
    "                  column_3_cat,\n",
    "                  column_4_cat,\n",
    "                  column_5_cat,\n",
    "                  same_town_cat,\n",
    "                  column_6_cat,\n",
    "                  no_debts_cat,\n",
    "                  column_7_cat,\n",
    "                  column_8_cat,\n",
    "                  column_9_cat,\n",
    "                  column_10_cat,\n",
    "                  column_11_cat,\n",
    "                  column_12_cat,\n",
    "                  column_13_cat,\n",
    "                  column_15_cat,\n",
    "                  column_16_cat,\n",
    "                  column_17_cat,\n",
    "                  column_18_cat],axis=1)"
   ]
  },
  {
   "cell_type": "code",
   "execution_count": 16,
   "metadata": {},
   "outputs": [],
   "source": [
    "X_train_lin=X_lin[:sep]\n",
    "X_test_lin=X_lin[sep:]\n",
    "\n",
    "X_train_tree=X_tree[:sep]\n",
    "X_test_tree=X_tree[sep:]\n",
    "\n",
    "X_train_xgb=X_xgb[:sep]\n",
    "X_test_xgb=X_xgb[sep:]\n",
    "\n",
    "X_train_cat=X_cat[:sep]\n",
    "X_test_cat=X_cat[sep:]"
   ]
  },
  {
   "cell_type": "code",
   "execution_count": 17,
   "metadata": {},
   "outputs": [],
   "source": [
    "X_train_lin.to_csv(PATH_TO_DATA+\"X_train_lin.csv\",index=False)\n",
    "X_test_lin.to_csv(PATH_TO_DATA+\"X_test_lin.csv\",index=False)\n",
    "\n",
    "X_train_tree.to_csv(PATH_TO_DATA+\"X_train_tree.csv\",index=False)\n",
    "X_test_tree.to_csv(PATH_TO_DATA+\"X_test_tree.csv\",index=False)\n",
    "\n",
    "X_train_xgb.to_csv(PATH_TO_DATA+\"X_train_xgb.csv\",index=False)\n",
    "X_test_xgb.to_csv(PATH_TO_DATA+\"X_test_xgb.csv\",index=False)\n",
    "\n",
    "X_train_cat.to_csv(PATH_TO_DATA+\"X_train_cat.csv\",index=False)\n",
    "X_test_cat.to_csv(PATH_TO_DATA+\"X_test_cat.csv\",index=False)\n",
    "\n",
    "y.to_csv(PATH_TO_DATA+\"Y.csv\",header=True,index=False)\n",
    "classes.to_csv(PATH_TO_DATA+\"classes.csv\",header=True,index=False)"
   ]
  },
  {
   "cell_type": "code",
   "execution_count": null,
   "metadata": {},
   "outputs": [],
   "source": []
  }
 ],
 "metadata": {
  "kernelspec": {
   "display_name": "Python 3",
   "language": "python",
   "name": "python3"
  },
  "language_info": {
   "codemirror_mode": {
    "name": "ipython",
    "version": 3
   },
   "file_extension": ".py",
   "mimetype": "text/x-python",
   "name": "python",
   "nbconvert_exporter": "python",
   "pygments_lexer": "ipython3",
   "version": "3.6.4"
  },
  "toc": {
   "base_numbering": 1,
   "nav_menu": {},
   "number_sections": false,
   "sideBar": true,
   "skip_h1_title": false,
   "title_cell": "Table of Contents",
   "title_sidebar": "Contents",
   "toc_cell": false,
   "toc_position": {},
   "toc_section_display": true,
   "toc_window_display": false
  },
  "varInspector": {
   "cols": {
    "lenName": 16,
    "lenType": 16,
    "lenVar": 40
   },
   "kernels_config": {
    "python": {
     "delete_cmd_postfix": "",
     "delete_cmd_prefix": "del ",
     "library": "var_list.py",
     "varRefreshCmd": "print(var_dic_list())"
    },
    "r": {
     "delete_cmd_postfix": ") ",
     "delete_cmd_prefix": "rm(",
     "library": "var_list.r",
     "varRefreshCmd": "cat(var_dic_list()) "
    }
   },
   "types_to_exclude": [
    "module",
    "function",
    "builtin_function_or_method",
    "instance",
    "_Feature"
   ],
   "window_display": false
  }
 },
 "nbformat": 4,
 "nbformat_minor": 2
}
