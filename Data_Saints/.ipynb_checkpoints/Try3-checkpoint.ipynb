{
 "cells": [
  {
   "cell_type": "markdown",
   "metadata": {},
   "source": [
    "- Сформировать из 27 млн подвыборку 100 000\n",
    "- Сформировать обучающию выборку\n",
    "- Кластеризовать\n",
    "- Найти самые популярные товары в каждом кластере\n",
    "- Для пользователей каждого кластера порекомендовать товары которые популярны внутри кластеров но не куплены ими\n",
    "- Попытаться сделать для всех 27 млн"
   ]
  },
  {
   "cell_type": "code",
   "execution_count": 2,
   "metadata": {},
   "outputs": [],
   "source": [
    "PATH_TO_DATA=\"/Users/roman/Data_Saints/data/X5/\"\n",
    "import pandas as pd\n",
    "import numpy as np\n",
    "import matplotlib.pyplot as plt\n",
    "from tqdm import tqdm_notebook as tqdm\n",
    "\n",
    "%matplotlib inline\n",
    "\n",
    "from sklearn.cluster import k_means,KMeans\n",
    "from sklearn import metrics\n",
    "from sklearn.preprocessing import OneHotEncoder,normalize\n",
    "from sklearn.metrics.pairwise import pairwise_distances\n",
    "\n",
    "from scipy.cluster import hierarchy\n",
    "from scipy.spatial.distance import pdist\n",
    "\n",
    "from sklearn import metrics\n",
    "from sklearn.cluster import KMeans, AgglomerativeClustering, AffinityPropagation, SpectralClustering"
   ]
  },
  {
   "cell_type": "markdown",
   "metadata": {},
   "source": [
    "________"
   ]
  },
  {
   "cell_type": "code",
   "execution_count": 3,
   "metadata": {},
   "outputs": [
    {
     "data": {
      "text/html": [
       "<div>\n",
       "<style>\n",
       "    .dataframe thead tr:only-child th {\n",
       "        text-align: right;\n",
       "    }\n",
       "\n",
       "    .dataframe thead th {\n",
       "        text-align: left;\n",
       "    }\n",
       "\n",
       "    .dataframe tbody tr th {\n",
       "        vertical-align: top;\n",
       "    }\n",
       "</style>\n",
       "<table border=\"1\" class=\"dataframe\">\n",
       "  <thead>\n",
       "    <tr style=\"text-align: right;\">\n",
       "      <th></th>\n",
       "      <th>USER_ID</th>\n",
       "      <th>DT</th>\n",
       "      <th>PLU</th>\n",
       "      <th>QTY</th>\n",
       "      <th>ORDER_ID</th>\n",
       "    </tr>\n",
       "  </thead>\n",
       "  <tbody>\n",
       "    <tr>\n",
       "      <th>0</th>\n",
       "      <td>1</td>\n",
       "      <td>03.06.16</td>\n",
       "      <td>3456173</td>\n",
       "      <td>1</td>\n",
       "      <td>1</td>\n",
       "    </tr>\n",
       "    <tr>\n",
       "      <th>1</th>\n",
       "      <td>1</td>\n",
       "      <td>03.06.16</td>\n",
       "      <td>6178</td>\n",
       "      <td>0,24</td>\n",
       "      <td>1</td>\n",
       "    </tr>\n",
       "  </tbody>\n",
       "</table>\n",
       "</div>"
      ],
      "text/plain": [
       "   USER_ID        DT      PLU   QTY  ORDER_ID\n",
       "0        1  03.06.16  3456173     1         1\n",
       "1        1  03.06.16     6178  0,24         1"
      ]
     },
     "execution_count": 3,
     "metadata": {},
     "output_type": "execute_result"
    }
   ],
   "source": [
    "data=pd.read_csv(PATH_TO_DATA+\"X5.csv\",sep=\";\")\n",
    "data.head(2)"
   ]
  },
  {
   "cell_type": "code",
   "execution_count": 4,
   "metadata": {},
   "outputs": [
    {
     "data": {
      "text/plain": [
       "False"
      ]
     },
     "execution_count": 4,
     "metadata": {},
     "output_type": "execute_result"
    }
   ],
   "source": [
    "#Явных пропусков нет(хотя возможно есть заглушка)\n",
    "data.isnull().any().any()"
   ]
  },
  {
   "cell_type": "markdown",
   "metadata": {},
   "source": [
    "### Train and Test"
   ]
  },
  {
   "cell_type": "code",
   "execution_count": 5,
   "metadata": {},
   "outputs": [],
   "source": [
    "train=data[:100000]"
   ]
  },
  {
   "cell_type": "markdown",
   "metadata": {},
   "source": [
    "### Формирование обучающей выборки"
   ]
  },
  {
   "cell_type": "code",
   "execution_count": 6,
   "metadata": {},
   "outputs": [
    {
     "data": {
      "text/html": [
       "<div>\n",
       "<style>\n",
       "    .dataframe thead tr:only-child th {\n",
       "        text-align: right;\n",
       "    }\n",
       "\n",
       "    .dataframe thead th {\n",
       "        text-align: left;\n",
       "    }\n",
       "\n",
       "    .dataframe tbody tr th {\n",
       "        vertical-align: top;\n",
       "    }\n",
       "</style>\n",
       "<table border=\"1\" class=\"dataframe\">\n",
       "  <thead>\n",
       "    <tr style=\"text-align: right;\">\n",
       "      <th></th>\n",
       "      <th>USER_ID</th>\n",
       "      <th>DT</th>\n",
       "      <th>PLU</th>\n",
       "      <th>QTY</th>\n",
       "      <th>ORDER_ID</th>\n",
       "    </tr>\n",
       "  </thead>\n",
       "  <tbody>\n",
       "    <tr>\n",
       "      <th>0</th>\n",
       "      <td>1</td>\n",
       "      <td>03.06.16</td>\n",
       "      <td>3456173</td>\n",
       "      <td>1</td>\n",
       "      <td>1</td>\n",
       "    </tr>\n",
       "    <tr>\n",
       "      <th>1</th>\n",
       "      <td>1</td>\n",
       "      <td>03.06.16</td>\n",
       "      <td>6178</td>\n",
       "      <td>0,24</td>\n",
       "      <td>1</td>\n",
       "    </tr>\n",
       "  </tbody>\n",
       "</table>\n",
       "</div>"
      ],
      "text/plain": [
       "   USER_ID        DT      PLU   QTY  ORDER_ID\n",
       "0        1  03.06.16  3456173     1         1\n",
       "1        1  03.06.16     6178  0,24         1"
      ]
     },
     "execution_count": 6,
     "metadata": {},
     "output_type": "execute_result"
    }
   ],
   "source": [
    "train.head(2)"
   ]
  },
  {
   "cell_type": "code",
   "execution_count": 7,
   "metadata": {
    "collapsed": true
   },
   "outputs": [
    {
     "name": "stderr",
     "output_type": "stream",
     "text": [
      "/Users/roman/anaconda/lib/python3.6/site-packages/ipykernel_launcher.py:1: SettingWithCopyWarning: \n",
      "A value is trying to be set on a copy of a slice from a DataFrame\n",
      "\n",
      "See the caveats in the documentation: http://pandas.pydata.org/pandas-docs/stable/indexing.html#indexing-view-versus-copy\n",
      "  \"\"\"Entry point for launching an IPython kernel.\n"
     ]
    }
   ],
   "source": [
    "train.drop([\"DT\",\"QTY\"],axis=1,inplace=True)"
   ]
  },
  {
   "cell_type": "code",
   "execution_count": 8,
   "metadata": {},
   "outputs": [
    {
     "data": {
      "text/html": [
       "<div>\n",
       "<style>\n",
       "    .dataframe thead tr:only-child th {\n",
       "        text-align: right;\n",
       "    }\n",
       "\n",
       "    .dataframe thead th {\n",
       "        text-align: left;\n",
       "    }\n",
       "\n",
       "    .dataframe tbody tr th {\n",
       "        vertical-align: top;\n",
       "    }\n",
       "</style>\n",
       "<table border=\"1\" class=\"dataframe\">\n",
       "  <thead>\n",
       "    <tr style=\"text-align: right;\">\n",
       "      <th></th>\n",
       "      <th>USER_ID</th>\n",
       "      <th>PLU</th>\n",
       "      <th>ORDER_ID</th>\n",
       "    </tr>\n",
       "  </thead>\n",
       "  <tbody>\n",
       "    <tr>\n",
       "      <th>0</th>\n",
       "      <td>1</td>\n",
       "      <td>3456173</td>\n",
       "      <td>1</td>\n",
       "    </tr>\n",
       "    <tr>\n",
       "      <th>1</th>\n",
       "      <td>1</td>\n",
       "      <td>6178</td>\n",
       "      <td>1</td>\n",
       "    </tr>\n",
       "  </tbody>\n",
       "</table>\n",
       "</div>"
      ],
      "text/plain": [
       "   USER_ID      PLU  ORDER_ID\n",
       "0        1  3456173         1\n",
       "1        1     6178         1"
      ]
     },
     "execution_count": 8,
     "metadata": {},
     "output_type": "execute_result"
    }
   ],
   "source": [
    "train.head(2)"
   ]
  },
  {
   "cell_type": "code",
   "execution_count": 9,
   "metadata": {},
   "outputs": [
    {
     "data": {
      "text/html": [
       "<div>\n",
       "<style>\n",
       "    .dataframe thead tr:only-child th {\n",
       "        text-align: right;\n",
       "    }\n",
       "\n",
       "    .dataframe thead th {\n",
       "        text-align: left;\n",
       "    }\n",
       "\n",
       "    .dataframe tbody tr th {\n",
       "        vertical-align: top;\n",
       "    }\n",
       "</style>\n",
       "<table border=\"1\" class=\"dataframe\">\n",
       "  <thead>\n",
       "    <tr style=\"text-align: right;\">\n",
       "      <th></th>\n",
       "      <th>USER_ID</th>\n",
       "      <th>ORDER_ID</th>\n",
       "      <th>PLU_47</th>\n",
       "      <th>PLU_54</th>\n",
       "      <th>PLU_88</th>\n",
       "      <th>PLU_114</th>\n",
       "      <th>PLU_126</th>\n",
       "      <th>PLU_194</th>\n",
       "      <th>PLU_212</th>\n",
       "      <th>PLU_261</th>\n",
       "      <th>...</th>\n",
       "      <th>PLU_78005806</th>\n",
       "      <th>PLU_78005825</th>\n",
       "      <th>PLU_78005827</th>\n",
       "      <th>PLU_78005836</th>\n",
       "      <th>PLU_78005837</th>\n",
       "      <th>PLU_78005845</th>\n",
       "      <th>PLU_78006038</th>\n",
       "      <th>PLU_78006057</th>\n",
       "      <th>PLU_78006119</th>\n",
       "      <th>PLU_78006124</th>\n",
       "    </tr>\n",
       "  </thead>\n",
       "  <tbody>\n",
       "    <tr>\n",
       "      <th>0</th>\n",
       "      <td>1</td>\n",
       "      <td>1</td>\n",
       "      <td>0</td>\n",
       "      <td>0</td>\n",
       "      <td>0</td>\n",
       "      <td>0</td>\n",
       "      <td>0</td>\n",
       "      <td>0</td>\n",
       "      <td>0</td>\n",
       "      <td>0</td>\n",
       "      <td>...</td>\n",
       "      <td>0</td>\n",
       "      <td>0</td>\n",
       "      <td>0</td>\n",
       "      <td>0</td>\n",
       "      <td>0</td>\n",
       "      <td>0</td>\n",
       "      <td>0</td>\n",
       "      <td>0</td>\n",
       "      <td>0</td>\n",
       "      <td>0</td>\n",
       "    </tr>\n",
       "    <tr>\n",
       "      <th>1</th>\n",
       "      <td>1</td>\n",
       "      <td>1</td>\n",
       "      <td>0</td>\n",
       "      <td>0</td>\n",
       "      <td>0</td>\n",
       "      <td>0</td>\n",
       "      <td>0</td>\n",
       "      <td>0</td>\n",
       "      <td>0</td>\n",
       "      <td>0</td>\n",
       "      <td>...</td>\n",
       "      <td>0</td>\n",
       "      <td>0</td>\n",
       "      <td>0</td>\n",
       "      <td>0</td>\n",
       "      <td>0</td>\n",
       "      <td>0</td>\n",
       "      <td>0</td>\n",
       "      <td>0</td>\n",
       "      <td>0</td>\n",
       "      <td>0</td>\n",
       "    </tr>\n",
       "  </tbody>\n",
       "</table>\n",
       "<p>2 rows × 13991 columns</p>\n",
       "</div>"
      ],
      "text/plain": [
       "   USER_ID  ORDER_ID  PLU_47  PLU_54  PLU_88  PLU_114  PLU_126  PLU_194  \\\n",
       "0        1         1       0       0       0        0        0        0   \n",
       "1        1         1       0       0       0        0        0        0   \n",
       "\n",
       "   PLU_212  PLU_261      ...       PLU_78005806  PLU_78005825  PLU_78005827  \\\n",
       "0        0        0      ...                  0             0             0   \n",
       "1        0        0      ...                  0             0             0   \n",
       "\n",
       "   PLU_78005836  PLU_78005837  PLU_78005845  PLU_78006038  PLU_78006057  \\\n",
       "0             0             0             0             0             0   \n",
       "1             0             0             0             0             0   \n",
       "\n",
       "   PLU_78006119  PLU_78006124  \n",
       "0             0             0  \n",
       "1             0             0  \n",
       "\n",
       "[2 rows x 13991 columns]"
      ]
     },
     "execution_count": 9,
     "metadata": {},
     "output_type": "execute_result"
    }
   ],
   "source": [
    "#OHE\n",
    "\n",
    "OHE=pd.get_dummies(train.PLU,prefix=\"PLU\")\n",
    "columns_OHE=list(OHE.columns)\n",
    "\n",
    "#np.concatenate быстрее\n",
    "OHE=OHE.as_matrix()\n",
    "train_OHE=train.drop(\"PLU\",axis=1).as_matrix()\n",
    "\n",
    "train_row=np.concatenate([train_OHE,OHE],axis=1)\n",
    "\n",
    "train_OHE=pd.DataFrame(train_row,columns=[\"USER_ID\",\"ORDER_ID\"]+columns_OHE)\n",
    "train_OHE.head(2)"
   ]
  },
  {
   "cell_type": "code",
   "execution_count": 10,
   "metadata": {},
   "outputs": [],
   "source": [
    "train_drop_PLU=train.drop(\"PLU\",axis=1)\n",
    "num_purc=pd.pivot_table(train_drop_PLU,index=\"USER_ID\",aggfunc=\"max\")[\"ORDER_ID\"]"
   ]
  },
  {
   "cell_type": "code",
   "execution_count": 11,
   "metadata": {},
   "outputs": [
    {
     "name": "stdout",
     "output_type": "stream",
     "text": [
      "CPU times: user 18.2 s, sys: 37.1 s, total: 55.3 s\n",
      "Wall time: 1min 8s\n"
     ]
    }
   ],
   "source": [
    "%%time\n",
    "#ОЧЕНЬ ДОЛГО(на 100 000)\n",
    "df=pd.pivot_table(train_OHE,index=[\"USER_ID\"],aggfunc=np.sum)\n",
    "df[\"ORDER_ID\"]=num_purc\n",
    "\n",
    "df.head(2)"
   ]
  },
  {
   "cell_type": "markdown",
   "metadata": {},
   "source": [
    "### Кластеризация"
   ]
  },
  {
   "cell_type": "code",
   "execution_count": 12,
   "metadata": {
    "scrolled": true
   },
   "outputs": [
    {
     "data": {
      "image/png": "[encoded data removed]",
      "text/plain": [
       "<matplotlib.figure.Figure at 0x10b55fbe0>"
      ]
     },
     "metadata": {},
     "output_type": "display_data"
    }
   ],
   "source": [
    "distance_mat = pdist(normalize(df)) # pdist посчитает нам верхний треугольник матрицы попарных расстояний\n",
    "                            \n",
    "Z = hierarchy.linkage(distance_mat,method=\"ward\") # linkage — реализация агломеративного алгоритма\n",
    "plt.figure(figsize=(10, 5))\n",
    "dn = hierarchy.dendrogram(Z)"
   ]
  },
  {
   "cell_type": "code",
   "execution_count": 24,
   "metadata": {},
   "outputs": [
    {
     "data": {
      "application/vnd.jupyter.widget-view+json": {
       "model_id": "497edb4eb1314e06b5a3c918cef3b9a1"
      }
     },
     "metadata": {},
     "output_type": "display_data"
    },
    {
     "name": "stdout",
     "output_type": "stream",
     "text": [
      "\n"
     ]
    },
    {
     "data": {
      "image/png": "[encoded data removed]",
      "text/plain": [
       "<matplotlib.figure.Figure at 0x1a144bcfd0>"
      ]
     },
     "metadata": {},
     "output_type": "display_data"
    }
   ],
   "source": [
    "inertia = []\n",
    "for k in tqdm(range(1, 8)):\n",
    "    kmeans = KMeans(n_clusters=k, random_state=17).fit(normalize(df,norm=\"l1\"))\n",
    "    inertia.append(np.sqrt(kmeans.inertia_))\n",
    "\n",
    "plt.plot(range(1, 8), inertia, marker='s');\n",
    "plt.ylabel('$J(C_k)$');"
   ]
  },
  {
   "cell_type": "markdown",
   "metadata": {},
   "source": [
    "___________________"
   ]
  },
  {
   "cell_type": "markdown",
   "metadata": {},
   "source": [
    "**Вывод**:\n",
    "- Основываясь на дендрограмме варда и методе локтя оптимальное кол-во кластеров **3**\n",
    "- Силует показал что метод **kmeans** лучше AgglomerativeClustering\n",
    "\n",
    "Дальнейшая модель будет строиться на:\n",
    "- 3 кластерах\n",
    "- Нормализованных данных (норма L1)\n",
    "- Методом kmeans"
   ]
  },
  {
   "cell_type": "markdown",
   "metadata": {},
   "source": [
    "### Поиск самых популярных товаров в каждом кластере"
   ]
  },
  {
   "cell_type": "code",
   "execution_count": 25,
   "metadata": {},
   "outputs": [
    {
     "data": {
      "text/plain": [
       "1    607\n",
       "0    204\n",
       "2     53\n",
       "dtype: int64"
      ]
     },
     "execution_count": 25,
     "metadata": {},
     "output_type": "execute_result"
    }
   ],
   "source": [
    "#Распределение классов\n",
    "kmeans=KMeans(n_clusters=3, random_state=17).fit(normalize(df,norm=\"l1\"))    \n",
    "pd.Series(kmeans.labels_).value_counts()"
   ]
  },
  {
   "cell_type": "code",
   "execution_count": 26,
   "metadata": {},
   "outputs": [],
   "source": [
    "df[\"class\"]=kmeans.labels_"
   ]
  },
  {
   "cell_type": "code",
   "execution_count": 27,
   "metadata": {},
   "outputs": [
    {
     "data": {
      "text/html": [
       "<div>\n",
       "<style>\n",
       "    .dataframe thead tr:only-child th {\n",
       "        text-align: right;\n",
       "    }\n",
       "\n",
       "    .dataframe thead th {\n",
       "        text-align: left;\n",
       "    }\n",
       "\n",
       "    .dataframe tbody tr th {\n",
       "        vertical-align: top;\n",
       "    }\n",
       "</style>\n",
       "<table border=\"1\" class=\"dataframe\">\n",
       "  <thead>\n",
       "    <tr style=\"text-align: right;\">\n",
       "      <th></th>\n",
       "      <th>ORDER_ID</th>\n",
       "      <th>PLU_10003</th>\n",
       "      <th>PLU_10004</th>\n",
       "      <th>PLU_10019</th>\n",
       "      <th>PLU_10036</th>\n",
       "      <th>PLU_10087</th>\n",
       "      <th>PLU_10126</th>\n",
       "      <th>PLU_10147</th>\n",
       "      <th>PLU_10168</th>\n",
       "      <th>PLU_10170</th>\n",
       "      <th>...</th>\n",
       "      <th>PLU_99277</th>\n",
       "      <th>PLU_99330</th>\n",
       "      <th>PLU_99517</th>\n",
       "      <th>PLU_99556</th>\n",
       "      <th>PLU_99557</th>\n",
       "      <th>PLU_9966</th>\n",
       "      <th>PLU_99710</th>\n",
       "      <th>PLU_99768</th>\n",
       "      <th>PLU_99850</th>\n",
       "      <th>PLU_9994</th>\n",
       "    </tr>\n",
       "    <tr>\n",
       "      <th>class</th>\n",
       "      <th></th>\n",
       "      <th></th>\n",
       "      <th></th>\n",
       "      <th></th>\n",
       "      <th></th>\n",
       "      <th></th>\n",
       "      <th></th>\n",
       "      <th></th>\n",
       "      <th></th>\n",
       "      <th></th>\n",
       "      <th></th>\n",
       "      <th></th>\n",
       "      <th></th>\n",
       "      <th></th>\n",
       "      <th></th>\n",
       "      <th></th>\n",
       "      <th></th>\n",
       "      <th></th>\n",
       "      <th></th>\n",
       "      <th></th>\n",
       "      <th></th>\n",
       "    </tr>\n",
       "  </thead>\n",
       "  <tbody>\n",
       "    <tr>\n",
       "      <th>0</th>\n",
       "      <td>3701</td>\n",
       "      <td>0</td>\n",
       "      <td>0</td>\n",
       "      <td>0</td>\n",
       "      <td>0</td>\n",
       "      <td>0</td>\n",
       "      <td>26</td>\n",
       "      <td>2</td>\n",
       "      <td>4</td>\n",
       "      <td>0</td>\n",
       "      <td>...</td>\n",
       "      <td>0</td>\n",
       "      <td>0</td>\n",
       "      <td>0</td>\n",
       "      <td>0</td>\n",
       "      <td>0</td>\n",
       "      <td>0</td>\n",
       "      <td>1</td>\n",
       "      <td>0</td>\n",
       "      <td>0</td>\n",
       "      <td>1</td>\n",
       "    </tr>\n",
       "    <tr>\n",
       "      <th>1</th>\n",
       "      <td>9177</td>\n",
       "      <td>4</td>\n",
       "      <td>2</td>\n",
       "      <td>6</td>\n",
       "      <td>2</td>\n",
       "      <td>1</td>\n",
       "      <td>148</td>\n",
       "      <td>1</td>\n",
       "      <td>42</td>\n",
       "      <td>4</td>\n",
       "      <td>...</td>\n",
       "      <td>1</td>\n",
       "      <td>1</td>\n",
       "      <td>2</td>\n",
       "      <td>1</td>\n",
       "      <td>2</td>\n",
       "      <td>5</td>\n",
       "      <td>5</td>\n",
       "      <td>2</td>\n",
       "      <td>6</td>\n",
       "      <td>1</td>\n",
       "    </tr>\n",
       "    <tr>\n",
       "      <th>2</th>\n",
       "      <td>89</td>\n",
       "      <td>0</td>\n",
       "      <td>0</td>\n",
       "      <td>0</td>\n",
       "      <td>0</td>\n",
       "      <td>0</td>\n",
       "      <td>0</td>\n",
       "      <td>0</td>\n",
       "      <td>0</td>\n",
       "      <td>0</td>\n",
       "      <td>...</td>\n",
       "      <td>0</td>\n",
       "      <td>0</td>\n",
       "      <td>0</td>\n",
       "      <td>0</td>\n",
       "      <td>0</td>\n",
       "      <td>0</td>\n",
       "      <td>0</td>\n",
       "      <td>0</td>\n",
       "      <td>0</td>\n",
       "      <td>0</td>\n",
       "    </tr>\n",
       "  </tbody>\n",
       "</table>\n",
       "<p>3 rows × 13990 columns</p>\n",
       "</div>"
      ],
      "text/plain": [
       "       ORDER_ID  PLU_10003  PLU_10004  PLU_10019  PLU_10036  PLU_10087  \\\n",
       "class                                                                    \n",
       "0          3701          0          0          0          0          0   \n",
       "1          9177          4          2          6          2          1   \n",
       "2            89          0          0          0          0          0   \n",
       "\n",
       "       PLU_10126  PLU_10147  PLU_10168  PLU_10170    ...     PLU_99277  \\\n",
       "class                                                ...                 \n",
       "0             26          2          4          0    ...             0   \n",
       "1            148          1         42          4    ...             1   \n",
       "2              0          0          0          0    ...             0   \n",
       "\n",
       "       PLU_99330  PLU_99517  PLU_99556  PLU_99557  PLU_9966  PLU_99710  \\\n",
       "class                                                                    \n",
       "0              0          0          0          0         0          1   \n",
       "1              1          2          1          2         5          5   \n",
       "2              0          0          0          0         0          0   \n",
       "\n",
       "       PLU_99768  PLU_99850  PLU_9994  \n",
       "class                                  \n",
       "0              0          0         1  \n",
       "1              2          6         1  \n",
       "2              0          0         0  \n",
       "\n",
       "[3 rows x 13990 columns]"
      ]
     },
     "execution_count": 27,
     "metadata": {},
     "output_type": "execute_result"
    }
   ],
   "source": [
    "#Предсказание самых популярныйх товаров в каждом классе (по хорошему нужно бы по времени еще)\n",
    "goods=pd.pivot_table(df,index=\"class\",aggfunc=\"sum\")\n",
    "goods"
   ]
  },
  {
   "cell_type": "code",
   "execution_count": 28,
   "metadata": {},
   "outputs": [],
   "source": [
    "#N самых популярных товаров в каждом кластере\n",
    "n_goods=10\n",
    "n_class=3\n",
    "clasters=[]\n",
    "for n in range(n_class):\n",
    "    clasters.append(goods[goods.index==n].T.sort_values(by=n,ascending=False).drop(\"ORDER_ID\")[n][:n_goods])"
   ]
  },
  {
   "cell_type": "markdown",
   "metadata": {},
   "source": [
    "### Для каждого клиента в своем кластере рекомендация популярных(но ренее не покупаемых) товаров"
   ]
  },
  {
   "cell_type": "code",
   "execution_count": 29,
   "metadata": {},
   "outputs": [
    {
     "data": {
      "application/vnd.jupyter.widget-view+json": {
       "model_id": "5a90fbba8b2e46db8c92565960c5acd7"
      }
     },
     "metadata": {},
     "output_type": "display_data"
    },
    {
     "name": "stdout",
     "output_type": "stream",
     "text": [
      "\n"
     ]
    }
   ],
   "source": [
    "n_class=3\n",
    "result={}\n",
    "for n in tqdm(range(n_class)):\n",
    "    num_row=df[df[\"class\"]==n].shape[0]\n",
    "    for i in range(num_row):\n",
    "        tmp=df[df[\"class\"]==n][clasters[n].keys()].iloc[i,:]==0\n",
    "        num=tmp.name\n",
    "        values=df[df[\"class\"]==n][clasters[n].keys()].iloc[i,:][tmp].keys()\n",
    "        result[num]=list(values)\n",
    "    "
   ]
  },
  {
   "cell_type": "code",
   "execution_count": 30,
   "metadata": {},
   "outputs": [],
   "source": [
    "result_visual={}\n",
    "for i in result:\n",
    "    result_visual[i]=len(result[i])"
   ]
  },
  {
   "cell_type": "code",
   "execution_count": 31,
   "metadata": {},
   "outputs": [
    {
     "data": {
      "image/png": "[encoded data removed]",
      "text/plain": [
       "<matplotlib.figure.Figure at 0x1a14404c88>"
      ]
     },
     "metadata": {},
     "output_type": "display_data"
    }
   ],
   "source": [
    "pd.Series(result_visual).hist();"
   ]
  },
  {
   "cell_type": "code",
   "execution_count": 32,
   "metadata": {},
   "outputs": [
    {
     "data": {
      "text/plain": [
       "175"
      ]
     },
     "execution_count": 32,
     "metadata": {},
     "output_type": "execute_result"
    }
   ],
   "source": [
    "edge=4 #Выше скольки товаров не некомендовать(если из 10 нужно порекомендовать 6 то возможно что не стоит вообще)\n",
    "result2=pd.Series(result).apply(lambda x: np.NaN if len(x)>edge or len(x)==0 else x)\n",
    "result2_final=result2.dropna()\n",
    "len(result2_final)"
   ]
  },
  {
   "cell_type": "markdown",
   "metadata": {},
   "source": [
    "## Итого"
   ]
  },
  {
   "cell_type": "markdown",
   "metadata": {},
   "source": [
    "Из **864** клиентов нашлось найти **175**, которым можно порекомендовать товар который они скорее всего купят"
   ]
  }
 ],
 "metadata": {
  "kernelspec": {
   "display_name": "Python 3",
   "language": "python",
   "name": "python3"
  },
  "language_info": {
   "codemirror_mode": {
    "name": "ipython",
    "version": 3
   },
   "file_extension": ".py",
   "mimetype": "text/x-python",
   "name": "python",
   "nbconvert_exporter": "python",
   "pygments_lexer": "ipython3",
   "version": "3.6.1"
  }
 },
 "nbformat": 4,
 "nbformat_minor": 2
}
