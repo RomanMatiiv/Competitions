{
 "cells": [
  {
   "cell_type": "code",
   "execution_count": 1,
   "metadata": {},
   "outputs": [
    {
     "name": "stderr",
     "output_type": "stream",
     "text": [
      "/Users/romanmatiiv/anaconda/lib/python2.7/site-packages/sklearn/lda.py:6: DeprecationWarning: lda.LDA has been moved to discriminant_analysis.LinearDiscriminantAnalysis in 0.17 and will be removed in 0.19\n",
      "  \"in 0.17 and will be removed in 0.19\", DeprecationWarning)\n"
     ]
    }
   ],
   "source": [
    "# coding: utf8\n",
    "#http://easydan.com/arts/2016/hierarchy-clustering/ - источник\n",
    "%matplotlib inline\n",
    "# Общие функции кластеризации\n",
    "from scipy.cluster.hierarchy import *\n",
    "from scipy.spatial.distance import pdist\n",
    "\n",
    "# Для оценки качества кластеров как смеси распределений\n",
    "from sklearn import mixture\n",
    "\n",
    "# Анализа главных компонент\n",
    "from sklearn.decomposition import PCA \n",
    "\n",
    "# Линейный дискриминантный анализ\n",
    "from sklearn.lda import LDA\n",
    "\n",
    "\n",
    "# Для загрузки данных из xls документа\n",
    "import pandas as pd\n",
    "\n",
    "# Для отрисовки графиков\n",
    "from pylab import *"
   ]
  },
  {
   "cell_type": "code",
   "execution_count": 2,
   "metadata": {
    "collapsed": true
   },
   "outputs": [],
   "source": [
    "# Для вопроизодимости результатов, зависящих от генератора случайных чисел\n",
    "np.random.seed(1000)\n",
    "\n",
    "\n",
    "# Настройка шрифтов для будущих графиков\n",
    "rcParams['font.family'] = 'DejaVu Sans' # Понимает русские буквы\n",
    "rcParams['font.size'] = 16\n"
   ]
  },
  {
   "cell_type": "code",
   "execution_count": 3,
   "metadata": {},
   "outputs": [
    {
     "name": "stderr",
     "output_type": "stream",
     "text": [
      "/Users/romanmatiiv/anaconda/lib/python2.7/site-packages/ipykernel_launcher.py:12: DeprecationWarning: \n",
      ".ix is deprecated. Please use\n",
      ".loc for label based indexing or\n",
      ".iloc for positional indexing\n",
      "\n",
      "See the documentation here:\n",
      "http://pandas.pydata.org/pandas-docs/stable/indexing.html#deprecate_ix\n",
      "  if sys.path[0] == '':\n"
     ]
    }
   ],
   "source": [
    "# Загрузим данные из xls документа\n",
    "data = pd.read_excel('data.xls')\n",
    "\n",
    "# Уберем последнюю букву из наименования строк,\n",
    "# она в кириллице и могут быть проблемы с \n",
    "# пакетами программ ниже\n",
    "labels = map(lambda x: x[:-1], list(data['name']))\n",
    "\n",
    "\n",
    "# Выделим данные, начиная с первой колонки\n",
    "# Это то, что подлежит анализу\n",
    "data_for_clust =  data.ix[:,1:].as_matrix()"
   ]
  },
  {
   "cell_type": "code",
   "execution_count": 8,
   "metadata": {
    "collapsed": true
   },
   "outputs": [],
   "source": [
    "#Main\n",
    "# Вычислим расстояния между каждым набором данных,\n",
    "# т.е. строками массива data_for_clust\n",
    "# Вычисляется евклидово расстояние (по умолчанию)\n",
    "data_dist = pdist(data_for_clust, 'euclidean')\n",
    "#Main\n",
    "# Главная функция иерархической кластеризии\n",
    "# Объедение элементов в кластера и сохранение в \n",
    "# специальной переменной (используется ниже для визуализации \n",
    "# и выделения количества кластеров\n",
    "data_linkage = linkage(data_dist, method='average')"
   ]
  },
  {
   "cell_type": "code",
   "execution_count": 11,
   "metadata": {},
   "outputs": [
    {
     "data": {
      "image/png": "[encoded data removed]",
      "text/plain": [
       "<matplotlib.figure.Figure at 0x1160f3bd0>"
      ]
     },
     "metadata": {},
     "output_type": "display_data"
    }
   ],
   "source": [
    "figure()\n",
    "dendrogram(data_linkage, labels=labels)\n",
    "title(u'Дендрограмма')\n",
    "\n",
    "show()"
   ]
  },
  {
   "cell_type": "markdown",
   "metadata": {
    "collapsed": true
   },
   "source": [
    "# K-means"
   ]
  },
  {
   "cell_type": "code",
   "execution_count": 12,
   "metadata": {
    "collapsed": true
   },
   "outputs": [],
   "source": [
    "from sklearn.cluster import KMeans"
   ]
  },
  {
   "cell_type": "code",
   "execution_count": 13,
   "metadata": {
    "collapsed": true
   },
   "outputs": [],
   "source": [
    "kmeans = KMeans(n_clusters=2, random_state=0).fit(data_for_clust)"
   ]
  },
  {
   "cell_type": "code",
   "execution_count": 15,
   "metadata": {
    "collapsed": true
   },
   "outputs": [],
   "source": [
    "pred=kmeans.labels_"
   ]
  },
  {
   "cell_type": "code",
   "execution_count": 16,
   "metadata": {},
   "outputs": [
    {
     "data": {
      "text/plain": [
       "25"
      ]
     },
     "execution_count": 16,
     "metadata": {},
     "output_type": "execute_result"
    }
   ],
   "source": [
    "len(pred)"
   ]
  },
  {
   "cell_type": "code",
   "execution_count": 19,
   "metadata": {},
   "outputs": [
    {
     "data": {
      "text/plain": [
       "array([1, 1, 0, 0, 0, 0, 1, 1, 0, 1, 0, 0, 0, 1, 0, 1, 1, 0, 0, 0, 1, 1, 1,\n",
       "       0, 1], dtype=int32)"
      ]
     },
     "execution_count": 19,
     "metadata": {},
     "output_type": "execute_result"
    }
   ],
   "source": [
    "pred"
   ]
  },
  {
   "cell_type": "code",
   "execution_count": null,
   "metadata": {
    "collapsed": true
   },
   "outputs": [],
   "source": []
  }
 ],
 "metadata": {
  "kernelspec": {
   "display_name": "Python 2",
   "language": "python",
   "name": "python2"
  },
  "language_info": {
   "codemirror_mode": {
    "name": "ipython",
    "version": 2
   },
   "file_extension": ".py",
   "mimetype": "text/x-python",
   "name": "python",
   "nbconvert_exporter": "python",
   "pygments_lexer": "ipython2",
   "version": "2.7.13"
  }
 },
 "nbformat": 4,
 "nbformat_minor": 2
}
