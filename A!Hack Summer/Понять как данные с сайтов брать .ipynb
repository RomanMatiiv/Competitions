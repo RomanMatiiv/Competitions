{
 "cells": [
  {
   "cell_type": "code",
   "execution_count": 1,
   "metadata": {
    "collapsed": true
   },
   "outputs": [],
   "source": [
    "import lxml.html as html\n",
    "from pandas import DataFrame"
   ]
  },
  {
   "cell_type": "code",
   "execution_count": 2,
   "metadata": {
    "collapsed": true
   },
   "outputs": [],
   "source": [
    "#main_domain_stat = 'http://hosteddb.fightmetric.com'\n",
    "main_domain_stat = 'http://business-platform.ru'"
   ]
  },
  {
   "cell_type": "code",
   "execution_count": 3,
   "metadata": {
    "collapsed": true
   },
   "outputs": [],
   "source": [
    "#page = html.parse('%s/events/index/date/desc/1/all' % (main_domain_stat))\n",
    "page = html.parse('%s/projects' % (main_domain_stat))"
   ]
  },
  {
   "cell_type": "code",
   "execution_count": 4,
   "metadata": {
    "collapsed": true
   },
   "outputs": [],
   "source": [
    "#e = page.getroot().find_class('events_table data_table row_is_link').pop()\n",
    "e = page.getroot().find_class('projectTillTitle').pop()"
   ]
  },
  {
   "cell_type": "code",
   "execution_count": 5,
   "metadata": {
    "collapsed": true
   },
   "outputs": [],
   "source": [
    "t = e.getchildren().pop()"
   ]
  },
  {
   "cell_type": "code",
   "execution_count": 9,
   "metadata": {},
   "outputs": [
    {
     "name": "stdout",
     "output_type": "stream",
     "text": [
      "ÐÐ°Ð·Ð° Ð´Ð»Ñ ÑÐµÐ¼ÐµÐ¹Ð½Ð¾Ð³Ð¾ Ð¾ÑÐ´ÑÑ",
      "Ð°\n",
      "4\n"
     ]
    }
   ],
   "source": [
    "for i in t.iterlinks():\n",
    "    print(i[0].text.encode(\"utf-8\"))\n",
    "    print len(i)"
   ]
  },
  {
   "cell_type": "code",
   "execution_count": null,
   "metadata": {
    "collapsed": true
   },
   "outputs": [],
   "source": [
    "#https://business-platform.ru/projects/\n",
    "#https://habrahabr.ru/post/220125/"
   ]
  },
  {
   "cell_type": "code",
   "execution_count": null,
   "metadata": {
    "collapsed": true
   },
   "outputs": [],
   "source": []
  },
  {
   "cell_type": "code",
   "execution_count": null,
   "metadata": {
    "collapsed": true
   },
   "outputs": [],
   "source": []
  },
  {
   "cell_type": "code",
   "execution_count": null,
   "metadata": {
    "collapsed": true
   },
   "outputs": [],
   "source": []
  },
  {
   "cell_type": "code",
   "execution_count": null,
   "metadata": {
    "collapsed": true
   },
   "outputs": [],
   "source": []
  },
  {
   "cell_type": "code",
   "execution_count": null,
   "metadata": {
    "collapsed": true
   },
   "outputs": [],
   "source": []
  },
  {
   "cell_type": "code",
   "execution_count": 30,
   "metadata": {
    "collapsed": true
   },
   "outputs": [],
   "source": [
    "tmp=page.getroot().find_class('projectTillTitle')"
   ]
  },
  {
   "cell_type": "code",
   "execution_count": 32,
   "metadata": {},
   "outputs": [
    {
     "data": {
      "text/plain": [
       "[<Element div at 0x1067a3998>,\n",
       " <Element div at 0x1067a3ba8>,\n",
       " <Element div at 0x1067a3c00>,\n",
       " <Element div at 0x1067a3c58>,\n",
       " <Element div at 0x1067a3cb0>,\n",
       " <Element div at 0x1067a3d08>,\n",
       " <Element div at 0x1067a3d60>,\n",
       " <Element div at 0x1067a3db8>,\n",
       " <Element div at 0x1067a3e10>,\n",
       " <Element div at 0x1067a3e68>,\n",
       " <Element div at 0x1067a3ec0>,\n",
       " <Element div at 0x1067a3f18>,\n",
       " <Element div at 0x1067a3f70>,\n",
       " <Element div at 0x1067a3fc8>,\n",
       " <Element div at 0x1067a3730>]"
      ]
     },
     "execution_count": 32,
     "metadata": {},
     "output_type": "execute_result"
    }
   ],
   "source": [
    "tmp"
   ]
  },
  {
   "cell_type": "code",
   "execution_count": null,
   "metadata": {
    "collapsed": true
   },
   "outputs": [],
   "source": []
  }
 ],
 "metadata": {
  "kernelspec": {
   "display_name": "Python 2",
   "language": "python",
   "name": "python2"
  },
  "language_info": {
   "codemirror_mode": {
    "name": "ipython",
    "version": 2
   },
   "file_extension": ".py",
   "mimetype": "text/x-python",
   "name": "python",
   "nbconvert_exporter": "python",
   "pygments_lexer": "ipython2",
   "version": "2.7.12"
  }
 },
 "nbformat": 4,
 "nbformat_minor": 2
}
