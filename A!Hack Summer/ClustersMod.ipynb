{
 "cells": [
  {
   "cell_type": "code",
   "execution_count": 1,
   "metadata": {
    "collapsed": true
   },
   "outputs": [],
   "source": [
    "import pandas as pd\n",
    "import datetime\n",
    "from sklearn.preprocessing import LabelEncoder\n",
    "\n",
    "# Общие функции кластеризации\n",
    "from scipy.cluster.hierarchy import *\n",
    "from scipy.spatial.distance import pdist\n",
    "\n",
    "from pylab import *\n",
    "%matplotlib inline\n",
    "\n",
    "from sklearn.cluster import KMeans\n",
    "\n",
    "from sklearn.preprocessing import normalize\n",
    "\n",
    "import warnings\n",
    "warnings.filterwarnings('ignore')"
   ]
  },
  {
   "cell_type": "code",
   "execution_count": 2,
   "metadata": {
    "collapsed": true
   },
   "outputs": [],
   "source": [
    "data=pd.read_csv(\"Customers.csv\",sep=\";\",index_col=\"CLIENT_UK\")"
   ]
  },
  {
   "cell_type": "code",
   "execution_count": 3,
   "metadata": {
    "collapsed": true
   },
   "outputs": [],
   "source": [
    "data.replace({\"F\":0,\"M\":1},inplace=True)\n",
    "data.replace({\"Y\":1,\"N\":0},inplace=True)\n",
    "\n",
    "data[\"ADRESS\"]=map(lambda x: x.decode(\"cp1251\"), list(data['ADRESS']))\n",
    "data[\"SRVPACKAGE_GRP\"]=map(lambda x: x.decode(\"cp1251\"), list(data['SRVPACKAGE_GRP']))\n",
    "\n",
    "data.dropna(inplace=True)\n",
    "\n",
    "data[\"CLIENT_ACTIVE_DATE\"]=data[\"CLIENT_ACTIVE_DATE\"].astype(str)\n",
    "data[\"CLIENT_ACTIVE_DATE\"]=map(lambda x: datetime.datetime.strptime(x, \"%d.%m.%Y\").year, list(data[\"CLIENT_ACTIVE_DATE\"]))\n",
    "data[\"START_DATE\"]=map(lambda x: datetime.datetime.strptime(x, \"%d.%m.%Y\").year, list(data[\"START_DATE\"]))\n"
   ]
  },
  {
   "cell_type": "code",
   "execution_count": 4,
   "metadata": {
    "collapsed": true
   },
   "outputs": [],
   "source": [
    "df=data[[\"GENDER_CCODE\",\"BIRTH_DATE\",\"START_DATE\",\"CLIENT_ACTIVE_FLAG\",\"CLIENT_ACTIVE_DATE\",\"ADRESS\",\"SALARYSTATUS_FLAG\",\"PRIMARYBANK_FLAG\",\"MOBILE_PHONE_FLAG\",\"EMAIL_FLAG\"]]"
   ]
  },
  {
   "cell_type": "code",
   "execution_count": 5,
   "metadata": {
    "collapsed": true
   },
   "outputs": [],
   "source": [
    "df[\"BIRTH_DATE\"]=2017-df[\"BIRTH_DATE\"]\n",
    "df[\"START_DATE\"]=2017-df[\"START_DATE\"]\n",
    "df[\"CLIENT_ACTIVE_DATE\"]=2017-df[\"CLIENT_ACTIVE_DATE\"]"
   ]
  },
  {
   "cell_type": "code",
   "execution_count": 6,
   "metadata": {
    "collapsed": true
   },
   "outputs": [],
   "source": [
    "le=LabelEncoder()\n",
    "df[\"ADRESS\"]=le.fit_transform(df[\"ADRESS\"])"
   ]
  },
  {
   "cell_type": "code",
   "execution_count": 7,
   "metadata": {
    "collapsed": true
   },
   "outputs": [],
   "source": [
    "df[\"BIRTH_DATE\"]=normalize(df[\"BIRTH_DATE\"])[0]\n",
    "df[\"START_DATE\"]=normalize(df[\"START_DATE\"])[0]\n",
    "df[\"CLIENT_ACTIVE_DATE\"]=normalize(df[\"CLIENT_ACTIVE_DATE\"])[0]\n",
    "df[\"ADRESS\"]=normalize(df[\"ADRESS\"])[0]"
   ]
  },
  {
   "cell_type": "markdown",
   "metadata": {
    "collapsed": true
   },
   "source": [
    "### Поиск оптимального кол-ва кластеров"
   ]
  },
  {
   "cell_type": "code",
   "execution_count": 8,
   "metadata": {
    "collapsed": true
   },
   "outputs": [],
   "source": [
    "# Настройка шрифтов для будущих графиков\n",
    "rcParams['font.family'] = 'DejaVu Sans' # Понимает русские буквы\n",
    "rcParams['font.size'] = 16"
   ]
  },
  {
   "cell_type": "code",
   "execution_count": 9,
   "metadata": {
    "collapsed": true
   },
   "outputs": [],
   "source": [
    "df2=df.as_matrix()"
   ]
  },
  {
   "cell_type": "code",
   "execution_count": 10,
   "metadata": {
    "collapsed": true
   },
   "outputs": [],
   "source": [
    "# Вычисляем расстояние\n",
    "data_dist = pdist(df2, 'euclidean')\n",
    "# Для кластерризации\n",
    "data_linkage = linkage(data_dist, method='average')"
   ]
  },
  {
   "cell_type": "code",
   "execution_count": 11,
   "metadata": {},
   "outputs": [
    {
     "data": {
      "image/png": "[encoded data removed]",
      "text/plain": [
       "<matplotlib.figure.Figure at 0x1170e3f10>"
      ]
     },
     "metadata": {},
     "output_type": "display_data"
    }
   ],
   "source": [
    "figure()\n",
    "dendrogram(data_linkage)\n",
    "title(u'Дендрограмма')\n",
    "show()\n",
    "#savefig('myimage.png', format='png', dpi=1200)"
   ]
  },
  {
   "cell_type": "markdown",
   "metadata": {
    "collapsed": true
   },
   "source": [
    "### Кластеризация"
   ]
  },
  {
   "cell_type": "code",
   "execution_count": 12,
   "metadata": {
    "collapsed": true
   },
   "outputs": [],
   "source": [
    "kmeans = KMeans(n_clusters=6, random_state=0).fit(df2)\n",
    "arr=kmeans.labels_"
   ]
  },
  {
   "cell_type": "code",
   "execution_count": 13,
   "metadata": {
    "collapsed": true
   },
   "outputs": [],
   "source": [
    "clust=pd.DataFrame(arr,index=None)"
   ]
  },
  {
   "cell_type": "code",
   "execution_count": 17,
   "metadata": {
    "collapsed": true
   },
   "outputs": [],
   "source": [
    "tmp=[]\n",
    "for i in range(0,len(df.index)):\n",
    "               tmp.append([df.index[i],clust[0][i]])\n",
    "        \n",
    "ans=pd.DataFrame(tmp,columns=([\"ID\",\"CLUST\"]))\n",
    "ans=ans.set_index(\"ID\")"
   ]
  },
  {
   "cell_type": "code",
   "execution_count": 18,
   "metadata": {
    "collapsed": true
   },
   "outputs": [],
   "source": [
    "ans.to_csv(\"ans.csv\")"
   ]
  },
  {
   "cell_type": "code",
   "execution_count": 19,
   "metadata": {
    "collapsed": true
   },
   "outputs": [],
   "source": [
    "ans.to_excel(\"ans.xlsx\")"
   ]
  },
  {
   "cell_type": "code",
   "execution_count": null,
   "metadata": {
    "collapsed": true
   },
   "outputs": [],
   "source": []
  },
  {
   "cell_type": "code",
   "execution_count": null,
   "metadata": {
    "collapsed": true
   },
   "outputs": [],
   "source": []
  }
 ],
 "metadata": {
  "kernelspec": {
   "display_name": "Python 2",
   "language": "python",
   "name": "python2"
  },
  "language_info": {
   "codemirror_mode": {
    "name": "ipython",
    "version": 2
   },
   "file_extension": ".py",
   "mimetype": "text/x-python",
   "name": "python",
   "nbconvert_exporter": "python",
   "pygments_lexer": "ipython2",
   "version": "2.7.13"
  }
 },
 "nbformat": 4,
 "nbformat_minor": 2
}
